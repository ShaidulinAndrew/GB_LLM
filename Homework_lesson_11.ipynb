{
 "cells": [
  {
   "cell_type": "markdown",
   "metadata": {
    "id": "J0Qjg6vuaHNt"
   },
   "source": [
    "# Transformer model for language understanding"
   ]
  },
  {
   "cell_type": "markdown",
   "metadata": {
    "id": "M-f8TnGpE_ex"
   },
   "source": [
    "Основная идея, лежащая в основе модели Transformer, - это самовнимание - способность отслеживать различные позиции входной последовательности для вычисления представления этой последовательности. Transformer создает стопки слоев самовнимания, что объясняется ниже в разделах « Масштабируемое скалярное произведение» и « Многоголовое внимание» .\n",
    "\n",
    "Модель преобразователя обрабатывает входные данные переменного размера, используя стопки слоев самовнимания вместо RNN или CNN . Эта общая архитектура имеет ряд преимуществ:\n",
    "\n",
    "* Он не делает никаких предположений о временных / пространственных отношениях между данными. Это идеально подходит для обработки набора объектов.\n",
    "* Выходы уровня можно вычислять параллельно, а не последовательно, как RNN.\n",
    "* Отдаленные элементы могут влиять на вывод друг друга, не проходя через множество RNN-шагов или слоев свертки (например, см. Преобразователь памяти сцены ).\n",
    "* Он может изучать дальнодействующие зависимости. Это проблема для многих задач последовательности.\n",
    "\n",
    "Минусы этой архитектуры:\n",
    "\n",
    "* Для временного ряда выход для временного шага рассчитывается из всей истории, а не только из входных данных и текущего скрытого состояния. Это может быть менее эффективно.\n",
    "* Если вход действительно имеет временное / пространственное соотношение, как текст, должно быть добавлено некоторое позиционное кодирование или модель будет эффективно увидеть мешок слов.\n",
    "\n",
    "После обучения модели вы сможете ввести предложение на русском и вернуть перевод на английском.\n",
    "\n",
    "\n",
    "<img src=\"https://www.tensorflow.org/images/tutorials/transformer/attention_map_portuguese.png\" width=\"800\" alt=\"Attention heatmap\">"
   ]
  },
  {
   "cell_type": "code",
   "execution_count": null,
   "metadata": {
    "colab": {
     "base_uri": "https://localhost:8080/"
    },
    "id": "XFG0NDRu5mYQ",
    "outputId": "6aad58a9-652e-4655-ef75-77df0da72789"
   },
   "outputs": [
    {
     "name": "stdout",
     "output_type": "stream",
     "text": [
      "\u001b[2K     \u001b[90m━━━━━━━━━━━━━━━━━━━━━━━━━━━━━━━━━━━━━━━━\u001b[0m \u001b[32m5.4/5.4 MB\u001b[0m \u001b[31m34.5 MB/s\u001b[0m eta \u001b[36m0:00:00\u001b[0m\n",
      "\u001b[?25hLooking in indexes: https://pypi.org/simple, https://us-python.pkg.dev/colab-wheels/public/simple/\n",
      "Requirement already satisfied: matplotlib==3.2.2 in /usr/local/lib/python3.8/dist-packages (3.2.2)\n",
      "Requirement already satisfied: pyparsing!=2.0.4,!=2.1.2,!=2.1.6,>=2.0.1 in /usr/local/lib/python3.8/dist-packages (from matplotlib==3.2.2) (3.0.9)\n",
      "Requirement already satisfied: python-dateutil>=2.1 in /usr/local/lib/python3.8/dist-packages (from matplotlib==3.2.2) (2.8.2)\n",
      "Requirement already satisfied: cycler>=0.10 in /usr/local/lib/python3.8/dist-packages (from matplotlib==3.2.2) (0.11.0)\n",
      "Requirement already satisfied: numpy>=1.11 in /usr/local/lib/python3.8/dist-packages (from matplotlib==3.2.2) (1.21.6)\n",
      "Requirement already satisfied: kiwisolver>=1.0.1 in /usr/local/lib/python3.8/dist-packages (from matplotlib==3.2.2) (1.4.4)\n",
      "Requirement already satisfied: six>=1.5 in /usr/local/lib/python3.8/dist-packages (from python-dateutil>=2.1->matplotlib==3.2.2) (1.15.0)\n"
     ]
    }
   ],
   "source": [
    "!pip install -q tfds-nightly\n",
    "\n",
    "# Pin matplotlib version to 3.2.2 since in the latest version\n",
    "# transformer.ipynb fails with the following error:\n",
    "# https://stackoverflow.com/questions/62953704/valueerror-the-number-of-fixedlocator-locations-5-usually-from-a-call-to-set\n",
    "!pip install matplotlib==3.2.2"
   ]
  },
  {
   "cell_type": "code",
   "execution_count": null,
   "metadata": {
    "id": "JjJJyJTZYebt"
   },
   "outputs": [],
   "source": [
    "import tensorflow_datasets as tfds\n",
    "import tensorflow as tf\n",
    "\n",
    "import time\n",
    "import numpy as np\n",
    "import matplotlib.pyplot as plt"
   ]
  },
  {
   "cell_type": "markdown",
   "metadata": {
    "id": "fd1NWMxjfsDd"
   },
   "source": [
    "## Setup input pipeline"
   ]
  },
  {
   "cell_type": "markdown",
   "metadata": {
    "id": "t4_Qt8W1hJE_"
   },
   "source": [
    "Use [TFDS](https://www.tensorflow.org/datasets) to load the Ru-English translation dataset from the [TED Talks Open Translation Project](https://www.ted.com/participate/translate)."
   ]
  },
  {
   "cell_type": "code",
   "execution_count": null,
   "metadata": {
    "id": "8q9t4FmN96eN"
   },
   "outputs": [],
   "source": [
    "examples, metadata = tfds.load('ted_hrlr_translate/ru_to_en', with_info=True,\n",
    "                               as_supervised=True)\n",
    "train_examples, val_examples = examples['train'], examples['validation']"
   ]
  },
  {
   "cell_type": "markdown",
   "metadata": {
    "id": "RCEKotqosGfq"
   },
   "source": [
    "Создайте собственный токенизатор подслов из training dataset. "
   ]
  },
  {
   "cell_type": "code",
   "execution_count": null,
   "metadata": {
    "id": "KVBg5Q8tBk5z"
   },
   "outputs": [],
   "source": [
    "tokenizer_en = tfds.deprecated.text.SubwordTextEncoder.build_from_corpus(\n",
    "    (en.numpy() for ru, en in train_examples), target_vocab_size=2**13)\n",
    "\n",
    "tokenizer_ru = tfds.deprecated.text.SubwordTextEncoder.build_from_corpus(\n",
    "    (ru.numpy() for ru, en in train_examples), target_vocab_size=2**13)"
   ]
  },
  {
   "cell_type": "code",
   "execution_count": null,
   "metadata": {
    "colab": {
     "base_uri": "https://localhost:8080/"
    },
    "id": "4DYWukNFkGQN",
    "outputId": "fed96b25-e2b7-4dc0-82dc-4d2b410f77b2"
   },
   "outputs": [
    {
     "name": "stdout",
     "output_type": "stream",
     "text": [
      "Tokenized string is [8073, 1034, 8104, 5774, 13, 3531, 8035]\n",
      "The original string: Transformer is awesome.\n"
     ]
    }
   ],
   "source": [
    "sample_string = 'Transformer is awesome.'\n",
    "\n",
    "tokenized_string = tokenizer_en.encode(sample_string)\n",
    "print ('Tokenized string is {}'.format(tokenized_string))\n",
    "\n",
    "original_string = tokenizer_en.decode(tokenized_string)\n",
    "print ('The original string: {}'.format(original_string))\n",
    "\n",
    "assert original_string == sample_string"
   ]
  },
  {
   "cell_type": "markdown",
   "metadata": {
    "id": "o9KJWJjrsZ4Y"
   },
   "source": [
    "Токенизатор кодирует строку, разбивая ее на подслова, если слово отсутствует в его словаре.\n",
    "\n"
   ]
  },
  {
   "cell_type": "code",
   "execution_count": null,
   "metadata": {
    "colab": {
     "base_uri": "https://localhost:8080/"
    },
    "id": "bf2ntBxjkqK6",
    "outputId": "3d66bc75-261c-4a8b-b1fb-e630878756ad"
   },
   "outputs": [
    {
     "name": "stdout",
     "output_type": "stream",
     "text": [
      "8073 ----> T\n",
      "1034 ----> ran\n",
      "8104 ----> s\n",
      "5774 ----> former \n",
      "13 ----> is \n",
      "3531 ----> awesome\n",
      "8035 ----> .\n"
     ]
    }
   ],
   "source": [
    "for ts in tokenized_string:\n",
    "  print ('{} ----> {}'.format(ts, tokenizer_en.decode([ts])))"
   ]
  },
  {
   "cell_type": "code",
   "execution_count": null,
   "metadata": {
    "id": "bcRp7VcQ5m6g"
   },
   "outputs": [],
   "source": [
    "BUFFER_SIZE = 20000\n",
    "BATCH_SIZE = 64"
   ]
  },
  {
   "cell_type": "markdown",
   "metadata": {
    "id": "kGi4PoVakxdc"
   },
   "source": [
    "Добавьте начальный и конечный токены к входу и цели."
   ]
  },
  {
   "cell_type": "code",
   "execution_count": null,
   "metadata": {
    "id": "UZwnPr4R055s"
   },
   "outputs": [],
   "source": [
    "# two tokenizers (tokenizer_ru and tokenizer_en) are used to encode two languages (lang1 and lang2). \n",
    "# The encode method is then called on each language, which adds the beginning and end of sequence tokens \n",
    "# (tokenizer_ru.vocabsize and tokenizer_en.vocabsize+1) to the encoded text. Finally, the encoded text for both \n",
    "# languages is returned as a tuple.\n",
    "\n",
    "def encode(lang1, lang2):\n",
    "  lang1 = [tokenizer_ru.vocab_size] + tokenizer_ru.encode(\n",
    "      lang1.numpy()) + [tokenizer_ru.vocab_size+1]\n",
    "\n",
    "  lang2 = [tokenizer_en.vocab_size] + tokenizer_en.encode(\n",
    "      lang2.numpy()) + [tokenizer_en.vocab_size+1]\n",
    "  \n",
    "  return lang1, lang2"
   ]
  },
  {
   "cell_type": "markdown",
   "metadata": {
    "id": "Tx1sFbR-9fRs"
   },
   "source": [
    "Вы хотите использовать Dataset.map чтобы применить эту функцию к каждому элементу набора данных. Dataset.map работает в графическом режиме.\n",
    "\n",
    "Тензоры графов не имеют значения.\n",
    "В графическом режиме вы можете использовать только операции и функции TensorFlow.\n",
    "Таким образом, вы не можете напрямую .map эту функцию: вам нужно обернуть ее в tf.py_function . tf.py_function будет передавать обычные тензоры (со значением и .numpy() для доступа к нему) в .numpy() функцию python.\n",
    "\n"
   ]
  },
  {
   "cell_type": "code",
   "execution_count": null,
   "metadata": {
    "id": "Mah1cS-P70Iz"
   },
   "outputs": [],
   "source": [
    "def tf_encode(ru, en):\n",
    "\n",
    "# tf.pyfunction method is used to call a custom function (encode) with two arguments (ru and en). \n",
    "# The two arguments are then mapped to two data types (tf.int64, tf.int64) which will be returned as a tuple containing two Tensors.\n",
    "  result_ru, result_en = tf.py_function(encode, [ru, en], [tf.int64, tf.int64])\n",
    "\n",
    "#set_shape method is used to set the shape of each Tensor to [None], which means that it will be able to accept variable-length inputs.\n",
    "  result_ru.set_shape([None]) \n",
    "  result_en.set_shape([None])\n",
    "\n",
    "  return result_ru, result_en"
   ]
  },
  {
   "cell_type": "code",
   "execution_count": null,
   "metadata": {
    "id": "2QEgbjntk6Yf"
   },
   "outputs": [],
   "source": [
    "MAX_LENGTH = 40"
   ]
  },
  {
   "cell_type": "code",
   "execution_count": null,
   "metadata": {
    "id": "myo7GJnKcVe9"
   },
   "outputs": [],
   "source": [
    "# filter out examples that have a length greater than the specified maxlength. \n",
    "# This is done by checking the length of both x and y using the tf.size method and then using the tf.logicaland method to return\n",
    "#  a boolean value indicating if both lengths are less than the specified max_length."
   ]
  },
  {
   "cell_type": "code",
   "execution_count": null,
   "metadata": {
    "id": "c081xPGv1CPI"
   },
   "outputs": [],
   "source": [
    "def filter_max_length(x, y, max_length=MAX_LENGTH):\n",
    "  return tf.logical_and(tf.size(x) <= max_length,\n",
    "                        tf.size(y) <= max_length)"
   ]
  },
  {
   "cell_type": "code",
   "execution_count": null,
   "metadata": {
    "id": "9mk9AZdZ5bcS"
   },
   "outputs": [],
   "source": [
    "train_dataset = train_examples.map(tf_encode)\n",
    "train_dataset = train_dataset.filter(filter_max_length)\n",
    "# cache the dataset to memory to get a speedup while reading from it.\n",
    "train_dataset = train_dataset.cache()\n",
    "train_dataset = train_dataset.shuffle(BUFFER_SIZE).padded_batch(BATCH_SIZE)\n",
    "train_dataset = train_dataset.prefetch(tf.data.experimental.AUTOTUNE)\n",
    "\n",
    "\n",
    "val_dataset = val_examples.map(tf_encode)\n",
    "val_dataset = val_dataset.filter(filter_max_length).padded_batch(BATCH_SIZE) # create batches of data in which the examples are padded with zeros to match the maximum length."
   ]
  },
  {
   "cell_type": "code",
   "execution_count": null,
   "metadata": {
    "colab": {
     "base_uri": "https://localhost:8080/"
    },
    "id": "_fXvfYVfQr2n",
    "outputId": "9ac5f89a-a1fe-4bca-e8bf-ff1b993d2833"
   },
   "outputs": [
    {
     "data": {
      "text/plain": [
       "(<tf.Tensor: shape=(64, 38), dtype=int64, numpy=\n",
       " array([[8179,   57,   86, ...,    0,    0,    0],\n",
       "        [8179,    3,   38, ...,    0,    0,    0],\n",
       "        [8179,   57,  135, ...,    0,    0,    0],\n",
       "        ...,\n",
       "        [8179,    3,    7, ...,    0,    0,    0],\n",
       "        [8179,  138,  250, ...,    0,    0,    0],\n",
       "        [8179,   19,    7, ...,    0,    0,    0]])>,\n",
       " <tf.Tensor: shape=(64, 40), dtype=int64, numpy=\n",
       " array([[8245,   90,  101, ...,    0,    0,    0],\n",
       "        [8245,   70,   25, ...,    0,    0,    0],\n",
       "        [8245,   90,  153, ...,    0,    0,    0],\n",
       "        ...,\n",
       "        [8245,    4,   18, ...,    0,    0,    0],\n",
       "        [8245,   19,   59, ...,    0,    0,    0],\n",
       "        [8245,   24,   18, ...,    0,    0,    0]])>)"
      ]
     },
     "execution_count": 71,
     "metadata": {},
     "output_type": "execute_result"
    }
   ],
   "source": [
    "pt_batch, en_batch = next(iter(val_dataset))\n",
    "pt_batch, en_batch"
   ]
  },
  {
   "cell_type": "markdown",
   "metadata": {
    "id": "nBQuibYA4n0n"
   },
   "source": [
    "## Positional encoding\n",
    "\n",
    "Поскольку эта модель не содержит повторений или сверток, добавляется позиционное кодирование, чтобы дать модели некоторую информацию об относительном положении слов в предложении.\n",
    "\n",
    "Вектор позиционного кодирования добавляется к вектору внедрения. Вложения представляют собой токен в d-мерном пространстве, где токены с одинаковым значением будут ближе друг к другу. Но вложения не кодируют относительное положение слов в предложении. Таким образом, после добавления позиционной кодировки слова будут ближе друг к другу на основе сходства их значения и их положения в предложении в d-мерном пространстве.\n",
    "\n",
    "Формула для расчета позиционного кодирования выглядит следующим образом:\n",
    "\n",
    "\n",
    "\n",
    "$$\\Large{PE_{(pos, 2i)} = sin(pos / 10000^{2i / d_{model}})} $$\n",
    "$$\\Large{PE_{(pos, 2i+1)} = cos(pos / 10000^{2i / d_{model}})} $$"
   ]
  },
  {
   "cell_type": "code",
   "execution_count": null,
   "metadata": {
    "id": "WhIOZjMNKujn"
   },
   "outputs": [],
   "source": [
    "def get_angles(pos, i, d_model):\n",
    "  angle_rates = 1 / np.power(10000, (2 * (i//2)) / np.float32(d_model))\n",
    "  print(pos * angle_rates)\n",
    "  return pos * angle_rates"
   ]
  },
  {
   "cell_type": "code",
   "execution_count": null,
   "metadata": {
    "id": "1Rz82wEs5biZ"
   },
   "outputs": [],
   "source": [
    "def positional_encoding(position, d_model):\n",
    "  angle_rads = get_angles(np.arange(position)[:, np.newaxis], # стобец\n",
    "                          np.arange(d_model)[np.newaxis, :], # строка\n",
    "                          d_model)\n",
    "  \n",
    "  # apply sin to even indices in the array; 2i\n",
    "  angle_rads[:, 0::2] = np.sin(angle_rads[:, 0::2])\n",
    "  \n",
    "  # apply cos to odd indices in the array; 2i+1\n",
    "  angle_rads[:, 1::2] = np.cos(angle_rads[:, 1::2])\n",
    "    \n",
    "  pos_encoding = angle_rads[np.newaxis, ...]\n",
    "    \n",
    "  return tf.cast(pos_encoding, dtype=tf.float32)"
   ]
  },
  {
   "cell_type": "code",
   "execution_count": null,
   "metadata": {
    "colab": {
     "base_uri": "https://localhost:8080/",
     "height": 537
    },
    "id": "1kLCla68EloE",
    "outputId": "62aba047-1474-498d-b471-420e3379ebd8"
   },
   "outputs": [
    {
     "name": "stdout",
     "output_type": "stream",
     "text": [
      "[[0.00000000e+00 0.00000000e+00 0.00000000e+00 ... 0.00000000e+00\n",
      "  0.00000000e+00 0.00000000e+00]\n",
      " [1.00000000e+00 1.00000000e+00 9.64661620e-01 ... 1.07460783e-04\n",
      "  1.03663293e-04 1.03663293e-04]\n",
      " [2.00000000e+00 2.00000000e+00 1.92932324e+00 ... 2.14921566e-04\n",
      "  2.07326586e-04 2.07326586e-04]\n",
      " ...\n",
      " [4.70000000e+01 4.70000000e+01 4.53390961e+01 ... 5.05065679e-03\n",
      "  4.87217476e-03 4.87217476e-03]\n",
      " [4.80000000e+01 4.80000000e+01 4.63037578e+01 ... 5.15811758e-03\n",
      "  4.97583806e-03 4.97583806e-03]\n",
      " [4.90000000e+01 4.90000000e+01 4.72684194e+01 ... 5.26557836e-03\n",
      "  5.07950135e-03 5.07950135e-03]]\n",
      "(1, 50, 512)\n"
     ]
    },
    {
     "data": {
      "image/png": "[encoded data removed]",
      "text/plain": [
       "<Figure size 432x288 with 2 Axes>"
      ]
     },
     "metadata": {
      "needs_background": "light"
     },
     "output_type": "display_data"
    }
   ],
   "source": [
    "# Получаем 50 строк по 512 значений\n",
    "pos_encoding = positional_encoding(50, 512)\n",
    "print (pos_encoding.shape)\n",
    "\n",
    "plt.pcolormesh(pos_encoding[0], cmap='RdBu')\n",
    "plt.xlabel('Depth')\n",
    "plt.xlim((0, 512))\n",
    "plt.ylabel('Position')\n",
    "plt.colorbar()\n",
    "plt.show()"
   ]
  },
  {
   "cell_type": "markdown",
   "metadata": {
    "id": "a_b4ou4TYqUN"
   },
   "source": [
    "## Masking"
   ]
  },
  {
   "cell_type": "markdown",
   "metadata": {
    "id": "s42Uydjkv0hF"
   },
   "source": [
    "Замаскируйте все маркеры площадок в пакете последовательности. Это гарантирует, что модель не обрабатывает отступы как входные данные. Маска указывает, где присутствует значение пэда 0 : она выводит 1 в этих местах и 0 противном случае."
   ]
  },
  {
   "cell_type": "code",
   "execution_count": null,
   "metadata": {
    "id": "U2i8-e1s8ti9"
   },
   "outputs": [],
   "source": [
    "def create_padding_mask(seq):\n",
    "  seq = tf.cast(tf.math.equal(seq, 0), tf.float32) # 1 if element is null, otherwise - 0\n",
    "  \n",
    "  # add extra dimensions to add the padding\n",
    "  # to the attention logits.\n",
    "  return seq[:, tf.newaxis, tf.newaxis, :]  # (batch_size, 1, 1, seq_len)"
   ]
  },
  {
   "cell_type": "code",
   "execution_count": null,
   "metadata": {
    "colab": {
     "base_uri": "https://localhost:8080/"
    },
    "id": "A7BYeBCNvi7n",
    "outputId": "307ce7a7-6c68-47e4-9b3c-2fc250ccb998"
   },
   "outputs": [
    {
     "data": {
      "text/plain": [
       "<tf.Tensor: shape=(3, 1, 1, 5), dtype=float32, numpy=\n",
       "array([[[[0., 0., 1., 1., 0.]]],\n",
       "\n",
       "\n",
       "       [[[0., 0., 0., 1., 1.]]],\n",
       "\n",
       "\n",
       "       [[[1., 1., 1., 0., 0.]]]], dtype=float32)>"
      ]
     },
     "execution_count": 76,
     "metadata": {},
     "output_type": "execute_result"
    }
   ],
   "source": [
    "x = tf.constant([[7, 6, 0, 0, 1], [1, 2, 3, 0, 0], [0, 0, 0, 4, 5]])\n",
    "create_padding_mask(x)"
   ]
  },
  {
   "cell_type": "markdown",
   "metadata": {
    "id": "Z0hzukDBgVom"
   },
   "source": [
    "Маска упреждающего просмотра используется для маскировки будущих токенов в последовательности. Другими словами, маска указывает, какие записи не следует использовать.\n",
    "\n",
    "Это означает, что для предсказания третьего слова будут использоваться только первое и второе слово. Аналогично для предсказания четвертого слова будут использоваться только первое, второе и третье слово и так далее.\n",
    "\n"
   ]
  },
  {
   "cell_type": "code",
   "execution_count": null,
   "metadata": {
    "id": "dVxS8OPI9uI0"
   },
   "outputs": [],
   "source": [
    "def create_look_ahead_mask(size):\n",
    "  mask = 1 - tf.linalg.band_part(tf.ones((size, size)), -1, 0) # Copy a tensor setting everything outside a central band in each innermost matrix to zero.\n",
    "  return mask  # (seq_len, seq_len) "
   ]
  },
  {
   "cell_type": "code",
   "execution_count": null,
   "metadata": {
    "colab": {
     "base_uri": "https://localhost:8080/"
    },
    "id": "yxKGuXxaBeeE",
    "outputId": "fca952e3-e1d5-44f8-ed67-7b2fcae70cd8"
   },
   "outputs": [
    {
     "name": "stdout",
     "output_type": "stream",
     "text": [
      "tf.Tensor([[0.8062663  0.6184777  0.62404716]], shape=(1, 3), dtype=float32)\n"
     ]
    },
    {
     "data": {
      "text/plain": [
       "<tf.Tensor: shape=(3, 3), dtype=float32, numpy=\n",
       "array([[0., 1., 1.],\n",
       "       [0., 0., 1.],\n",
       "       [0., 0., 0.]], dtype=float32)>"
      ]
     },
     "execution_count": 78,
     "metadata": {},
     "output_type": "execute_result"
    }
   ],
   "source": [
    "x = tf.random.uniform((1, 3))\n",
    "print(x)\n",
    "temp = create_look_ahead_mask(x.shape[1])\n",
    "temp"
   ]
  },
  {
   "cell_type": "markdown",
   "metadata": {
    "id": "xluDl5cXYy4y"
   },
   "source": [
    "## Scaled dot product attention"
   ]
  },
  {
   "cell_type": "markdown",
   "metadata": {
    "id": "vsxEE_-Wa1gF"
   },
   "source": [
    "<img src=\"https://www.tensorflow.org/images/tutorials/transformer/scaled_attention.png\" width=\"500\" alt=\"scaled_dot_product_attention\">\n",
    "\n",
    "Функция внимания, используемая преобразователем, принимает три входа: Q (запрос), K (ключ), V (значение). Уравнение, используемое для расчета весов внимания:\n",
    "\n",
    "\n",
    "$$\\Large{Attention(Q, K, V) = softmax_k(\\frac{QK^T}{\\sqrt{d_k}}) V} $$\n",
    "\n",
    "Внимание скалярного произведения масштабируется с коэффициентом квадратного корня из глубины. Это сделано потому, что для больших значений глубины скалярное произведение увеличивается по величине, подталкивая функцию softmax, где у него есть небольшие градиенты, что приводит к очень жесткому softmax.\n",
    "\n",
    "Например, предположим, что Q и K имеют среднее значение 0 и дисперсию 1. Их матричное умножение будет иметь среднее значение 0 и дисперсию dk . Следовательно, для масштабирования используется квадратный корень из dk (а не какое-либо другое число), потому что матрица Q и K должна иметь среднее значение 0 и дисперсию 1, и вы получите более мягкий softmax.\n",
    "\n",
    "Маска умножается на -1e9 (близко к отрицательной бесконечности). Это сделано потому, что маска суммируется с умножением масштабированной матрицы Q и K и применяется непосредственно перед softmax. Цель состоит в том, чтобы обнулить эти ячейки, и большие отрицательные входные данные для softmax близки к нулю на выходе.\n",
    "\n"
   ]
  },
  {
   "cell_type": "code",
   "execution_count": null,
   "metadata": {
    "id": "LazzUq3bJ5SH"
   },
   "outputs": [],
   "source": [
    "def scaled_dot_product_attention(q, k, v, mask):\n",
    "  \"\"\"Calculate the attention weights.\n",
    "  q, k, v must have matching leading dimensions.\n",
    "  k, v must have matching penultimate dimension, i.e.: seq_len_k = seq_len_v.\n",
    "  The mask has different shapes depending on its type(padding or look ahead) \n",
    "  but it must be broadcastable for addition.\n",
    "  \n",
    "  Args:\n",
    "    q: query shape == (..., seq_len_q, depth)\n",
    "    k: key shape == (..., seq_len_k, depth)\n",
    "    v: value shape == (..., seq_len_v, depth_v)\n",
    "    mask: Float tensor with shape broadcastable \n",
    "          to (..., seq_len_q, seq_len_k). Defaults to None.\n",
    "    \n",
    "  Returns:\n",
    "    output, attention_weights\n",
    "  \"\"\"\n",
    "\n",
    "  matmul_qk = tf.matmul(q, k, transpose_b=True)  # (..., seq_len_q, seq_len_k)\n",
    "  \n",
    "  # scale matmul_qk\n",
    "  dk = tf.cast(tf.shape(k)[-1], tf.float32)\n",
    "  scaled_attention_logits = matmul_qk / tf.math.sqrt(dk)\n",
    "\n",
    "  # add the mask to the scaled tensor.\n",
    "  if mask is not None:\n",
    "    scaled_attention_logits += (mask * -1e9)  \n",
    "\n",
    "  # softmax is normalized on the last axis (seq_len_k) so that the scores\n",
    "  # add up to 1.\n",
    "  attention_weights = tf.nn.softmax(scaled_attention_logits, axis=-1)  # (..., seq_len_q, seq_len_k)\n",
    "\n",
    "  output = tf.matmul(attention_weights, v)  # (..., seq_len_q, depth_v)\n",
    "\n",
    "  return output, attention_weights"
   ]
  },
  {
   "cell_type": "markdown",
   "metadata": {
    "id": "FiqETnhCkoXh"
   },
   "source": [
    "Поскольку нормализация softmax выполняется для K, его значения определяют степень важности, придаваемой Q.\n",
    "\n",
    "Выходные данные представляют собой умножение весов внимания и вектора V (значения). Это гарантирует, что слова, на которых вы хотите сосредоточиться, останутся как есть, а нерелевантные слова будут удалены.\n",
    "\n"
   ]
  },
  {
   "cell_type": "code",
   "execution_count": null,
   "metadata": {
    "id": "n90YjClyInFy"
   },
   "outputs": [],
   "source": [
    "def print_out(q, k, v):\n",
    "  temp_out, temp_attn = scaled_dot_product_attention(\n",
    "      q, k, v, None)\n",
    "  print ('Attention weights are:')\n",
    "  print (temp_attn)\n",
    "  print ('Output is:')\n",
    "  print (temp_out)"
   ]
  },
  {
   "cell_type": "code",
   "execution_count": null,
   "metadata": {
    "colab": {
     "base_uri": "https://localhost:8080/"
    },
    "id": "yAzUAf2DPlNt",
    "outputId": "5b999a56-9ed6-45c7-dcfc-e4de094343d5"
   },
   "outputs": [
    {
     "name": "stdout",
     "output_type": "stream",
     "text": [
      "Attention weights are:\n",
      "tf.Tensor([[0. 1. 0. 0.]], shape=(1, 4), dtype=float32)\n",
      "Output is:\n",
      "tf.Tensor([[10.  0.]], shape=(1, 2), dtype=float32)\n"
     ]
    }
   ],
   "source": [
    "np.set_printoptions(suppress=True)\n",
    "\n",
    "temp_k = tf.constant([[10,0,0],\n",
    "                      [0,10,0],\n",
    "                      [0,0,10],\n",
    "                      [0,0,10]], dtype=tf.float32)  # (4, 3)\n",
    "\n",
    "temp_v = tf.constant([[   1,0],\n",
    "                      [  10,0],\n",
    "                      [ 100,5],\n",
    "                      [1000,6]], dtype=tf.float32)  # (4, 2)\n",
    "\n",
    "# This `query` aligns with the second `key`,\n",
    "# so the second `value` is returned.\n",
    "temp_q = tf.constant([[0, 10, 0]], dtype=tf.float32)  # (1, 3)\n",
    "print_out(temp_q, temp_k, temp_v)"
   ]
  },
  {
   "cell_type": "code",
   "execution_count": null,
   "metadata": {
    "colab": {
     "base_uri": "https://localhost:8080/"
    },
    "id": "zg6k-fGhgXra",
    "outputId": "3b2c0fda-408c-4e05-c849-af860d3ff325"
   },
   "outputs": [
    {
     "name": "stdout",
     "output_type": "stream",
     "text": [
      "Attention weights are:\n",
      "tf.Tensor([[0.  0.  0.5 0.5]], shape=(1, 4), dtype=float32)\n",
      "Output is:\n",
      "tf.Tensor([[550.    5.5]], shape=(1, 2), dtype=float32)\n"
     ]
    }
   ],
   "source": [
    "# This query aligns with a repeated key (third and fourth), \n",
    "# so all associated values get averaged.\n",
    "temp_q = tf.constant([[0, 0, 10]], dtype=tf.float32)  # (1, 3)\n",
    "print_out(temp_q, temp_k, temp_v)"
   ]
  },
  {
   "cell_type": "code",
   "execution_count": null,
   "metadata": {
    "colab": {
     "base_uri": "https://localhost:8080/"
    },
    "id": "UAq3YOzUgXhb",
    "outputId": "5153e8d2-ddd5-41fd-f491-3bb39e8197c6"
   },
   "outputs": [
    {
     "name": "stdout",
     "output_type": "stream",
     "text": [
      "Attention weights are:\n",
      "tf.Tensor([[0.5 0.5 0.  0. ]], shape=(1, 4), dtype=float32)\n",
      "Output is:\n",
      "tf.Tensor([[5.5 0. ]], shape=(1, 2), dtype=float32)\n"
     ]
    }
   ],
   "source": [
    "# This query aligns equally with the first and second key, \n",
    "# so their values get averaged.\n",
    "temp_q = tf.constant([[10, 10, 0]], dtype=tf.float32)  # (1, 3)\n",
    "print_out(temp_q, temp_k, temp_v)"
   ]
  },
  {
   "cell_type": "markdown",
   "metadata": {
    "id": "aOz-4_XIhaTP"
   },
   "source": [
    "Pass all the queries together."
   ]
  },
  {
   "cell_type": "code",
   "execution_count": null,
   "metadata": {
    "colab": {
     "base_uri": "https://localhost:8080/"
    },
    "id": "6dlU8Tm-hYrF",
    "outputId": "901a60f7-f463-425c-8550-78962e376d92"
   },
   "outputs": [
    {
     "name": "stdout",
     "output_type": "stream",
     "text": [
      "Attention weights are:\n",
      "tf.Tensor(\n",
      "[[0.   0.   0.5  0.5 ]\n",
      " [0.   1.   0.   0.  ]\n",
      " [0.25 0.25 0.25 0.25]], shape=(3, 4), dtype=float32)\n",
      "Output is:\n",
      "tf.Tensor(\n",
      "[[550.     5.5 ]\n",
      " [ 10.     0.  ]\n",
      " [277.75   2.75]], shape=(3, 2), dtype=float32)\n"
     ]
    }
   ],
   "source": [
    "temp_q = tf.constant([[0, 0, 10], [0, 10, 0], [10, 10, 10]], dtype=tf.float32)  # (3, 3)\n",
    "print_out(temp_q, temp_k, temp_v)"
   ]
  },
  {
   "cell_type": "markdown",
   "metadata": {
    "id": "kmzGPEy64qmA"
   },
   "source": [
    "## Multi-head attention"
   ]
  },
  {
   "cell_type": "markdown",
   "metadata": {
    "id": "fz5BMC8Kaoqo"
   },
   "source": [
    "<img src=\"https://www.tensorflow.org/images/tutorials/transformer/multi_head_attention.png\" width=\"500\" alt=\"multi-head attention\">\n",
    "\n",
    "\n",
    "Многоголовое внимание состоит из четырех частей:\n",
    "\n",
    "* Слои линейные и разбиваются на головы.\n",
    "* Повышенное внимание к скалярному продукту\n",
    "* Конкатенация голов.\n",
    "* Финальный линейный слой."
   ]
  },
  {
   "cell_type": "markdown",
   "metadata": {
    "id": "JPmbr6F1C-v_"
   },
   "source": [
    "Каждый блок внимания с несколькими головами получает три входа; Q (запрос), K (ключ), V (значение). Они проходят через линейные (плотные) слои и разбиваются на несколько головок.\n",
    "\n",
    "scaled_dot_product_attention определенный выше, применяется к каждой голове (транслируется для эффективности). На этапе внимания необходимо использовать соответствующую маску. Затем вывод внимания для каждой головы объединяется (с использованием tf.transpose и tf.reshape ) и пропускается через последний слой Dense .\n",
    "\n",
    "Вместо одной единственной головы внимания Q, K и V разделены на несколько голов, потому что это позволяет модели совместно обращать внимание на информацию в разных положениях из разных пространств представления. После разделения каждая голова имеет уменьшенную размерность, поэтому общая стоимость вычислений такая же, как и внимание одной головы с полной размерностью.\n",
    "\n"
   ]
  },
  {
   "cell_type": "code",
   "execution_count": null,
   "metadata": {
    "id": "BSV3PPKsYecw"
   },
   "outputs": [],
   "source": [
    "class MultiHeadAttention(tf.keras.layers.Layer):\n",
    "  def __init__(self, d_model, num_heads):\n",
    "    super(MultiHeadAttention, self).__init__()\n",
    "    self.num_heads = num_heads\n",
    "    self.d_model = d_model\n",
    "    \n",
    "    assert d_model % self.num_heads == 0\n",
    "    \n",
    "    self.depth = d_model // self.num_heads\n",
    "    \n",
    "    self.wq = tf.keras.layers.Dense(d_model)\n",
    "    self.wk = tf.keras.layers.Dense(d_model)\n",
    "    self.wv = tf.keras.layers.Dense(d_model)\n",
    "    \n",
    "    self.dense = tf.keras.layers.Dense(d_model)\n",
    "        \n",
    "  def split_heads(self, x, batch_size):\n",
    "    \"\"\"Split the last dimension into (num_heads, depth).\n",
    "    Transpose the result such that the shape is (batch_size, num_heads, seq_len, depth)\n",
    "    \"\"\"\n",
    "    # If one component of shape is the special value -1, the size of that dimension is computed so that \n",
    "    # the total size remains constant. In particular, a shape of [-1] flattens into 1-D. \n",
    "    # At most one component of shape can be -1.\n",
    "    \n",
    "    x = tf.reshape(x, (batch_size, -1, self.num_heads, self.depth))\n",
    "    return tf.transpose(x, perm=[0, 2, 1, 3])\n",
    "    \n",
    "  def call(self, v, k, q, mask):\n",
    "    batch_size = tf.shape(q)[0]\n",
    "    \n",
    "    q = self.wq(q)  # (batch_size, seq_len, d_model)\n",
    "    k = self.wk(k)  # (batch_size, seq_len, d_model)\n",
    "    v = self.wv(v)  # (batch_size, seq_len, d_model)\n",
    "    \n",
    "    q = self.split_heads(q, batch_size)  # (batch_size, num_heads, seq_len_q, depth)\n",
    "    k = self.split_heads(k, batch_size)  # (batch_size, num_heads, seq_len_k, depth)\n",
    "    v = self.split_heads(v, batch_size)  # (batch_size, num_heads, seq_len_v, depth)\n",
    "    \n",
    "    # scaled_attention.shape == (batch_size, num_heads, seq_len_q, depth)\n",
    "    # attention_weights.shape == (batch_size, num_heads, seq_len_q, seq_len_k)\n",
    "    scaled_attention, attention_weights = scaled_dot_product_attention(\n",
    "        q, k, v, mask)\n",
    "    \n",
    "    scaled_attention = tf.transpose(scaled_attention, perm=[0, 2, 1, 3])  # (batch_size, seq_len_q, num_heads, depth)\n",
    "\n",
    "    concat_attention = tf.reshape(scaled_attention, \n",
    "                                  (batch_size, -1, self.d_model))  # (batch_size, seq_len_q, d_model)\n",
    "\n",
    "    output = self.dense(concat_attention)  # (batch_size, seq_len_q, d_model)\n",
    "        \n",
    "    return output, attention_weights"
   ]
  },
  {
   "cell_type": "markdown",
   "metadata": {
    "id": "0D8FJue5lDyZ"
   },
   "source": [
    "Создайте слой MultiHeadAttention чтобы попробовать. В каждом месте в последовательности y MultiHeadAttention запускает все 8 головок внимания по всем другим местам в последовательности, возвращая новый вектор той же длины в каждом месте.\n",
    "\n"
   ]
  },
  {
   "cell_type": "code",
   "execution_count": null,
   "metadata": {
    "colab": {
     "base_uri": "https://localhost:8080/"
    },
    "id": "Hu94p-_-2_BX",
    "outputId": "ca3d9e25-eb65-4d2d-806b-27bf07fac42c"
   },
   "outputs": [
    {
     "name": "stdout",
     "output_type": "stream",
     "text": [
      "X: \n",
      " tf.Tensor(\n",
      "[[[-8.3446294e-02 -1.1372101e+00  1.7035490e-01  8.1131881e-01\n",
      "    1.1187821e-01 -1.3373218e+00  3.5845959e-01  2.4289222e-01\n",
      "    1.4814006e+00 -1.2713318e-01]\n",
      "  [-4.4430542e-01 -1.2427014e+00  2.4207979e-01  6.1922336e-01\n",
      "   -7.2514206e-02 -6.2541550e-01 -7.4294431e-04  2.4274252e-01\n",
      "    8.6139941e-01 -2.3329727e-01]\n",
      "  [ 7.6528476e-03 -8.0667156e-01  3.6338526e-01  7.9842746e-01\n",
      "    6.4593959e-01 -8.5639685e-01  6.7565972e-01  6.3925183e-01\n",
      "    1.8766478e-01 -5.4372984e-01]]\n",
      "\n",
      " [[ 4.3565303e-01 -5.1512593e-01  1.6545182e-02  1.0204152e+00\n",
      "    1.1188320e-01 -6.9260621e-01  3.5381642e-01  4.6537798e-02\n",
      "    9.2674851e-01 -2.6420832e-01]\n",
      "  [ 5.2235380e-02 -1.2927507e+00  5.9865481e-01  3.7441763e-01\n",
      "    1.3769303e-02 -9.7013462e-01 -2.2618605e-01  1.9565576e-01\n",
      "    1.0930191e+00 -4.4620234e-01]\n",
      "  [ 3.5221142e-01 -8.4387583e-01  5.5822504e-01  3.8493225e-01\n",
      "    5.1525193e-01 -1.1740443e+00  6.2471372e-01  4.2284104e-01\n",
      "    9.1830796e-01 -6.8576860e-01]]], shape=(2, 3, 10), dtype=float32)\n",
      "reshaped X: \n",
      " tf.Tensor(\n",
      "[[[[-8.3446294e-02 -1.1372101e+00  1.7035490e-01  8.1131881e-01\n",
      "     1.1187821e-01]\n",
      "   [-1.3373218e+00  3.5845959e-01  2.4289222e-01  1.4814006e+00\n",
      "    -1.2713318e-01]]\n",
      "\n",
      "  [[-4.4430542e-01 -1.2427014e+00  2.4207979e-01  6.1922336e-01\n",
      "    -7.2514206e-02]\n",
      "   [-6.2541550e-01 -7.4294431e-04  2.4274252e-01  8.6139941e-01\n",
      "    -2.3329727e-01]]\n",
      "\n",
      "  [[ 7.6528476e-03 -8.0667156e-01  3.6338526e-01  7.9842746e-01\n",
      "     6.4593959e-01]\n",
      "   [-8.5639685e-01  6.7565972e-01  6.3925183e-01  1.8766478e-01\n",
      "    -5.4372984e-01]]]\n",
      "\n",
      "\n",
      " [[[ 4.3565303e-01 -5.1512593e-01  1.6545182e-02  1.0204152e+00\n",
      "     1.1188320e-01]\n",
      "   [-6.9260621e-01  3.5381642e-01  4.6537798e-02  9.2674851e-01\n",
      "    -2.6420832e-01]]\n",
      "\n",
      "  [[ 5.2235380e-02 -1.2927507e+00  5.9865481e-01  3.7441763e-01\n",
      "     1.3769303e-02]\n",
      "   [-9.7013462e-01 -2.2618605e-01  1.9565576e-01  1.0930191e+00\n",
      "    -4.4620234e-01]]\n",
      "\n",
      "  [[ 3.5221142e-01 -8.4387583e-01  5.5822504e-01  3.8493225e-01\n",
      "     5.1525193e-01]\n",
      "   [-1.1740443e+00  6.2471372e-01  4.2284104e-01  9.1830796e-01\n",
      "    -6.8576860e-01]]]], shape=(2, 3, 2, 5), dtype=float32)\n",
      "perm_ X: \n",
      " tf.Tensor(\n",
      "[[[[-8.3446294e-02 -1.1372101e+00  1.7035490e-01  8.1131881e-01\n",
      "     1.1187821e-01]\n",
      "   [-4.4430542e-01 -1.2427014e+00  2.4207979e-01  6.1922336e-01\n",
      "    -7.2514206e-02]\n",
      "   [ 7.6528476e-03 -8.0667156e-01  3.6338526e-01  7.9842746e-01\n",
      "     6.4593959e-01]]\n",
      "\n",
      "  [[-1.3373218e+00  3.5845959e-01  2.4289222e-01  1.4814006e+00\n",
      "    -1.2713318e-01]\n",
      "   [-6.2541550e-01 -7.4294431e-04  2.4274252e-01  8.6139941e-01\n",
      "    -2.3329727e-01]\n",
      "   [-8.5639685e-01  6.7565972e-01  6.3925183e-01  1.8766478e-01\n",
      "    -5.4372984e-01]]]\n",
      "\n",
      "\n",
      " [[[ 4.3565303e-01 -5.1512593e-01  1.6545182e-02  1.0204152e+00\n",
      "     1.1188320e-01]\n",
      "   [ 5.2235380e-02 -1.2927507e+00  5.9865481e-01  3.7441763e-01\n",
      "     1.3769303e-02]\n",
      "   [ 3.5221142e-01 -8.4387583e-01  5.5822504e-01  3.8493225e-01\n",
      "     5.1525193e-01]]\n",
      "\n",
      "  [[-6.9260621e-01  3.5381642e-01  4.6537798e-02  9.2674851e-01\n",
      "    -2.6420832e-01]\n",
      "   [-9.7013462e-01 -2.2618605e-01  1.9565576e-01  1.0930191e+00\n",
      "    -4.4620234e-01]\n",
      "   [-1.1740443e+00  6.2471372e-01  4.2284104e-01  9.1830796e-01\n",
      "    -6.8576860e-01]]]], shape=(2, 2, 3, 5), dtype=float32)\n",
      "X: \n",
      " tf.Tensor(\n",
      "[[[ 0.33870602  1.0729351   0.94293696  0.5275038   1.019324\n",
      "    0.17348997  1.4797248   0.47269538 -0.06535351  0.2082527 ]\n",
      "  [-0.1303517   0.3829045   0.766804    0.54427886  0.68947816\n",
      "   -0.10124903  0.89336723  0.44716042  0.28024915 -0.16242735]\n",
      "  [ 0.6741154  -0.02980796  0.29890275  1.0225616   0.9136029\n",
      "    0.6356264   0.45067656  0.13352324 -0.3065802   0.12661287]]\n",
      "\n",
      " [[ 0.06348701  1.1072477   0.86958444  0.37293047  0.6292525\n",
      "    0.10239348  0.94674456  0.38796932  0.46444258  0.03634572]\n",
      "  [ 0.4855854   0.77977926  1.0258355   0.51980203  0.58185816\n",
      "    0.35359532  1.0879914   0.05496812 -0.45142028  0.37370086]\n",
      "  [ 0.38678062  0.5865835   0.87939525  0.680182    1.1571026\n",
      "    0.14357625  1.0746311  -0.04058586 -0.58704096  0.45046002]]], shape=(2, 3, 10), dtype=float32)\n",
      "reshaped X: \n",
      " tf.Tensor(\n",
      "[[[[ 0.33870602  1.0729351   0.94293696  0.5275038   1.019324  ]\n",
      "   [ 0.17348997  1.4797248   0.47269538 -0.06535351  0.2082527 ]]\n",
      "\n",
      "  [[-0.1303517   0.3829045   0.766804    0.54427886  0.68947816]\n",
      "   [-0.10124903  0.89336723  0.44716042  0.28024915 -0.16242735]]\n",
      "\n",
      "  [[ 0.6741154  -0.02980796  0.29890275  1.0225616   0.9136029 ]\n",
      "   [ 0.6356264   0.45067656  0.13352324 -0.3065802   0.12661287]]]\n",
      "\n",
      "\n",
      " [[[ 0.06348701  1.1072477   0.86958444  0.37293047  0.6292525 ]\n",
      "   [ 0.10239348  0.94674456  0.38796932  0.46444258  0.03634572]]\n",
      "\n",
      "  [[ 0.4855854   0.77977926  1.0258355   0.51980203  0.58185816]\n",
      "   [ 0.35359532  1.0879914   0.05496812 -0.45142028  0.37370086]]\n",
      "\n",
      "  [[ 0.38678062  0.5865835   0.87939525  0.680182    1.1571026 ]\n",
      "   [ 0.14357625  1.0746311  -0.04058586 -0.58704096  0.45046002]]]], shape=(2, 3, 2, 5), dtype=float32)\n",
      "perm_ X: \n",
      " tf.Tensor(\n",
      "[[[[ 0.33870602  1.0729351   0.94293696  0.5275038   1.019324  ]\n",
      "   [-0.1303517   0.3829045   0.766804    0.54427886  0.68947816]\n",
      "   [ 0.6741154  -0.02980796  0.29890275  1.0225616   0.9136029 ]]\n",
      "\n",
      "  [[ 0.17348997  1.4797248   0.47269538 -0.06535351  0.2082527 ]\n",
      "   [-0.10124903  0.89336723  0.44716042  0.28024915 -0.16242735]\n",
      "   [ 0.6356264   0.45067656  0.13352324 -0.3065802   0.12661287]]]\n",
      "\n",
      "\n",
      " [[[ 0.06348701  1.1072477   0.86958444  0.37293047  0.6292525 ]\n",
      "   [ 0.4855854   0.77977926  1.0258355   0.51980203  0.58185816]\n",
      "   [ 0.38678062  0.5865835   0.87939525  0.680182    1.1571026 ]]\n",
      "\n",
      "  [[ 0.10239348  0.94674456  0.38796932  0.46444258  0.03634572]\n",
      "   [ 0.35359532  1.0879914   0.05496812 -0.45142028  0.37370086]\n",
      "   [ 0.14357625  1.0746311  -0.04058586 -0.58704096  0.45046002]]]], shape=(2, 2, 3, 5), dtype=float32)\n",
      "X: \n",
      " tf.Tensor(\n",
      "[[[-0.60694134  0.2636442   1.2285306   1.3271891  -1.707418\n",
      "    0.8107741  -0.07385263 -1.0178176   0.04189809 -1.129388  ]\n",
      "  [-0.56661457  0.88365734  0.67982167  0.9119026  -1.2272061\n",
      "    0.34935698 -0.14697182 -0.7651222   0.28721404 -0.35205516]\n",
      "  [-0.57157594  0.58094877  0.4904019   0.2818901  -1.4420487\n",
      "    0.34980777 -0.18991046 -0.87728    -0.3634448  -0.3288951 ]]\n",
      "\n",
      " [[-0.31851298  0.48702684  1.0087583   0.9821595  -1.5356898\n",
      "    0.401346    0.25309834 -0.5617332   0.33773142 -0.559269  ]\n",
      "  [-0.4770825   0.6971857   0.5047903   1.3193121  -1.2989708\n",
      "    0.19379602 -0.15803994 -1.1971049  -0.28108662 -0.7439306 ]\n",
      "  [-0.13853116  0.42131346  0.704127    1.2057905  -1.4032288\n",
      "    0.44717196 -0.32810682 -0.50724196  0.13172747 -0.9269542 ]]], shape=(2, 3, 10), dtype=float32)\n",
      "reshaped X: \n",
      " tf.Tensor(\n",
      "[[[[-0.60694134  0.2636442   1.2285306   1.3271891  -1.707418  ]\n",
      "   [ 0.8107741  -0.07385263 -1.0178176   0.04189809 -1.129388  ]]\n",
      "\n",
      "  [[-0.56661457  0.88365734  0.67982167  0.9119026  -1.2272061 ]\n",
      "   [ 0.34935698 -0.14697182 -0.7651222   0.28721404 -0.35205516]]\n",
      "\n",
      "  [[-0.57157594  0.58094877  0.4904019   0.2818901  -1.4420487 ]\n",
      "   [ 0.34980777 -0.18991046 -0.87728    -0.3634448  -0.3288951 ]]]\n",
      "\n",
      "\n",
      " [[[-0.31851298  0.48702684  1.0087583   0.9821595  -1.5356898 ]\n",
      "   [ 0.401346    0.25309834 -0.5617332   0.33773142 -0.559269  ]]\n",
      "\n",
      "  [[-0.4770825   0.6971857   0.5047903   1.3193121  -1.2989708 ]\n",
      "   [ 0.19379602 -0.15803994 -1.1971049  -0.28108662 -0.7439306 ]]\n",
      "\n",
      "  [[-0.13853116  0.42131346  0.704127    1.2057905  -1.4032288 ]\n",
      "   [ 0.44717196 -0.32810682 -0.50724196  0.13172747 -0.9269542 ]]]], shape=(2, 3, 2, 5), dtype=float32)\n",
      "perm_ X: \n",
      " tf.Tensor(\n",
      "[[[[-0.60694134  0.2636442   1.2285306   1.3271891  -1.707418  ]\n",
      "   [-0.56661457  0.88365734  0.67982167  0.9119026  -1.2272061 ]\n",
      "   [-0.57157594  0.58094877  0.4904019   0.2818901  -1.4420487 ]]\n",
      "\n",
      "  [[ 0.8107741  -0.07385263 -1.0178176   0.04189809 -1.129388  ]\n",
      "   [ 0.34935698 -0.14697182 -0.7651222   0.28721404 -0.35205516]\n",
      "   [ 0.34980777 -0.18991046 -0.87728    -0.3634448  -0.3288951 ]]]\n",
      "\n",
      "\n",
      " [[[-0.31851298  0.48702684  1.0087583   0.9821595  -1.5356898 ]\n",
      "   [-0.4770825   0.6971857   0.5047903   1.3193121  -1.2989708 ]\n",
      "   [-0.13853116  0.42131346  0.704127    1.2057905  -1.4032288 ]]\n",
      "\n",
      "  [[ 0.401346    0.25309834 -0.5617332   0.33773142 -0.559269  ]\n",
      "   [ 0.19379602 -0.15803994 -1.1971049  -0.28108662 -0.7439306 ]\n",
      "   [ 0.44717196 -0.32810682 -0.50724196  0.13172747 -0.9269542 ]]]], shape=(2, 2, 3, 5), dtype=float32)\n",
      "Выходные размерности:  \n",
      "\n"
     ]
    },
    {
     "data": {
      "text/plain": [
       "(TensorShape([2, 3, 10]), TensorShape([2, 2, 3, 3]))"
      ]
     },
     "execution_count": 21,
     "metadata": {},
     "output_type": "execute_result"
    }
   ],
   "source": [
    "temp_mha = MultiHeadAttention(d_model=10, num_heads=2)\n",
    "y = tf.random.uniform((2, 3, 10))  # (batch_size, encoder_sequence, d_model)\n",
    "out, attn = temp_mha(y, k=y, q=y, mask=None)\n",
    "print('Выходные размерности:  \\n')\n",
    "out.shape, attn.shape"
   ]
  },
  {
   "cell_type": "markdown",
   "metadata": {
    "id": "RdDqGayx67vv"
   },
   "source": [
    "## Point wise feed forward network"
   ]
  },
  {
   "cell_type": "markdown",
   "metadata": {
    "id": "gBqzJXGfHK3X"
   },
   "source": [
    "Сеть с точечной прямой связью состоит из двух полностью связанных слоев с активацией ReLU между ними.\n"
   ]
  },
  {
   "cell_type": "code",
   "execution_count": null,
   "metadata": {
    "id": "ET7xLt0yCT6Z"
   },
   "outputs": [],
   "source": [
    "def point_wise_feed_forward_network(d_model, dff):\n",
    "  return tf.keras.Sequential([\n",
    "      tf.keras.layers.Dense(dff, activation='relu'),  # (batch_size, seq_len, dff)\n",
    "      tf.keras.layers.Dense(d_model)  # (batch_size, seq_len, d_model)\n",
    "  ])"
   ]
  },
  {
   "cell_type": "code",
   "execution_count": null,
   "metadata": {
    "colab": {
     "base_uri": "https://localhost:8080/"
    },
    "id": "mytb1lPyOHLB",
    "outputId": "8e3f59e7-e8ac-4bd5-98ad-3000fa3acf86"
   },
   "outputs": [
    {
     "data": {
      "text/plain": [
       "TensorShape([64, 50, 512])"
      ]
     },
     "execution_count": 84,
     "metadata": {},
     "output_type": "execute_result"
    }
   ],
   "source": [
    "sample_ffn = point_wise_feed_forward_network(512, 2048)\n",
    "sample_ffn(tf.random.uniform((64, 50, 512))).shape"
   ]
  },
  {
   "cell_type": "markdown",
   "metadata": {
    "id": "7e7hKcxn6-zd"
   },
   "source": [
    "## Encoder and decoder"
   ]
  },
  {
   "cell_type": "markdown",
   "metadata": {
    "id": "yScbC0MUH8dS"
   },
   "source": [
    "<img src=\"https://www.tensorflow.org/images/tutorials/transformer/transformer.png\" width=\"600\" alt=\"transformer\">"
   ]
  },
  {
   "cell_type": "markdown",
   "metadata": {
    "id": "MfYJG-Kvgwy2"
   },
   "source": [
    "Модель трансформера следует той же общей схеме, что и стандартная последовательность действий с моделью внимания .\n",
    "\n",
    "Входное предложение проходит через N уровней кодировщика, которые генерируют выходные данные для каждого слова / токена в последовательности.\n",
    "Декодер отслеживает вывод кодировщика и свой собственный ввод (самовнимание), чтобы предсказать следующее слово.\n"
   ]
  },
  {
   "cell_type": "markdown",
   "metadata": {
    "id": "QFv-FNYUmvpn"
   },
   "source": [
    "### Encoder layer\n",
    "\n",
    "Каждый уровень кодировщика состоит из подслоев:\n",
    "\n",
    "Многоголовое внимание (с дополнительной маской)\n",
    "Точечные сети прямого распространения.\n",
    "Каждый из этих подуровней имеет остаточную связь вокруг себя, за которой следует нормализация уровня. Остаточные соединения помогают избежать проблемы исчезающего градиента в глубоких сетях.\n",
    "\n",
    "Результатом каждого подслоя является LayerNorm(x + Sublayer(x)) . Нормализация выполняется по d_model (последняя). В трансформаторе N слоев кодировщика.\n",
    "\n"
   ]
  },
  {
   "cell_type": "code",
   "execution_count": null,
   "metadata": {
    "id": "ncyS-Ms3i2x_"
   },
   "outputs": [],
   "source": [
    "class EncoderLayer(tf.keras.layers.Layer):\n",
    "  def __init__(self, d_model, num_heads, dff, rate=0.1):\n",
    "    super(EncoderLayer, self).__init__()\n",
    "\n",
    "    self.mha = MultiHeadAttention(d_model, num_heads)\n",
    "    self.ffn = point_wise_feed_forward_network(d_model, dff)\n",
    "\n",
    "    self.layernorm1 = tf.keras.layers.LayerNormalization(epsilon=1e-6)\n",
    "    self.layernorm2 = tf.keras.layers.LayerNormalization(epsilon=1e-6)\n",
    "    \n",
    "    self.dropout1 = tf.keras.layers.Dropout(rate)\n",
    "    self.dropout2 = tf.keras.layers.Dropout(rate)\n",
    "    \n",
    "  def call(self, x, training, mask):\n",
    "\n",
    "    attn_output, _ = self.mha(x, x, x, mask)  # (batch_size, input_seq_len, d_model)\n",
    "    attn_output = self.dropout1(attn_output, training=training)\n",
    "    out1 = self.layernorm1(x + attn_output)  # (batch_size, input_seq_len, d_model)\n",
    "    \n",
    "    ffn_output = self.ffn(out1)  # (batch_size, input_seq_len, d_model)\n",
    "    ffn_output = self.dropout2(ffn_output, training=training)\n",
    "    out2 = self.layernorm2(out1 + ffn_output)  # (batch_size, input_seq_len, d_model)\n",
    "    \n",
    "    return out2"
   ]
  },
  {
   "cell_type": "code",
   "execution_count": null,
   "metadata": {
    "colab": {
     "base_uri": "https://localhost:8080/"
    },
    "id": "AzZRXdO0mI48",
    "outputId": "991be10a-43d9-4377-f51e-af2fc46ebdfe"
   },
   "outputs": [
    {
     "data": {
      "text/plain": [
       "TensorShape([64, 43, 512])"
      ]
     },
     "execution_count": 86,
     "metadata": {},
     "output_type": "execute_result"
    }
   ],
   "source": [
    "sample_encoder_layer = EncoderLayer(512, 8, 2048)\n",
    "\n",
    "sample_encoder_layer_output = sample_encoder_layer(\n",
    "    tf.random.uniform((64, 43, 512)), False, None)\n",
    "\n",
    "sample_encoder_layer_output.shape  # (batch_size, input_seq_len, d_model)"
   ]
  },
  {
   "cell_type": "markdown",
   "metadata": {
    "id": "6LO_48Owmx_o"
   },
   "source": [
    "### Decoder layer\n",
    "\n",
    "Каждый слой декодера состоит из подслоев:\n",
    "\n",
    "Замаскированное внимание с несколькими головами (с опережающей маской и дополнительной маской)\n",
    "Многоголовое внимание (с дополнительной маской). V (значение) и K (ключ) получают выходной сигнал энкодера в качестве входных данных. Q (запрос) получает выходные данные от подуровня замаскированного многоголового внимания.\n",
    "Точечные сети прямого распространения\n",
    "Каждый из этих подуровней имеет остаточную связь вокруг себя, за которой следует нормализация уровня. Результатом каждого подслоя является LayerNorm(x + Sublayer(x)) . Нормализация выполняется по d_model (последняя).\n",
    "\n",
    "В трансформаторе N слоев декодера.\n",
    "\n",
    "Поскольку Q принимает выходные данные от первого блока внимания декодера, а K принимает выходные данные кодировщика, веса внимания представляют важность, придаваемую входу декодера на основе выходных данных кодера. Другими словами, декодер предсказывает следующее слово, глядя на выходные данные кодировщика и самостоятельно присматриваясь к своим собственным выходным данным. См. Демонстрацию выше в разделе «Внимание к скалярному произведению».\n",
    "\n"
   ]
  },
  {
   "cell_type": "code",
   "execution_count": null,
   "metadata": {
    "id": "9SoX0-vd1hue"
   },
   "outputs": [],
   "source": [
    "class DecoderLayer(tf.keras.layers.Layer):\n",
    "  def __init__(self, d_model, num_heads, dff, rate=0.1):\n",
    "    super(DecoderLayer, self).__init__()\n",
    "\n",
    "    self.mha1 = MultiHeadAttention(d_model, num_heads)\n",
    "    self.mha2 = MultiHeadAttention(d_model, num_heads)\n",
    "\n",
    "    self.ffn = point_wise_feed_forward_network(d_model, dff)\n",
    " \n",
    "    self.layernorm1 = tf.keras.layers.LayerNormalization(epsilon=1e-6)\n",
    "    self.layernorm2 = tf.keras.layers.LayerNormalization(epsilon=1e-6)\n",
    "    self.layernorm3 = tf.keras.layers.LayerNormalization(epsilon=1e-6)\n",
    "    \n",
    "    self.dropout1 = tf.keras.layers.Dropout(rate)\n",
    "    self.dropout2 = tf.keras.layers.Dropout(rate)\n",
    "    self.dropout3 = tf.keras.layers.Dropout(rate)\n",
    "    \n",
    "    \n",
    "  def call(self, x, enc_output, training, \n",
    "           look_ahead_mask, padding_mask):\n",
    "    # enc_output.shape == (batch_size, input_seq_len, d_model)\n",
    "\n",
    "    attn1, attn_weights_block1 = self.mha1(x, x, x, look_ahead_mask)  # (batch_size, target_seq_len, d_model)\n",
    "    attn1 = self.dropout1(attn1, training=training)\n",
    "    out1 = self.layernorm1(attn1 + x)\n",
    "    \n",
    "    attn2, attn_weights_block2 = self.mha2(\n",
    "        enc_output, enc_output, out1, padding_mask)  # (batch_size, target_seq_len, d_model)\n",
    "    attn2 = self.dropout2(attn2, training=training)\n",
    "    out2 = self.layernorm2(attn2 + out1)  # (batch_size, target_seq_len, d_model)\n",
    "    \n",
    "    ffn_output = self.ffn(out2)  # (batch_size, target_seq_len, d_model)\n",
    "    ffn_output = self.dropout3(ffn_output, training=training)\n",
    "    out3 = self.layernorm3(ffn_output + out2)  # (batch_size, target_seq_len, d_model)\n",
    "    \n",
    "    return out3, attn_weights_block1, attn_weights_block2"
   ]
  },
  {
   "cell_type": "code",
   "execution_count": null,
   "metadata": {
    "colab": {
     "base_uri": "https://localhost:8080/"
    },
    "id": "Ne2Bqx8k71l0",
    "outputId": "4a7a2a3c-9715-434e-9838-9ae6d19fcd16"
   },
   "outputs": [
    {
     "data": {
      "text/plain": [
       "TensorShape([64, 50, 512])"
      ]
     },
     "execution_count": 88,
     "metadata": {},
     "output_type": "execute_result"
    }
   ],
   "source": [
    "sample_decoder_layer = DecoderLayer(512, 8, 2048)\n",
    "\n",
    "sample_decoder_layer_output, _, _ = sample_decoder_layer(\n",
    "    tf.random.uniform((64, 50, 512)), sample_encoder_layer_output, \n",
    "    False, None, None)\n",
    "\n",
    "sample_decoder_layer_output.shape  # (batch_size, target_seq_len, d_model)"
   ]
  },
  {
   "cell_type": "markdown",
   "metadata": {
    "id": "SE1H51Ajm0q1"
   },
   "source": [
    "### Encoder\n",
    "\n",
    "The `Encoder` consists of:\n",
    "1.   Input Embedding\n",
    "2.   Positional Encoding\n",
    "3.   N encoder layers\n",
    "\n",
    "The input is put through an embedding which is summed with the positional encoding. The output of this summation is the input to the encoder layers. The output of the encoder is the input to the decoder."
   ]
  },
  {
   "cell_type": "code",
   "execution_count": null,
   "metadata": {
    "id": "jpEox7gJ8FCI"
   },
   "outputs": [],
   "source": [
    "class Encoder(tf.keras.layers.Layer):\n",
    "  def __init__(self, num_layers, d_model, num_heads, dff, input_vocab_size,\n",
    "               maximum_position_encoding, rate=0.1):\n",
    "    super(Encoder, self).__init__()\n",
    "\n",
    "    self.d_model = d_model\n",
    "    self.num_layers = num_layers\n",
    "    \n",
    "    self.embedding = tf.keras.layers.Embedding(input_vocab_size, d_model)\n",
    "    self.pos_encoding = positional_encoding(maximum_position_encoding, \n",
    "                                            self.d_model)\n",
    "    \n",
    "    \n",
    "    self.enc_layers = [EncoderLayer(d_model, num_heads, dff, rate) \n",
    "                       for _ in range(num_layers)]\n",
    "  \n",
    "    self.dropout = tf.keras.layers.Dropout(rate)\n",
    "        \n",
    "  def call(self, x, training, mask):\n",
    "\n",
    "    seq_len = tf.shape(x)[1] #40\n",
    "    \n",
    "    # adding embedding and position encoding.\n",
    "    x = self.embedding(x)  # (batch_size, input_seq_len, d_model)\n",
    "    x *= tf.math.sqrt(tf.cast(self.d_model, tf.float32))\n",
    "    x += self.pos_encoding[:, :seq_len, :]\n",
    "\n",
    "    x = self.dropout(x, training=training)\n",
    "    \n",
    "    for i in range(self.num_layers):\n",
    "      x = self.enc_layers[i](x, training, mask)\n",
    "    \n",
    "    return x  # (batch_size, input_seq_len, d_model)"
   ]
  },
  {
   "cell_type": "code",
   "execution_count": null,
   "metadata": {
    "colab": {
     "base_uri": "https://localhost:8080/"
    },
    "id": "8QG9nueFQKXx",
    "outputId": "42eaafa2-9ee9-427a-d4b4-5bc6e16b148b"
   },
   "outputs": [
    {
     "name": "stdout",
     "output_type": "stream",
     "text": [
      "[[   0.            0.            0.         ...    0.\n",
      "     0.            0.        ]\n",
      " [   1.            1.            0.96466162 ...    0.00010746\n",
      "     0.00010366    0.00010366]\n",
      " [   2.            2.            1.92932324 ...    0.00021492\n",
      "     0.00020733    0.00020733]\n",
      " ...\n",
      " [9997.         9997.         9643.72221425 ...    1.07428545\n",
      "     1.03632194    1.03632194]\n",
      " [9998.         9998.         9644.68687587 ...    1.07439291\n",
      "     1.0364256     1.0364256 ]\n",
      " [9999.         9999.         9645.65153749 ...    1.07450037\n",
      "     1.03652927    1.03652927]]\n",
      "(64, 62, 512)\n"
     ]
    }
   ],
   "source": [
    "sample_encoder = Encoder(num_layers=2, d_model=512, num_heads=8, \n",
    "                         dff=2048, input_vocab_size=8500,\n",
    "                         maximum_position_encoding=10000)\n",
    "temp_input = tf.random.uniform((64, 62), dtype=tf.int64, minval=0, maxval=200)\n",
    "\n",
    "sample_encoder_output = sample_encoder(temp_input, training=False, mask=None)\n",
    "\n",
    "print (sample_encoder_output.shape)  # (batch_size, input_seq_len, d_model)"
   ]
  },
  {
   "cell_type": "markdown",
   "metadata": {
    "id": "p-uO6ls8m2O5"
   },
   "source": [
    "### Decoder"
   ]
  },
  {
   "cell_type": "markdown",
   "metadata": {
    "id": "ZtT7PKzrXkNr"
   },
   "source": [
    " The `Decoder` consists of:\n",
    "1.   Output Embedding\n",
    "2.   Positional Encoding\n",
    "3.   N decoder layers\n",
    "\n",
    "The target is put through an embedding which is summed with the positional encoding. The output of this summation is the input to the decoder layers. The output of the decoder is the input to the final linear layer."
   ]
  },
  {
   "cell_type": "code",
   "execution_count": null,
   "metadata": {
    "id": "d5_d5-PLQXwY"
   },
   "outputs": [],
   "source": [
    "class Decoder(tf.keras.layers.Layer):\n",
    "  def __init__(self, num_layers, d_model, num_heads, dff, target_vocab_size,\n",
    "               maximum_position_encoding, rate=0.1):\n",
    "    super(Decoder, self).__init__()\n",
    "\n",
    "    self.d_model = d_model\n",
    "    self.num_layers = num_layers\n",
    "    \n",
    "    self.embedding = tf.keras.layers.Embedding(target_vocab_size, d_model)\n",
    "    self.pos_encoding = positional_encoding(maximum_position_encoding, d_model)\n",
    "    \n",
    "    self.dec_layers = [DecoderLayer(d_model, num_heads, dff, rate) \n",
    "                       for _ in range(num_layers)]\n",
    "    self.dropout = tf.keras.layers.Dropout(rate)\n",
    "    \n",
    "  def call(self, x, enc_output, training, \n",
    "           look_ahead_mask, padding_mask):\n",
    "\n",
    "    seq_len = tf.shape(x)[1]\n",
    "    attention_weights = {}\n",
    "    \n",
    "    x = self.embedding(x)  # (batch_size, target_seq_len, d_model)\n",
    "    x *= tf.math.sqrt(tf.cast(self.d_model, tf.float32))\n",
    "    x += self.pos_encoding[:, :seq_len, :]\n",
    "    \n",
    "    x = self.dropout(x, training=training)\n",
    "\n",
    "    for i in range(self.num_layers):\n",
    "      x, block1, block2 = self.dec_layers[i](x, enc_output, training,\n",
    "                                             look_ahead_mask, padding_mask)\n",
    "      \n",
    "      attention_weights['decoder_layer{}_block1'.format(i+1)] = block1\n",
    "      attention_weights['decoder_layer{}_block2'.format(i+1)] = block2\n",
    "    \n",
    "    # x.shape == (batch_size, target_seq_len, d_model)\n",
    "    return x, attention_weights"
   ]
  },
  {
   "cell_type": "code",
   "execution_count": null,
   "metadata": {
    "colab": {
     "base_uri": "https://localhost:8080/"
    },
    "id": "a1jXoAMRZyvu",
    "outputId": "16133540-c206-4111-a354-06cb462e48f1"
   },
   "outputs": [
    {
     "name": "stdout",
     "output_type": "stream",
     "text": [
      "[[   0.            0.            0.         ...    0.\n",
      "     0.            0.        ]\n",
      " [   1.            1.            0.96466162 ...    0.00010746\n",
      "     0.00010366    0.00010366]\n",
      " [   2.            2.            1.92932324 ...    0.00021492\n",
      "     0.00020733    0.00020733]\n",
      " ...\n",
      " [4997.         4997.         4820.4141147  ...    0.53698153\n",
      "     0.51800547    0.51800547]\n",
      " [4998.         4998.         4821.37877632 ...    0.53708899\n",
      "     0.51810914    0.51810914]\n",
      " [4999.         4999.         4822.34343794 ...    0.53719645\n",
      "     0.5182128     0.5182128 ]]\n"
     ]
    },
    {
     "data": {
      "text/plain": [
       "(TensorShape([64, 26, 512]), TensorShape([64, 8, 26, 62]))"
      ]
     },
     "execution_count": 92,
     "metadata": {},
     "output_type": "execute_result"
    }
   ],
   "source": [
    "sample_decoder = Decoder(num_layers=2, d_model=512, num_heads=8, \n",
    "                         dff=2048, target_vocab_size=8000,\n",
    "                         maximum_position_encoding=5000)\n",
    "temp_input = tf.random.uniform((64, 26), dtype=tf.int64, minval=0, maxval=200)\n",
    "\n",
    "output, attn = sample_decoder(temp_input, \n",
    "                              enc_output=sample_encoder_output, \n",
    "                              training=False,\n",
    "                              look_ahead_mask=None, \n",
    "                              padding_mask=None)\n",
    "\n",
    "output.shape, attn['decoder_layer2_block2'].shape"
   ]
  },
  {
   "cell_type": "markdown",
   "metadata": {
    "id": "y54xnJnuYgJ7"
   },
   "source": [
    "## Create the Transformer"
   ]
  },
  {
   "cell_type": "markdown",
   "metadata": {
    "id": "uERO1y54cOKq"
   },
   "source": [
    "Transformer consists of the encoder, decoder and a final linear layer. The output of the decoder is the input to the linear layer and its output is returned."
   ]
  },
  {
   "cell_type": "code",
   "execution_count": null,
   "metadata": {
    "id": "PED3bIpOYkBu"
   },
   "outputs": [],
   "source": [
    "class Transformer(tf.keras.Model):\n",
    "  def __init__(self, num_layers, d_model, num_heads, dff, input_vocab_size, \n",
    "               target_vocab_size, pe_input, pe_target, rate=0.1):\n",
    "    super(Transformer, self).__init__()\n",
    "\n",
    "    self.encoder = Encoder(num_layers, d_model, num_heads, dff, \n",
    "                           input_vocab_size, pe_input, rate)\n",
    "\n",
    "    self.decoder = Decoder(num_layers, d_model, num_heads, dff, \n",
    "                           target_vocab_size, pe_target, rate)\n",
    "\n",
    "    self.final_layer = tf.keras.layers.Dense(target_vocab_size)\n",
    "    \n",
    "  def call(self, inp, tar, training, enc_padding_mask, \n",
    "           look_ahead_mask, dec_padding_mask):\n",
    "\n",
    "    enc_output = self.encoder(inp, training, enc_padding_mask)  # (batch_size, inp_seq_len, d_model)\n",
    "    \n",
    "    # dec_output.shape == (batch_size, tar_seq_len, d_model)\n",
    "    dec_output, attention_weights = self.decoder(\n",
    "        tar, enc_output, training, look_ahead_mask, dec_padding_mask)\n",
    "    \n",
    "    final_output = self.final_layer(dec_output)  # (batch_size, tar_seq_len, target_vocab_size)\n",
    "    \n",
    "    return final_output, attention_weights"
   ]
  },
  {
   "cell_type": "code",
   "execution_count": null,
   "metadata": {
    "colab": {
     "base_uri": "https://localhost:8080/"
    },
    "id": "tJ4fbQcIkHW1",
    "outputId": "ea8dd197-4210-4ce2-d171-76877b8850dc"
   },
   "outputs": [
    {
     "name": "stdout",
     "output_type": "stream",
     "text": [
      "[[   0.            0.            0.         ...    0.\n",
      "     0.            0.        ]\n",
      " [   1.            1.            0.96466162 ...    0.00010746\n",
      "     0.00010366    0.00010366]\n",
      " [   2.            2.            1.92932324 ...    0.00021492\n",
      "     0.00020733    0.00020733]\n",
      " ...\n",
      " [9997.         9997.         9643.72221425 ...    1.07428545\n",
      "     1.03632194    1.03632194]\n",
      " [9998.         9998.         9644.68687587 ...    1.07439291\n",
      "     1.0364256     1.0364256 ]\n",
      " [9999.         9999.         9645.65153749 ...    1.07450037\n",
      "     1.03652927    1.03652927]]\n",
      "[[   0.            0.            0.         ...    0.\n",
      "     0.            0.        ]\n",
      " [   1.            1.            0.96466162 ...    0.00010746\n",
      "     0.00010366    0.00010366]\n",
      " [   2.            2.            1.92932324 ...    0.00021492\n",
      "     0.00020733    0.00020733]\n",
      " ...\n",
      " [5997.         5997.         5785.07573461 ...    0.64444231\n",
      "     0.62166877    0.62166877]\n",
      " [5998.         5998.         5786.04039623 ...    0.64454978\n",
      "     0.62177243    0.62177243]\n",
      " [5999.         5999.         5787.00505785 ...    0.64465724\n",
      "     0.62187609    0.62187609]]\n"
     ]
    },
    {
     "data": {
      "text/plain": [
       "TensorShape([64, 36, 8000])"
      ]
     },
     "execution_count": 94,
     "metadata": {},
     "output_type": "execute_result"
    }
   ],
   "source": [
    "sample_transformer = Transformer(\n",
    "    num_layers=2, d_model=512, num_heads=8, dff=2048, \n",
    "    input_vocab_size=8500, target_vocab_size=8000, \n",
    "    pe_input=10000, pe_target=6000)\n",
    "\n",
    "temp_input = tf.random.uniform((64, 38), dtype=tf.int64, minval=0, maxval=200)\n",
    "temp_target = tf.random.uniform((64, 36), dtype=tf.int64, minval=0, maxval=200)\n",
    "\n",
    "fn_out, _ = sample_transformer(temp_input, temp_target, training=False, \n",
    "                               enc_padding_mask=None, \n",
    "                               look_ahead_mask=None,\n",
    "                               dec_padding_mask=None)\n",
    "\n",
    "fn_out.shape  # (batch_size, tar_seq_len, target_vocab_size)"
   ]
  },
  {
   "cell_type": "markdown",
   "metadata": {
    "id": "wsINyf1VEQLC"
   },
   "source": [
    "## Set hyperparameters"
   ]
  },
  {
   "cell_type": "markdown",
   "metadata": {
    "id": "zVjWCxFNcgbt"
   },
   "source": [
    "To keep this example small and relatively fast, the values for *num_layers, d_model, and dff* have been reduced. \n",
    "\n",
    "The values used in the base model of transformer were; *num_layers=6*, *d_model = 512*, *dff = 2048*. See the [paper](https://arxiv.org/abs/1706.03762) for all the other versions of the transformer.\n",
    "\n",
    "Note: By changing the values below, you can get the model that achieved state of the art on many tasks."
   ]
  },
  {
   "cell_type": "code",
   "execution_count": null,
   "metadata": {
    "id": "lnJn5SLA2ahP"
   },
   "outputs": [],
   "source": [
    "num_layers = 4\n",
    "d_model = 128\n",
    "dff = 512\n",
    "num_heads = 8\n",
    "\n",
    "input_vocab_size = tokenizer_ru.vocab_size + 2\n",
    "target_vocab_size = tokenizer_en.vocab_size + 2\n",
    "dropout_rate = 0.1"
   ]
  },
  {
   "cell_type": "markdown",
   "metadata": {
    "id": "xYEGhEOtzn5W"
   },
   "source": [
    "## Optimizer"
   ]
  },
  {
   "cell_type": "markdown",
   "metadata": {
    "id": "GOmWW--yP3zx"
   },
   "source": [
    "Use the Adam optimizer with a custom learning rate scheduler according to the formula in the [paper](https://arxiv.org/abs/1706.03762).\n",
    "\n",
    "$$\\Large{lrate = d_{model}^{-0.5} * min(step{\\_}num^{-0.5}, step{\\_}num * warmup{\\_}steps^{-1.5})}$$\n"
   ]
  },
  {
   "cell_type": "code",
   "execution_count": null,
   "metadata": {
    "id": "iYQdOO1axwEI"
   },
   "outputs": [],
   "source": [
    "class CustomSchedule(tf.keras.optimizers.schedules.LearningRateSchedule):\n",
    "  def __init__(self, d_model, warmup_steps=4000):\n",
    "    super(CustomSchedule, self).__init__()\n",
    "    \n",
    "    self.d_model = d_model\n",
    "    self.d_model = tf.cast(self.d_model, tf.float32)\n",
    "\n",
    "    self.warmup_steps = warmup_steps\n",
    "    \n",
    "  def __call__(self, step):\n",
    "    step = tf.cast(step, np.float32)\n",
    "    arg1 = tf.math.rsqrt(step)\n",
    "    arg2 = step * (self.warmup_steps ** -1.5)\n",
    "    return tf.math.rsqrt(self.d_model) * tf.math.minimum(arg1, arg2)"
   ]
  },
  {
   "cell_type": "markdown",
   "metadata": {
    "id": "zkvtTdKawj4p"
   },
   "source": []
  },
  {
   "cell_type": "code",
   "execution_count": null,
   "metadata": {
    "id": "7r4scdulztRx"
   },
   "outputs": [],
   "source": [
    "learning_rate = CustomSchedule(d_model)\n",
    "optimizer = tf.keras.optimizers.Adam(learning_rate, beta_1=0.9, beta_2=0.98, epsilon=1e-9)"
   ]
  },
  {
   "cell_type": "markdown",
   "metadata": {
    "id": "Omzm9c9wyRJM"
   },
   "source": []
  },
  {
   "cell_type": "code",
   "execution_count": null,
   "metadata": {
    "colab": {
     "base_uri": "https://localhost:8080/",
     "height": 297
    },
    "id": "f33ZCgvHpPdG",
    "outputId": "1960c355-1052-4e0a-a112-95c6e92fb2d9"
   },
   "outputs": [
    {
     "data": {
      "text/plain": [
       "Text(0.5, 0, 'Train Step')"
      ]
     },
     "execution_count": 98,
     "metadata": {},
     "output_type": "execute_result"
    },
    {
     "data": {
      "image/png": "[encoded data removed]",
      "text/plain": [
       "<Figure size 432x288 with 1 Axes>"
      ]
     },
     "metadata": {
      "needs_background": "light"
     },
     "output_type": "display_data"
    }
   ],
   "source": [
    "temp_learning_rate_schedule = CustomSchedule(d_model)\n",
    "\n",
    "plt.plot(temp_learning_rate_schedule(tf.range(40000, dtype=tf.float32)))\n",
    "plt.ylabel(\"Learning Rate\")\n",
    "plt.xlabel(\"Train Step\")"
   ]
  },
  {
   "cell_type": "markdown",
   "metadata": {
    "id": "YgkDE7hzo8r5"
   },
   "source": [
    "## Loss and metrics"
   ]
  },
  {
   "cell_type": "markdown",
   "metadata": {
    "id": "oxGJtoDuYIHL"
   },
   "source": [
    "Since the target sequences are padded, it is important to apply a padding mask when calculating the loss."
   ]
  },
  {
   "cell_type": "code",
   "execution_count": null,
   "metadata": {
    "id": "MlhsJMm0TW_B"
   },
   "outputs": [],
   "source": [
    "loss_object = tf.keras.losses.SparseCategoricalCrossentropy(\n",
    "    from_logits=True, reduction='none')"
   ]
  },
  {
   "cell_type": "code",
   "execution_count": null,
   "metadata": {
    "id": "67oqVHiT0Eiu"
   },
   "outputs": [],
   "source": [
    "def loss_function(real, pred):\n",
    "  mask = tf.math.logical_not(tf.math.equal(real, 0))\n",
    "  loss_ = loss_object(real, pred)\n",
    "\n",
    "  mask = tf.cast(mask, dtype=loss_.dtype)\n",
    "  loss_ *= mask\n",
    "  \n",
    "  return tf.reduce_sum(loss_)/tf.reduce_sum(mask)\n",
    "\n",
    "\n",
    "def accuracy_function(real, pred):\n",
    "  accuracies = tf.equal(real, tf.argmax(pred, axis=2))\n",
    "  \n",
    "  mask = tf.math.logical_not(tf.math.equal(real, 0))\n",
    "  accuracies = tf.math.logical_and(mask, accuracies)\n",
    "\n",
    "  accuracies = tf.cast(accuracies, dtype=tf.float32)\n",
    "  mask = tf.cast(mask, dtype=tf.float32)\n",
    "  return tf.reduce_sum(accuracies)/tf.reduce_sum(mask)"
   ]
  },
  {
   "cell_type": "code",
   "execution_count": null,
   "metadata": {
    "id": "phlyxMnm-Tpx"
   },
   "outputs": [],
   "source": [
    "train_loss = tf.keras.metrics.Mean(name='train_loss')\n",
    "train_accuracy = tf.keras.metrics.Mean(name='train_accuracy')"
   ]
  },
  {
   "cell_type": "markdown",
   "metadata": {
    "id": "aeHumfr7zmMa"
   },
   "source": [
    "## Training and checkpointing"
   ]
  },
  {
   "cell_type": "code",
   "execution_count": null,
   "metadata": {
    "colab": {
     "base_uri": "https://localhost:8080/"
    },
    "id": "UiysUa--4tOU",
    "outputId": "0b2b8073-4493-4b52-b1c6-014c2ad0e3dc"
   },
   "outputs": [
    {
     "name": "stdout",
     "output_type": "stream",
     "text": [
      "[[   0.            0.            0.         ...    0.\n",
      "     0.            0.        ]\n",
      " [   1.            1.            0.86596432 ...    0.00013335\n",
      "     0.00011548    0.00011548]\n",
      " [   2.            2.            1.73192865 ...    0.0002667\n",
      "     0.00023096    0.00023096]\n",
      " ...\n",
      " [8178.         8178.         7081.85623644 ...    1.09055383\n",
      "     0.94438071    0.94438071]\n",
      " [8179.         8179.         7082.72220076 ...    1.09068718\n",
      "     0.94449619    0.94449619]\n",
      " [8180.         8180.         7083.58816509 ...    1.09082053\n",
      "     0.94461166    0.94461166]]\n",
      "[[   0.            0.            0.         ...    0.\n",
      "     0.            0.        ]\n",
      " [   1.            1.            0.86596432 ...    0.00013335\n",
      "     0.00011548    0.00011548]\n",
      " [   2.            2.            1.73192865 ...    0.0002667\n",
      "     0.00023096    0.00023096]\n",
      " ...\n",
      " [8244.         8244.         7139.00988178 ...    1.09935507\n",
      "     0.95200227    0.95200227]\n",
      " [8245.         8245.         7139.8758461  ...    1.09948842\n",
      "     0.95211775    0.95211775]\n",
      " [8246.         8246.         7140.74181043 ...    1.09962177\n",
      "     0.95223322    0.95223322]]\n"
     ]
    }
   ],
   "source": [
    "transformer = Transformer(num_layers, d_model, num_heads, dff,\n",
    "                          input_vocab_size, target_vocab_size, \n",
    "                          pe_input=input_vocab_size, \n",
    "                          pe_target=target_vocab_size,\n",
    "                          rate=dropout_rate)"
   ]
  },
  {
   "cell_type": "code",
   "execution_count": null,
   "metadata": {
    "id": "ZOJUSB1T8GjM"
   },
   "outputs": [],
   "source": [
    "def create_masks(inp, tar):\n",
    "  # Encoder padding mask\n",
    "  enc_padding_mask = create_padding_mask(inp)\n",
    "  \n",
    "  # Used in the 2nd attention block in the decoder.\n",
    "  # This padding mask is used to mask the encoder outputs.\n",
    "  dec_padding_mask = create_padding_mask(inp)\n",
    "  \n",
    "  # Used in the 1st attention block in the decoder.\n",
    "  # It is used to pad and mask future tokens in the input received by \n",
    "  # the decoder.\n",
    "  look_ahead_mask = create_look_ahead_mask(tf.shape(tar)[1])\n",
    "  dec_target_padding_mask = create_padding_mask(tar)\n",
    "  combined_mask = tf.maximum(dec_target_padding_mask, look_ahead_mask)\n",
    "  \n",
    "  return enc_padding_mask, combined_mask, dec_padding_mask"
   ]
  },
  {
   "cell_type": "markdown",
   "metadata": {
    "id": "Fzuf06YZp66w"
   },
   "source": [
    "Create the checkpoint path and the checkpoint manager. This will be used to save checkpoints every `n` epochs."
   ]
  },
  {
   "cell_type": "code",
   "execution_count": null,
   "metadata": {
    "id": "hNhuYfllndLZ"
   },
   "outputs": [],
   "source": [
    "checkpoint_path = \"./checkpoints/train\"\n",
    "\n",
    "ckpt = tf.train.Checkpoint(transformer=transformer,\n",
    "                           optimizer=optimizer)\n",
    "\n",
    "ckpt_manager = tf.train.CheckpointManager(ckpt, checkpoint_path, max_to_keep=5)\n",
    "\n",
    "# if a checkpoint exists, restore the latest checkpoint.\n",
    "if ckpt_manager.latest_checkpoint:\n",
    "  ckpt.restore(ckpt_manager.latest_checkpoint)\n",
    "  print ('Latest checkpoint restored!!')"
   ]
  },
  {
   "cell_type": "markdown",
   "metadata": {
    "id": "0Di_Yaa1gf9r"
   },
   "source": [
    "Цель делится на tar_inp и tar_real. tar_inp передается декодеру в качестве входных данных. tar_real - это тот же самый ввод, сдвинутый на 1: в каждом месте tar_input tar_real содержит следующий токен, который должен быть предсказан.\n",
    "\n",
    "Например, sentence = \"SOS Лев в джунглях спит EOS\"\n",
    "\n",
    "tar_inp = \"SOS tar_inp лев в джунглях\"\n",
    "\n",
    "tar_real = \"Лев в джунглях спит EOS\"\n",
    "\n",
    "Преобразователь - это авторегрессивная модель: он делает прогнозы по частям и использует свои выходные данные, чтобы решить, что делать дальше.\n",
    "\n",
    "Во время обучения в этом примере используется принуждение учителя (как в учебнике по созданию текста ). Принуждение учителя передает истинный результат следующему временному шагу независимо от того, что модель предсказывает на текущем временном шаге.\n",
    "\n",
    "Поскольку преобразователь предсказывает каждое слово, самовнимание позволяет ему смотреть на предыдущие слова во входной последовательности, чтобы лучше предсказать следующее слово.\n",
    "\n",
    "Чтобы модель не просматривала ожидаемый результат, в модели используется маска просмотра вперед.\n",
    "\n"
   ]
  },
  {
   "cell_type": "code",
   "execution_count": null,
   "metadata": {
    "id": "LKpoA6q1sJFj"
   },
   "outputs": [],
   "source": [
    "EPOCHS = 30"
   ]
  },
  {
   "cell_type": "code",
   "execution_count": null,
   "metadata": {
    "id": "iJwmp9OE29oj"
   },
   "outputs": [],
   "source": [
    "# The @tf.function trace-compiles train_step into a TF graph for faster\n",
    "# execution. The function specializes to the precise shape of the argument\n",
    "# tensors. To avoid re-tracing due to the variable sequence lengths or variable\n",
    "# batch sizes (the last batch is smaller), use input_signature to specify\n",
    "# more generic shapes.\n",
    "\n",
    "train_step_signature = [\n",
    "    tf.TensorSpec(shape=(None, None), dtype=tf.int64),\n",
    "    tf.TensorSpec(shape=(None, None), dtype=tf.int64),\n",
    "]\n",
    "\n",
    "@tf.function(input_signature=train_step_signature)\n",
    "def train_step(inp, tar):\n",
    "  tar_inp = tar[:, :-1]\n",
    "  tar_real = tar[:, 1:]\n",
    "  \n",
    "  enc_padding_mask, combined_mask, dec_padding_mask = create_masks(inp, tar_inp)\n",
    "  \n",
    "  with tf.GradientTape() as tape:\n",
    "    predictions, _ = transformer(inp, tar_inp, \n",
    "                                 True, \n",
    "                                 enc_padding_mask, \n",
    "                                 combined_mask, \n",
    "                                 dec_padding_mask)\n",
    "    loss = loss_function(tar_real, predictions)\n",
    "\n",
    "  gradients = tape.gradient(loss, transformer.trainable_variables)    \n",
    "  optimizer.apply_gradients(zip(gradients, transformer.trainable_variables))\n",
    "  \n",
    "  train_loss(loss)\n",
    "  train_accuracy(accuracy_function(tar_real, predictions))"
   ]
  },
  {
   "cell_type": "markdown",
   "metadata": {
    "id": "qM2PDWGDJ_8V"
   },
   "source": [
    "Ru is used as the input language and English is the target language."
   ]
  },
  {
   "cell_type": "code",
   "execution_count": null,
   "metadata": {
    "colab": {
     "base_uri": "https://localhost:8080/"
    },
    "id": "bbvmaKNiznHZ",
    "outputId": "3500e84d-24c1-42b9-93a2-3e76109d3da8"
   },
   "outputs": [
    {
     "name": "stdout",
     "output_type": "stream",
     "text": [
      "Epoch 1 Batch 0 Loss 9.0325 Accuracy 0.0000\n",
      "Epoch 1 Batch 50 Loss 8.9803 Accuracy 0.0007\n",
      "Epoch 1 Batch 100 Loss 8.8909 Accuracy 0.0209\n",
      "Epoch 1 Batch 150 Loss 8.7923 Accuracy 0.0327\n",
      "Epoch 1 Batch 200 Loss 8.6688 Accuracy 0.0432\n",
      "Epoch 1 Batch 250 Loss 8.5136 Accuracy 0.0522\n",
      "Epoch 1 Batch 300 Loss 8.3356 Accuracy 0.0615\n",
      "Epoch 1 Batch 350 Loss 8.1465 Accuracy 0.0698\n",
      "Epoch 1 Batch 400 Loss 7.9639 Accuracy 0.0770\n",
      "Epoch 1 Batch 450 Loss 7.7970 Accuracy 0.0824\n",
      "Epoch 1 Batch 500 Loss 7.6496 Accuracy 0.0879\n",
      "Epoch 1 Batch 550 Loss 7.5130 Accuracy 0.0947\n",
      "Epoch 1 Batch 600 Loss 7.3825 Accuracy 0.1022\n",
      "Epoch 1 Batch 650 Loss 7.2584 Accuracy 0.1091\n",
      "Epoch 1 Batch 700 Loss 7.1415 Accuracy 0.1157\n",
      "Epoch 1 Batch 750 Loss 7.0298 Accuracy 0.1226\n",
      "Epoch 1 Batch 800 Loss 6.9265 Accuracy 0.1290\n",
      "Epoch 1 Batch 850 Loss 6.8286 Accuracy 0.1351\n",
      "Epoch 1 Batch 900 Loss 6.7385 Accuracy 0.1408\n",
      "Epoch 1 Batch 950 Loss 6.6517 Accuracy 0.1464\n",
      "Epoch 1 Batch 1000 Loss 6.5730 Accuracy 0.1517\n",
      "Epoch 1 Batch 1050 Loss 6.4984 Accuracy 0.1568\n",
      "Epoch 1 Batch 1100 Loss 6.4275 Accuracy 0.1617\n",
      "Epoch 1 Batch 1150 Loss 6.3622 Accuracy 0.1663\n",
      "Epoch 1 Batch 1200 Loss 6.3002 Accuracy 0.1707\n",
      "Epoch 1 Batch 1250 Loss 6.2418 Accuracy 0.1749\n",
      "Epoch 1 Batch 1300 Loss 6.1872 Accuracy 0.1789\n",
      "Epoch 1 Batch 1350 Loss 6.1352 Accuracy 0.1826\n",
      "Epoch 1 Batch 1400 Loss 6.0863 Accuracy 0.1862\n",
      "Epoch 1 Batch 1450 Loss 6.0410 Accuracy 0.1894\n",
      "Epoch 1 Batch 1500 Loss 5.9961 Accuracy 0.1928\n",
      "Epoch 1 Batch 1550 Loss 5.9532 Accuracy 0.1959\n",
      "Epoch 1 Batch 1600 Loss 5.9124 Accuracy 0.1989\n",
      "Epoch 1 Batch 1650 Loss 5.8741 Accuracy 0.2017\n",
      "Epoch 1 Batch 1700 Loss 5.8360 Accuracy 0.2045\n",
      "Epoch 1 Batch 1750 Loss 5.8000 Accuracy 0.2073\n",
      "Epoch 1 Batch 1800 Loss 5.7657 Accuracy 0.2098\n",
      "Epoch 1 Batch 1850 Loss 5.7331 Accuracy 0.2123\n",
      "Epoch 1 Batch 1900 Loss 5.7010 Accuracy 0.2147\n",
      "Epoch 1 Batch 1950 Loss 5.6701 Accuracy 0.2169\n",
      "Epoch 1 Batch 2000 Loss 5.6406 Accuracy 0.2191\n",
      "Epoch 1 Batch 2050 Loss 5.6122 Accuracy 0.2212\n",
      "Epoch 1 Batch 2100 Loss 5.5849 Accuracy 0.2232\n",
      "Epoch 1 Batch 2150 Loss 5.5581 Accuracy 0.2253\n",
      "Epoch 1 Batch 2200 Loss 5.5320 Accuracy 0.2272\n",
      "Epoch 1 Batch 2250 Loss 5.5068 Accuracy 0.2291\n",
      "Epoch 1 Batch 2300 Loss 5.4820 Accuracy 0.2310\n",
      "Epoch 1 Batch 2350 Loss 5.4581 Accuracy 0.2328\n",
      "Epoch 1 Batch 2400 Loss 5.4347 Accuracy 0.2346\n",
      "Epoch 1 Batch 2450 Loss 5.4119 Accuracy 0.2363\n",
      "Epoch 1 Batch 2500 Loss 5.3901 Accuracy 0.2381\n",
      "Epoch 1 Batch 2550 Loss 5.3685 Accuracy 0.2397\n",
      "Epoch 1 Batch 2600 Loss 5.3476 Accuracy 0.2413\n",
      "Epoch 1 Loss 5.3374 Accuracy 0.2421\n",
      "Time taken for 1 epoch: 489.45995903015137 secs\n",
      "\n",
      "Epoch 2 Batch 0 Loss 4.1967 Accuracy 0.3298\n",
      "Epoch 2 Batch 50 Loss 4.2127 Accuracy 0.3308\n",
      "Epoch 2 Batch 100 Loss 4.2281 Accuracy 0.3287\n",
      "Epoch 2 Batch 150 Loss 4.2151 Accuracy 0.3295\n",
      "Epoch 2 Batch 200 Loss 4.2031 Accuracy 0.3309\n",
      "Epoch 2 Batch 250 Loss 4.1943 Accuracy 0.3321\n",
      "Epoch 2 Batch 300 Loss 4.1840 Accuracy 0.3331\n",
      "Epoch 2 Batch 350 Loss 4.1738 Accuracy 0.3340\n",
      "Epoch 2 Batch 400 Loss 4.1672 Accuracy 0.3347\n",
      "Epoch 2 Batch 450 Loss 4.1581 Accuracy 0.3359\n",
      "Epoch 2 Batch 500 Loss 4.1510 Accuracy 0.3365\n",
      "Epoch 2 Batch 550 Loss 4.1418 Accuracy 0.3376\n",
      "Epoch 2 Batch 600 Loss 4.1337 Accuracy 0.3387\n",
      "Epoch 2 Batch 650 Loss 4.1268 Accuracy 0.3394\n",
      "Epoch 2 Batch 700 Loss 4.1189 Accuracy 0.3403\n",
      "Epoch 2 Batch 750 Loss 4.1099 Accuracy 0.3411\n",
      "Epoch 2 Batch 800 Loss 4.0998 Accuracy 0.3420\n",
      "Epoch 2 Batch 850 Loss 4.0884 Accuracy 0.3432\n",
      "Epoch 2 Batch 900 Loss 4.0795 Accuracy 0.3442\n",
      "Epoch 2 Batch 950 Loss 4.0711 Accuracy 0.3451\n",
      "Epoch 2 Batch 1000 Loss 4.0643 Accuracy 0.3458\n",
      "Epoch 2 Batch 1050 Loss 4.0551 Accuracy 0.3468\n",
      "Epoch 2 Batch 1100 Loss 4.0459 Accuracy 0.3477\n",
      "Epoch 2 Batch 1150 Loss 4.0378 Accuracy 0.3487\n",
      "Epoch 2 Batch 1200 Loss 4.0303 Accuracy 0.3495\n",
      "Epoch 2 Batch 1250 Loss 4.0229 Accuracy 0.3503\n",
      "Epoch 2 Batch 1300 Loss 4.0156 Accuracy 0.3510\n",
      "Epoch 2 Batch 1350 Loss 4.0077 Accuracy 0.3519\n",
      "Epoch 2 Batch 1400 Loss 4.0002 Accuracy 0.3527\n",
      "Epoch 2 Batch 1450 Loss 3.9929 Accuracy 0.3536\n",
      "Epoch 2 Batch 1500 Loss 3.9853 Accuracy 0.3544\n",
      "Epoch 2 Batch 1550 Loss 3.9771 Accuracy 0.3554\n",
      "Epoch 2 Batch 1600 Loss 3.9699 Accuracy 0.3561\n",
      "Epoch 2 Batch 1650 Loss 3.9622 Accuracy 0.3570\n",
      "Epoch 2 Batch 1700 Loss 3.9549 Accuracy 0.3578\n",
      "Epoch 2 Batch 1750 Loss 3.9477 Accuracy 0.3586\n",
      "Epoch 2 Batch 1800 Loss 3.9401 Accuracy 0.3595\n",
      "Epoch 2 Batch 1850 Loss 3.9336 Accuracy 0.3602\n",
      "Epoch 2 Batch 1900 Loss 3.9260 Accuracy 0.3610\n",
      "Epoch 2 Batch 1950 Loss 3.9189 Accuracy 0.3618\n",
      "Epoch 2 Batch 2000 Loss 3.9109 Accuracy 0.3627\n",
      "Epoch 2 Batch 2050 Loss 3.9028 Accuracy 0.3636\n",
      "Epoch 2 Batch 2100 Loss 3.8951 Accuracy 0.3644\n",
      "Epoch 2 Batch 2150 Loss 3.8880 Accuracy 0.3651\n",
      "Epoch 2 Batch 2200 Loss 3.8808 Accuracy 0.3659\n",
      "Epoch 2 Batch 2250 Loss 3.8732 Accuracy 0.3666\n",
      "Epoch 2 Batch 2300 Loss 3.8653 Accuracy 0.3674\n",
      "Epoch 2 Batch 2350 Loss 3.8583 Accuracy 0.3681\n",
      "Epoch 2 Batch 2400 Loss 3.8506 Accuracy 0.3689\n",
      "Epoch 2 Batch 2450 Loss 3.8428 Accuracy 0.3698\n",
      "Epoch 2 Batch 2500 Loss 3.8353 Accuracy 0.3706\n",
      "Epoch 2 Batch 2550 Loss 3.8280 Accuracy 0.3713\n",
      "Epoch 2 Batch 2600 Loss 3.8210 Accuracy 0.3721\n",
      "Epoch 2 Loss 3.8178 Accuracy 0.3724\n",
      "Time taken for 1 epoch: 180.14283180236816 secs\n",
      "\n",
      "Epoch 3 Batch 0 Loss 3.3505 Accuracy 0.4245\n",
      "Epoch 3 Batch 50 Loss 3.3919 Accuracy 0.4201\n",
      "Epoch 3 Batch 100 Loss 3.3826 Accuracy 0.4202\n",
      "Epoch 3 Batch 150 Loss 3.3866 Accuracy 0.4186\n",
      "Epoch 3 Batch 200 Loss 3.3748 Accuracy 0.4196\n",
      "Epoch 3 Batch 250 Loss 3.3729 Accuracy 0.4196\n",
      "Epoch 3 Batch 300 Loss 3.3731 Accuracy 0.4196\n",
      "Epoch 3 Batch 350 Loss 3.3668 Accuracy 0.4202\n",
      "Epoch 3 Batch 400 Loss 3.3587 Accuracy 0.4211\n",
      "Epoch 3 Batch 450 Loss 3.3553 Accuracy 0.4215\n",
      "Epoch 3 Batch 500 Loss 3.3513 Accuracy 0.4219\n",
      "Epoch 3 Batch 550 Loss 3.3491 Accuracy 0.4220\n",
      "Epoch 3 Batch 600 Loss 3.3412 Accuracy 0.4226\n",
      "Epoch 3 Batch 650 Loss 3.3375 Accuracy 0.4231\n",
      "Epoch 3 Batch 700 Loss 3.3318 Accuracy 0.4238\n",
      "Epoch 3 Batch 750 Loss 3.3257 Accuracy 0.4244\n",
      "Epoch 3 Batch 800 Loss 3.3212 Accuracy 0.4250\n",
      "Epoch 3 Batch 850 Loss 3.3162 Accuracy 0.4255\n",
      "Epoch 3 Batch 900 Loss 3.3113 Accuracy 0.4260\n",
      "Epoch 3 Batch 950 Loss 3.3072 Accuracy 0.4265\n",
      "Epoch 3 Batch 1000 Loss 3.3007 Accuracy 0.4273\n",
      "Epoch 3 Batch 1050 Loss 3.2945 Accuracy 0.4280\n",
      "Epoch 3 Batch 1100 Loss 3.2895 Accuracy 0.4286\n",
      "Epoch 3 Batch 1150 Loss 3.2843 Accuracy 0.4291\n",
      "Epoch 3 Batch 1200 Loss 3.2794 Accuracy 0.4296\n",
      "Epoch 3 Batch 1250 Loss 3.2733 Accuracy 0.4303\n",
      "Epoch 3 Batch 1300 Loss 3.2680 Accuracy 0.4309\n",
      "Epoch 3 Batch 1350 Loss 3.2624 Accuracy 0.4315\n",
      "Epoch 3 Batch 1400 Loss 3.2573 Accuracy 0.4321\n",
      "Epoch 3 Batch 1450 Loss 3.2523 Accuracy 0.4327\n",
      "Epoch 3 Batch 1500 Loss 3.2471 Accuracy 0.4333\n",
      "Epoch 3 Batch 1550 Loss 3.2427 Accuracy 0.4339\n",
      "Epoch 3 Batch 1600 Loss 3.2372 Accuracy 0.4345\n",
      "Epoch 3 Batch 1650 Loss 3.2318 Accuracy 0.4351\n",
      "Epoch 3 Batch 1700 Loss 3.2277 Accuracy 0.4355\n",
      "Epoch 3 Batch 1750 Loss 3.2228 Accuracy 0.4360\n",
      "Epoch 3 Batch 1800 Loss 3.2172 Accuracy 0.4366\n",
      "Epoch 3 Batch 1850 Loss 3.2129 Accuracy 0.4371\n",
      "Epoch 3 Batch 1900 Loss 3.2091 Accuracy 0.4375\n",
      "Epoch 3 Batch 1950 Loss 3.2045 Accuracy 0.4380\n",
      "Epoch 3 Batch 2000 Loss 3.2004 Accuracy 0.4385\n",
      "Epoch 3 Batch 2050 Loss 3.1966 Accuracy 0.4389\n",
      "Epoch 3 Batch 2100 Loss 3.1921 Accuracy 0.4394\n",
      "Epoch 3 Batch 2150 Loss 3.1876 Accuracy 0.4399\n",
      "Epoch 3 Batch 2200 Loss 3.1838 Accuracy 0.4403\n",
      "Epoch 3 Batch 2250 Loss 3.1796 Accuracy 0.4408\n",
      "Epoch 3 Batch 2300 Loss 3.1754 Accuracy 0.4413\n",
      "Epoch 3 Batch 2350 Loss 3.1713 Accuracy 0.4418\n",
      "Epoch 3 Batch 2400 Loss 3.1673 Accuracy 0.4422\n",
      "Epoch 3 Batch 2450 Loss 3.1636 Accuracy 0.4427\n",
      "Epoch 3 Batch 2500 Loss 3.1599 Accuracy 0.4431\n",
      "Epoch 3 Batch 2550 Loss 3.1559 Accuracy 0.4436\n",
      "Epoch 3 Batch 2600 Loss 3.1520 Accuracy 0.4440\n",
      "Epoch 3 Loss 3.1501 Accuracy 0.4442\n",
      "Time taken for 1 epoch: 174.2656180858612 secs\n",
      "\n",
      "Epoch 4 Batch 0 Loss 2.8550 Accuracy 0.4804\n",
      "Epoch 4 Batch 50 Loss 2.9187 Accuracy 0.4685\n",
      "Epoch 4 Batch 100 Loss 2.9207 Accuracy 0.4682\n",
      "Epoch 4 Batch 150 Loss 2.8963 Accuracy 0.4711\n",
      "Epoch 4 Batch 200 Loss 2.8992 Accuracy 0.4710\n",
      "Epoch 4 Batch 250 Loss 2.8999 Accuracy 0.4714\n",
      "Epoch 4 Batch 300 Loss 2.9022 Accuracy 0.4712\n",
      "Epoch 4 Batch 350 Loss 2.8994 Accuracy 0.4716\n",
      "Epoch 4 Batch 400 Loss 2.8986 Accuracy 0.4719\n",
      "Epoch 4 Batch 450 Loss 2.8938 Accuracy 0.4725\n",
      "Epoch 4 Batch 500 Loss 2.8887 Accuracy 0.4730\n",
      "Epoch 4 Batch 550 Loss 2.8877 Accuracy 0.4733\n",
      "Epoch 4 Batch 600 Loss 2.8870 Accuracy 0.4735\n",
      "Epoch 4 Batch 650 Loss 2.8831 Accuracy 0.4738\n",
      "Epoch 4 Batch 700 Loss 2.8825 Accuracy 0.4740\n",
      "Epoch 4 Batch 750 Loss 2.8799 Accuracy 0.4746\n",
      "Epoch 4 Batch 800 Loss 2.8793 Accuracy 0.4744\n",
      "Epoch 4 Batch 850 Loss 2.8760 Accuracy 0.4748\n",
      "Epoch 4 Batch 900 Loss 2.8727 Accuracy 0.4752\n",
      "Epoch 4 Batch 950 Loss 2.8690 Accuracy 0.4757\n",
      "Epoch 4 Batch 1000 Loss 2.8656 Accuracy 0.4763\n",
      "Epoch 4 Batch 1050 Loss 2.8634 Accuracy 0.4764\n",
      "Epoch 4 Batch 1100 Loss 2.8600 Accuracy 0.4769\n",
      "Epoch 4 Batch 1150 Loss 2.8590 Accuracy 0.4770\n",
      "Epoch 4 Batch 1200 Loss 2.8566 Accuracy 0.4773\n",
      "Epoch 4 Batch 1250 Loss 2.8550 Accuracy 0.4774\n",
      "Epoch 4 Batch 1300 Loss 2.8531 Accuracy 0.4776\n",
      "Epoch 4 Batch 1350 Loss 2.8510 Accuracy 0.4779\n",
      "Epoch 4 Batch 1400 Loss 2.8484 Accuracy 0.4783\n",
      "Epoch 4 Batch 1450 Loss 2.8454 Accuracy 0.4787\n",
      "Epoch 4 Batch 1500 Loss 2.8436 Accuracy 0.4788\n",
      "Epoch 4 Batch 1550 Loss 2.8417 Accuracy 0.4790\n",
      "Epoch 4 Batch 1600 Loss 2.8397 Accuracy 0.4793\n",
      "Epoch 4 Batch 1650 Loss 2.8382 Accuracy 0.4795\n",
      "Epoch 4 Batch 1700 Loss 2.8352 Accuracy 0.4800\n",
      "Epoch 4 Batch 1750 Loss 2.8333 Accuracy 0.4801\n",
      "Epoch 4 Batch 1800 Loss 2.8319 Accuracy 0.4803\n",
      "Epoch 4 Batch 1850 Loss 2.8300 Accuracy 0.4806\n",
      "Epoch 4 Batch 1900 Loss 2.8282 Accuracy 0.4808\n",
      "Epoch 4 Batch 1950 Loss 2.8258 Accuracy 0.4810\n",
      "Epoch 4 Batch 2000 Loss 2.8241 Accuracy 0.4812\n",
      "Epoch 4 Batch 2050 Loss 2.8217 Accuracy 0.4816\n",
      "Epoch 4 Batch 2100 Loss 2.8200 Accuracy 0.4817\n",
      "Epoch 4 Batch 2150 Loss 2.8179 Accuracy 0.4819\n",
      "Epoch 4 Batch 2200 Loss 2.8155 Accuracy 0.4822\n",
      "Epoch 4 Batch 2250 Loss 2.8139 Accuracy 0.4824\n",
      "Epoch 4 Batch 2300 Loss 2.8121 Accuracy 0.4826\n",
      "Epoch 4 Batch 2350 Loss 2.8097 Accuracy 0.4830\n",
      "Epoch 4 Batch 2400 Loss 2.8074 Accuracy 0.4832\n",
      "Epoch 4 Batch 2450 Loss 2.8051 Accuracy 0.4835\n",
      "Epoch 4 Batch 2500 Loss 2.8032 Accuracy 0.4836\n",
      "Epoch 4 Batch 2550 Loss 2.8014 Accuracy 0.4838\n",
      "Epoch 4 Batch 2600 Loss 2.7997 Accuracy 0.4840\n",
      "Epoch 4 Loss 2.7993 Accuracy 0.4840\n",
      "Time taken for 1 epoch: 176.53158235549927 secs\n",
      "\n",
      "Epoch 5 Batch 0 Loss 2.7795 Accuracy 0.4883\n",
      "Epoch 5 Batch 50 Loss 2.6891 Accuracy 0.4986\n",
      "Epoch 5 Batch 100 Loss 2.6787 Accuracy 0.4981\n",
      "Epoch 5 Batch 150 Loss 2.6741 Accuracy 0.4988\n",
      "Epoch 5 Batch 200 Loss 2.6692 Accuracy 0.4996\n",
      "Epoch 5 Batch 250 Loss 2.6726 Accuracy 0.4987\n",
      "Epoch 5 Batch 300 Loss 2.6697 Accuracy 0.4994\n",
      "Epoch 5 Batch 350 Loss 2.6641 Accuracy 0.5001\n",
      "Epoch 5 Batch 400 Loss 2.6633 Accuracy 0.5003\n",
      "Epoch 5 Batch 450 Loss 2.6627 Accuracy 0.5001\n",
      "Epoch 5 Batch 500 Loss 2.6629 Accuracy 0.5000\n",
      "Epoch 5 Batch 550 Loss 2.6630 Accuracy 0.5001\n",
      "Epoch 5 Batch 600 Loss 2.6601 Accuracy 0.5002\n",
      "Epoch 5 Batch 650 Loss 2.6599 Accuracy 0.5001\n",
      "Epoch 5 Batch 700 Loss 2.6576 Accuracy 0.5004\n",
      "Epoch 5 Batch 750 Loss 2.6560 Accuracy 0.5006\n",
      "Epoch 5 Batch 800 Loss 2.6542 Accuracy 0.5009\n",
      "Epoch 5 Batch 850 Loss 2.6529 Accuracy 0.5010\n",
      "Epoch 5 Batch 900 Loss 2.6498 Accuracy 0.5014\n",
      "Epoch 5 Batch 950 Loss 2.6498 Accuracy 0.5016\n",
      "Epoch 5 Batch 1000 Loss 2.6474 Accuracy 0.5019\n",
      "Epoch 5 Batch 1050 Loss 2.6465 Accuracy 0.5020\n",
      "Epoch 5 Batch 1100 Loss 2.6441 Accuracy 0.5023\n",
      "Epoch 5 Batch 1150 Loss 2.6423 Accuracy 0.5026\n",
      "Epoch 5 Batch 1200 Loss 2.6417 Accuracy 0.5026\n",
      "Epoch 5 Batch 1250 Loss 2.6399 Accuracy 0.5029\n",
      "Epoch 5 Batch 1300 Loss 2.6396 Accuracy 0.5029\n",
      "Epoch 5 Batch 1350 Loss 2.6382 Accuracy 0.5031\n",
      "Epoch 5 Batch 1400 Loss 2.6375 Accuracy 0.5031\n",
      "Epoch 5 Batch 1450 Loss 2.6354 Accuracy 0.5035\n",
      "Epoch 5 Batch 1500 Loss 2.6341 Accuracy 0.5037\n",
      "Epoch 5 Batch 1550 Loss 2.6325 Accuracy 0.5040\n",
      "Epoch 5 Batch 1600 Loss 2.6306 Accuracy 0.5043\n",
      "Epoch 5 Batch 1650 Loss 2.6302 Accuracy 0.5043\n",
      "Epoch 5 Batch 1700 Loss 2.6283 Accuracy 0.5046\n",
      "Epoch 5 Batch 1750 Loss 2.6276 Accuracy 0.5047\n",
      "Epoch 5 Batch 1800 Loss 2.6261 Accuracy 0.5048\n",
      "Epoch 5 Batch 1850 Loss 2.6259 Accuracy 0.5049\n",
      "Epoch 5 Batch 1900 Loss 2.6239 Accuracy 0.5051\n",
      "Epoch 5 Batch 1950 Loss 2.6228 Accuracy 0.5053\n",
      "Epoch 5 Batch 2000 Loss 2.6223 Accuracy 0.5054\n",
      "Epoch 5 Batch 2050 Loss 2.6214 Accuracy 0.5054\n",
      "Epoch 5 Batch 2100 Loss 2.6204 Accuracy 0.5056\n",
      "Epoch 5 Batch 2150 Loss 2.6191 Accuracy 0.5058\n",
      "Epoch 5 Batch 2200 Loss 2.6178 Accuracy 0.5059\n",
      "Epoch 5 Batch 2250 Loss 2.6170 Accuracy 0.5060\n",
      "Epoch 5 Batch 2300 Loss 2.6157 Accuracy 0.5061\n",
      "Epoch 5 Batch 2350 Loss 2.6147 Accuracy 0.5062\n",
      "Epoch 5 Batch 2400 Loss 2.6136 Accuracy 0.5064\n",
      "Epoch 5 Batch 2450 Loss 2.6120 Accuracy 0.5066\n",
      "Epoch 5 Batch 2500 Loss 2.6108 Accuracy 0.5067\n",
      "Epoch 5 Batch 2550 Loss 2.6101 Accuracy 0.5068\n",
      "Epoch 5 Batch 2600 Loss 2.6088 Accuracy 0.5070\n",
      "Saving checkpoint for epoch 5 at ./checkpoints/train/ckpt-1\n",
      "Epoch 5 Loss 2.6083 Accuracy 0.5070\n",
      "Time taken for 1 epoch: 175.4071033000946 secs\n",
      "\n",
      "Epoch 6 Batch 0 Loss 2.5599 Accuracy 0.4979\n",
      "Epoch 6 Batch 50 Loss 2.5274 Accuracy 0.5153\n",
      "Epoch 6 Batch 100 Loss 2.5249 Accuracy 0.5157\n",
      "Epoch 6 Batch 150 Loss 2.5165 Accuracy 0.5171\n",
      "Epoch 6 Batch 200 Loss 2.5188 Accuracy 0.5177\n",
      "Epoch 6 Batch 250 Loss 2.5205 Accuracy 0.5173\n",
      "Epoch 6 Batch 300 Loss 2.5181 Accuracy 0.5177\n",
      "Epoch 6 Batch 350 Loss 2.5165 Accuracy 0.5178\n",
      "Epoch 6 Batch 400 Loss 2.5167 Accuracy 0.5178\n",
      "Epoch 6 Batch 450 Loss 2.5133 Accuracy 0.5181\n",
      "Epoch 6 Batch 500 Loss 2.5151 Accuracy 0.5179\n",
      "Epoch 6 Batch 550 Loss 2.5172 Accuracy 0.5176\n",
      "Epoch 6 Batch 600 Loss 2.5150 Accuracy 0.5178\n",
      "Epoch 6 Batch 650 Loss 2.5141 Accuracy 0.5181\n",
      "Epoch 6 Batch 700 Loss 2.5130 Accuracy 0.5184\n",
      "Epoch 6 Batch 750 Loss 2.5127 Accuracy 0.5183\n",
      "Epoch 6 Batch 800 Loss 2.5118 Accuracy 0.5185\n",
      "Epoch 6 Batch 850 Loss 2.5125 Accuracy 0.5185\n",
      "Epoch 6 Batch 900 Loss 2.5133 Accuracy 0.5183\n",
      "Epoch 6 Batch 950 Loss 2.5116 Accuracy 0.5186\n",
      "Epoch 6 Batch 1000 Loss 2.5105 Accuracy 0.5186\n",
      "Epoch 6 Batch 1050 Loss 2.5092 Accuracy 0.5189\n",
      "Epoch 6 Batch 1100 Loss 2.5078 Accuracy 0.5190\n",
      "Epoch 6 Batch 1150 Loss 2.5058 Accuracy 0.5194\n",
      "Epoch 6 Batch 1200 Loss 2.5047 Accuracy 0.5195\n",
      "Epoch 6 Batch 1250 Loss 2.5042 Accuracy 0.5196\n",
      "Epoch 6 Batch 1300 Loss 2.5023 Accuracy 0.5198\n",
      "Epoch 6 Batch 1350 Loss 2.5013 Accuracy 0.5199\n",
      "Epoch 6 Batch 1400 Loss 2.5011 Accuracy 0.5199\n",
      "Epoch 6 Batch 1450 Loss 2.5006 Accuracy 0.5201\n",
      "Epoch 6 Batch 1500 Loss 2.4986 Accuracy 0.5204\n",
      "Epoch 6 Batch 1550 Loss 2.4974 Accuracy 0.5206\n",
      "Epoch 6 Batch 1600 Loss 2.4969 Accuracy 0.5208\n",
      "Epoch 6 Batch 1650 Loss 2.4964 Accuracy 0.5208\n",
      "Epoch 6 Batch 1700 Loss 2.4958 Accuracy 0.5209\n",
      "Epoch 6 Batch 1750 Loss 2.4946 Accuracy 0.5211\n",
      "Epoch 6 Batch 1800 Loss 2.4938 Accuracy 0.5212\n",
      "Epoch 6 Batch 1850 Loss 2.4937 Accuracy 0.5212\n",
      "Epoch 6 Batch 1900 Loss 2.4938 Accuracy 0.5212\n",
      "Epoch 6 Batch 1950 Loss 2.4931 Accuracy 0.5212\n",
      "Epoch 6 Batch 2000 Loss 2.4922 Accuracy 0.5213\n",
      "Epoch 6 Batch 2050 Loss 2.4908 Accuracy 0.5215\n",
      "Epoch 6 Batch 2100 Loss 2.4902 Accuracy 0.5215\n",
      "Epoch 6 Batch 2150 Loss 2.4894 Accuracy 0.5217\n",
      "Epoch 6 Batch 2200 Loss 2.4889 Accuracy 0.5217\n",
      "Epoch 6 Batch 2250 Loss 2.4883 Accuracy 0.5217\n",
      "Epoch 6 Batch 2300 Loss 2.4879 Accuracy 0.5218\n",
      "Epoch 6 Batch 2350 Loss 2.4872 Accuracy 0.5218\n",
      "Epoch 6 Batch 2400 Loss 2.4863 Accuracy 0.5220\n",
      "Epoch 6 Batch 2450 Loss 2.4854 Accuracy 0.5221\n",
      "Epoch 6 Batch 2500 Loss 2.4846 Accuracy 0.5222\n",
      "Epoch 6 Batch 2550 Loss 2.4839 Accuracy 0.5223\n",
      "Epoch 6 Batch 2600 Loss 2.4835 Accuracy 0.5224\n",
      "Epoch 6 Loss 2.4831 Accuracy 0.5224\n",
      "Time taken for 1 epoch: 174.83512091636658 secs\n",
      "\n",
      "Epoch 7 Batch 0 Loss 2.2713 Accuracy 0.5660\n",
      "Epoch 7 Batch 50 Loss 2.4116 Accuracy 0.5316\n",
      "Epoch 7 Batch 100 Loss 2.4196 Accuracy 0.5299\n",
      "Epoch 7 Batch 150 Loss 2.4221 Accuracy 0.5293\n",
      "Epoch 7 Batch 200 Loss 2.4211 Accuracy 0.5296\n",
      "Epoch 7 Batch 250 Loss 2.4195 Accuracy 0.5297\n",
      "Epoch 7 Batch 300 Loss 2.4169 Accuracy 0.5301\n",
      "Epoch 7 Batch 350 Loss 2.4174 Accuracy 0.5300\n",
      "Epoch 7 Batch 400 Loss 2.4210 Accuracy 0.5296\n",
      "Epoch 7 Batch 450 Loss 2.4178 Accuracy 0.5297\n",
      "Epoch 7 Batch 500 Loss 2.4201 Accuracy 0.5295\n",
      "Epoch 7 Batch 550 Loss 2.4204 Accuracy 0.5295\n",
      "Epoch 7 Batch 600 Loss 2.4201 Accuracy 0.5296\n",
      "Epoch 7 Batch 650 Loss 2.4185 Accuracy 0.5300\n",
      "Epoch 7 Batch 700 Loss 2.4165 Accuracy 0.5301\n",
      "Epoch 7 Batch 750 Loss 2.4148 Accuracy 0.5302\n",
      "Epoch 7 Batch 800 Loss 2.4117 Accuracy 0.5307\n",
      "Epoch 7 Batch 850 Loss 2.4108 Accuracy 0.5309\n",
      "Epoch 7 Batch 900 Loss 2.4109 Accuracy 0.5310\n",
      "Epoch 7 Batch 950 Loss 2.4090 Accuracy 0.5312\n",
      "Epoch 7 Batch 1000 Loss 2.4090 Accuracy 0.5312\n",
      "Epoch 7 Batch 1050 Loss 2.4086 Accuracy 0.5313\n",
      "Epoch 7 Batch 1100 Loss 2.4081 Accuracy 0.5314\n",
      "Epoch 7 Batch 1150 Loss 2.4076 Accuracy 0.5315\n",
      "Epoch 7 Batch 1200 Loss 2.4064 Accuracy 0.5317\n",
      "Epoch 7 Batch 1250 Loss 2.4061 Accuracy 0.5318\n",
      "Epoch 7 Batch 1300 Loss 2.4043 Accuracy 0.5320\n",
      "Epoch 7 Batch 1350 Loss 2.4042 Accuracy 0.5320\n",
      "Epoch 7 Batch 1400 Loss 2.4031 Accuracy 0.5323\n",
      "Epoch 7 Batch 1450 Loss 2.4024 Accuracy 0.5324\n",
      "Epoch 7 Batch 1500 Loss 2.4012 Accuracy 0.5325\n",
      "Epoch 7 Batch 1550 Loss 2.4008 Accuracy 0.5325\n",
      "Epoch 7 Batch 1600 Loss 2.4011 Accuracy 0.5325\n",
      "Epoch 7 Batch 1650 Loss 2.4001 Accuracy 0.5327\n",
      "Epoch 7 Batch 1700 Loss 2.3999 Accuracy 0.5328\n",
      "Epoch 7 Batch 1750 Loss 2.4002 Accuracy 0.5327\n",
      "Epoch 7 Batch 1800 Loss 2.4000 Accuracy 0.5328\n",
      "Epoch 7 Batch 1850 Loss 2.3995 Accuracy 0.5328\n",
      "Epoch 7 Batch 1900 Loss 2.3993 Accuracy 0.5329\n",
      "Epoch 7 Batch 1950 Loss 2.3992 Accuracy 0.5330\n",
      "Epoch 7 Batch 2000 Loss 2.3986 Accuracy 0.5330\n",
      "Epoch 7 Batch 2050 Loss 2.3981 Accuracy 0.5331\n",
      "Epoch 7 Batch 2100 Loss 2.3972 Accuracy 0.5332\n",
      "Epoch 7 Batch 2150 Loss 2.3965 Accuracy 0.5333\n",
      "Epoch 7 Batch 2200 Loss 2.3965 Accuracy 0.5332\n",
      "Epoch 7 Batch 2250 Loss 2.3963 Accuracy 0.5333\n",
      "Epoch 7 Batch 2300 Loss 2.3954 Accuracy 0.5334\n",
      "Epoch 7 Batch 2350 Loss 2.3949 Accuracy 0.5335\n",
      "Epoch 7 Batch 2400 Loss 2.3944 Accuracy 0.5336\n",
      "Epoch 7 Batch 2450 Loss 2.3942 Accuracy 0.5336\n",
      "Epoch 7 Batch 2500 Loss 2.3935 Accuracy 0.5337\n",
      "Epoch 7 Batch 2550 Loss 2.3930 Accuracy 0.5338\n",
      "Epoch 7 Batch 2600 Loss 2.3926 Accuracy 0.5338\n",
      "Epoch 7 Loss 2.3924 Accuracy 0.5338\n",
      "Time taken for 1 epoch: 178.27588486671448 secs\n",
      "\n",
      "Epoch 8 Batch 0 Loss 2.5685 Accuracy 0.5090\n",
      "Epoch 8 Batch 50 Loss 2.3347 Accuracy 0.5396\n",
      "Epoch 8 Batch 100 Loss 2.3354 Accuracy 0.5405\n",
      "Epoch 8 Batch 150 Loss 2.3371 Accuracy 0.5412\n",
      "Epoch 8 Batch 200 Loss 2.3337 Accuracy 0.5407\n",
      "Epoch 8 Batch 250 Loss 2.3345 Accuracy 0.5403\n",
      "Epoch 8 Batch 300 Loss 2.3324 Accuracy 0.5405\n",
      "Epoch 8 Batch 350 Loss 2.3350 Accuracy 0.5401\n",
      "Epoch 8 Batch 400 Loss 2.3400 Accuracy 0.5394\n",
      "Epoch 8 Batch 450 Loss 2.3392 Accuracy 0.5393\n",
      "Epoch 8 Batch 500 Loss 2.3395 Accuracy 0.5391\n",
      "Epoch 8 Batch 550 Loss 2.3395 Accuracy 0.5392\n",
      "Epoch 8 Batch 600 Loss 2.3369 Accuracy 0.5397\n",
      "Epoch 8 Batch 650 Loss 2.3353 Accuracy 0.5399\n",
      "Epoch 8 Batch 700 Loss 2.3372 Accuracy 0.5400\n",
      "Epoch 8 Batch 750 Loss 2.3360 Accuracy 0.5402\n",
      "Epoch 8 Batch 800 Loss 2.3363 Accuracy 0.5401\n",
      "Epoch 8 Batch 850 Loss 2.3381 Accuracy 0.5399\n",
      "Epoch 8 Batch 900 Loss 2.3388 Accuracy 0.5400\n",
      "Epoch 8 Batch 950 Loss 2.3386 Accuracy 0.5402\n",
      "Epoch 8 Batch 1000 Loss 2.3372 Accuracy 0.5404\n",
      "Epoch 8 Batch 1050 Loss 2.3371 Accuracy 0.5405\n",
      "Epoch 8 Batch 1100 Loss 2.3366 Accuracy 0.5405\n",
      "Epoch 8 Batch 1150 Loss 2.3363 Accuracy 0.5405\n",
      "Epoch 8 Batch 1200 Loss 2.3369 Accuracy 0.5404\n",
      "Epoch 8 Batch 1250 Loss 2.3350 Accuracy 0.5406\n",
      "Epoch 8 Batch 1300 Loss 2.3342 Accuracy 0.5408\n",
      "Epoch 8 Batch 1350 Loss 2.3343 Accuracy 0.5409\n",
      "Epoch 8 Batch 1400 Loss 2.3344 Accuracy 0.5410\n",
      "Epoch 8 Batch 1450 Loss 2.3339 Accuracy 0.5410\n",
      "Epoch 8 Batch 1500 Loss 2.3332 Accuracy 0.5412\n",
      "Epoch 8 Batch 1550 Loss 2.3323 Accuracy 0.5414\n",
      "Epoch 8 Batch 1600 Loss 2.3324 Accuracy 0.5413\n",
      "Epoch 8 Batch 1650 Loss 2.3321 Accuracy 0.5414\n",
      "Epoch 8 Batch 1700 Loss 2.3315 Accuracy 0.5415\n",
      "Epoch 8 Batch 1750 Loss 2.3308 Accuracy 0.5417\n",
      "Epoch 8 Batch 1800 Loss 2.3301 Accuracy 0.5417\n",
      "Epoch 8 Batch 1850 Loss 2.3296 Accuracy 0.5418\n",
      "Epoch 8 Batch 1900 Loss 2.3292 Accuracy 0.5419\n",
      "Epoch 8 Batch 1950 Loss 2.3287 Accuracy 0.5419\n",
      "Epoch 8 Batch 2000 Loss 2.3287 Accuracy 0.5419\n",
      "Epoch 8 Batch 2050 Loss 2.3285 Accuracy 0.5420\n",
      "Epoch 8 Batch 2100 Loss 2.3280 Accuracy 0.5420\n",
      "Epoch 8 Batch 2150 Loss 2.3281 Accuracy 0.5420\n",
      "Epoch 8 Batch 2200 Loss 2.3282 Accuracy 0.5420\n",
      "Epoch 8 Batch 2250 Loss 2.3274 Accuracy 0.5421\n",
      "Epoch 8 Batch 2300 Loss 2.3274 Accuracy 0.5421\n",
      "Epoch 8 Batch 2350 Loss 2.3273 Accuracy 0.5421\n",
      "Epoch 8 Batch 2400 Loss 2.3266 Accuracy 0.5422\n",
      "Epoch 8 Batch 2450 Loss 2.3256 Accuracy 0.5424\n",
      "Epoch 8 Batch 2500 Loss 2.3251 Accuracy 0.5424\n",
      "Epoch 8 Batch 2550 Loss 2.3245 Accuracy 0.5425\n",
      "Epoch 8 Batch 2600 Loss 2.3242 Accuracy 0.5425\n",
      "Epoch 8 Loss 2.3244 Accuracy 0.5425\n",
      "Time taken for 1 epoch: 183.58753442764282 secs\n",
      "\n",
      "Epoch 9 Batch 0 Loss 2.2325 Accuracy 0.5659\n",
      "Epoch 9 Batch 50 Loss 2.2861 Accuracy 0.5487\n",
      "Epoch 9 Batch 100 Loss 2.2864 Accuracy 0.5478\n",
      "Epoch 9 Batch 150 Loss 2.2810 Accuracy 0.5480\n",
      "Epoch 9 Batch 200 Loss 2.2768 Accuracy 0.5483\n",
      "Epoch 9 Batch 250 Loss 2.2763 Accuracy 0.5481\n",
      "Epoch 9 Batch 300 Loss 2.2796 Accuracy 0.5479\n",
      "Epoch 9 Batch 350 Loss 2.2801 Accuracy 0.5481\n",
      "Epoch 9 Batch 400 Loss 2.2813 Accuracy 0.5480\n",
      "Epoch 9 Batch 450 Loss 2.2814 Accuracy 0.5480\n",
      "Epoch 9 Batch 500 Loss 2.2798 Accuracy 0.5483\n",
      "Epoch 9 Batch 550 Loss 2.2794 Accuracy 0.5482\n",
      "Epoch 9 Batch 600 Loss 2.2802 Accuracy 0.5480\n",
      "Epoch 9 Batch 650 Loss 2.2813 Accuracy 0.5479\n",
      "Epoch 9 Batch 700 Loss 2.2809 Accuracy 0.5481\n",
      "Epoch 9 Batch 750 Loss 2.2793 Accuracy 0.5482\n",
      "Epoch 9 Batch 800 Loss 2.2778 Accuracy 0.5484\n",
      "Epoch 9 Batch 850 Loss 2.2784 Accuracy 0.5486\n",
      "Epoch 9 Batch 900 Loss 2.2787 Accuracy 0.5485\n",
      "Epoch 9 Batch 950 Loss 2.2783 Accuracy 0.5486\n",
      "Epoch 9 Batch 1000 Loss 2.2778 Accuracy 0.5487\n",
      "Epoch 9 Batch 1050 Loss 2.2782 Accuracy 0.5487\n",
      "Epoch 9 Batch 1100 Loss 2.2782 Accuracy 0.5488\n",
      "Epoch 9 Batch 1150 Loss 2.2777 Accuracy 0.5489\n",
      "Epoch 9 Batch 1200 Loss 2.2773 Accuracy 0.5490\n",
      "Epoch 9 Batch 1250 Loss 2.2771 Accuracy 0.5491\n",
      "Epoch 9 Batch 1300 Loss 2.2777 Accuracy 0.5491\n",
      "Epoch 9 Batch 1350 Loss 2.2770 Accuracy 0.5492\n",
      "Epoch 9 Batch 1400 Loss 2.2759 Accuracy 0.5494\n",
      "Epoch 9 Batch 1450 Loss 2.2757 Accuracy 0.5493\n",
      "Epoch 9 Batch 1500 Loss 2.2752 Accuracy 0.5494\n",
      "Epoch 9 Batch 1550 Loss 2.2753 Accuracy 0.5494\n",
      "Epoch 9 Batch 1600 Loss 2.2741 Accuracy 0.5497\n",
      "Epoch 9 Batch 1650 Loss 2.2737 Accuracy 0.5497\n",
      "Epoch 9 Batch 1700 Loss 2.2730 Accuracy 0.5497\n",
      "Epoch 9 Batch 1750 Loss 2.2733 Accuracy 0.5497\n",
      "Epoch 9 Batch 1800 Loss 2.2731 Accuracy 0.5498\n",
      "Epoch 9 Batch 1850 Loss 2.2728 Accuracy 0.5498\n",
      "Epoch 9 Batch 1900 Loss 2.2722 Accuracy 0.5499\n",
      "Epoch 9 Batch 1950 Loss 2.2720 Accuracy 0.5499\n",
      "Epoch 9 Batch 2000 Loss 2.2717 Accuracy 0.5499\n",
      "Epoch 9 Batch 2050 Loss 2.2718 Accuracy 0.5499\n",
      "Epoch 9 Batch 2100 Loss 2.2712 Accuracy 0.5500\n",
      "Epoch 9 Batch 2150 Loss 2.2712 Accuracy 0.5500\n",
      "Epoch 9 Batch 2200 Loss 2.2708 Accuracy 0.5500\n",
      "Epoch 9 Batch 2250 Loss 2.2705 Accuracy 0.5501\n",
      "Epoch 9 Batch 2300 Loss 2.2701 Accuracy 0.5502\n",
      "Epoch 9 Batch 2350 Loss 2.2701 Accuracy 0.5502\n",
      "Epoch 9 Batch 2400 Loss 2.2700 Accuracy 0.5502\n",
      "Epoch 9 Batch 2450 Loss 2.2692 Accuracy 0.5503\n",
      "Epoch 9 Batch 2500 Loss 2.2691 Accuracy 0.5503\n",
      "Epoch 9 Batch 2550 Loss 2.2685 Accuracy 0.5504\n",
      "Epoch 9 Batch 2600 Loss 2.2685 Accuracy 0.5504\n",
      "Epoch 9 Loss 2.2682 Accuracy 0.5504\n",
      "Time taken for 1 epoch: 184.84063053131104 secs\n",
      "\n",
      "Epoch 10 Batch 0 Loss 2.3009 Accuracy 0.5636\n",
      "Epoch 10 Batch 50 Loss 2.2342 Accuracy 0.5542\n",
      "Epoch 10 Batch 100 Loss 2.2218 Accuracy 0.5542\n",
      "Epoch 10 Batch 150 Loss 2.2260 Accuracy 0.5540\n",
      "Epoch 10 Batch 200 Loss 2.2300 Accuracy 0.5540\n",
      "Epoch 10 Batch 250 Loss 2.2353 Accuracy 0.5533\n",
      "Epoch 10 Batch 300 Loss 2.2359 Accuracy 0.5538\n",
      "Epoch 10 Batch 350 Loss 2.2339 Accuracy 0.5539\n",
      "Epoch 10 Batch 400 Loss 2.2349 Accuracy 0.5535\n",
      "Epoch 10 Batch 450 Loss 2.2373 Accuracy 0.5536\n",
      "Epoch 10 Batch 500 Loss 2.2365 Accuracy 0.5537\n",
      "Epoch 10 Batch 550 Loss 2.2335 Accuracy 0.5541\n",
      "Epoch 10 Batch 600 Loss 2.2341 Accuracy 0.5540\n",
      "Epoch 10 Batch 650 Loss 2.2347 Accuracy 0.5540\n",
      "Epoch 10 Batch 700 Loss 2.2346 Accuracy 0.5541\n",
      "Epoch 10 Batch 750 Loss 2.2338 Accuracy 0.5542\n",
      "Epoch 10 Batch 800 Loss 2.2333 Accuracy 0.5544\n",
      "Epoch 10 Batch 850 Loss 2.2347 Accuracy 0.5543\n",
      "Epoch 10 Batch 900 Loss 2.2333 Accuracy 0.5546\n",
      "Epoch 10 Batch 950 Loss 2.2338 Accuracy 0.5546\n",
      "Epoch 10 Batch 1000 Loss 2.2342 Accuracy 0.5546\n",
      "Epoch 10 Batch 1050 Loss 2.2330 Accuracy 0.5548\n",
      "Epoch 10 Batch 1100 Loss 2.2322 Accuracy 0.5550\n",
      "Epoch 10 Batch 1150 Loss 2.2307 Accuracy 0.5553\n",
      "Epoch 10 Batch 1200 Loss 2.2313 Accuracy 0.5553\n",
      "Epoch 10 Batch 1250 Loss 2.2308 Accuracy 0.5554\n",
      "Epoch 10 Batch 1300 Loss 2.2297 Accuracy 0.5556\n",
      "Epoch 10 Batch 1350 Loss 2.2292 Accuracy 0.5556\n",
      "Epoch 10 Batch 1400 Loss 2.2287 Accuracy 0.5557\n",
      "Epoch 10 Batch 1450 Loss 2.2286 Accuracy 0.5557\n",
      "Epoch 10 Batch 1500 Loss 2.2284 Accuracy 0.5557\n",
      "Epoch 10 Batch 1550 Loss 2.2282 Accuracy 0.5558\n",
      "Epoch 10 Batch 1600 Loss 2.2284 Accuracy 0.5558\n",
      "Epoch 10 Batch 1650 Loss 2.2282 Accuracy 0.5558\n",
      "Epoch 10 Batch 1700 Loss 2.2281 Accuracy 0.5557\n",
      "Epoch 10 Batch 1750 Loss 2.2280 Accuracy 0.5557\n",
      "Epoch 10 Batch 1800 Loss 2.2276 Accuracy 0.5557\n",
      "Epoch 10 Batch 1850 Loss 2.2281 Accuracy 0.5557\n",
      "Epoch 10 Batch 1900 Loss 2.2279 Accuracy 0.5557\n",
      "Epoch 10 Batch 1950 Loss 2.2272 Accuracy 0.5558\n",
      "Epoch 10 Batch 2000 Loss 2.2270 Accuracy 0.5559\n",
      "Epoch 10 Batch 2050 Loss 2.2266 Accuracy 0.5559\n",
      "Epoch 10 Batch 2100 Loss 2.2259 Accuracy 0.5560\n",
      "Epoch 10 Batch 2150 Loss 2.2256 Accuracy 0.5560\n",
      "Epoch 10 Batch 2200 Loss 2.2254 Accuracy 0.5561\n",
      "Epoch 10 Batch 2250 Loss 2.2256 Accuracy 0.5560\n",
      "Epoch 10 Batch 2300 Loss 2.2254 Accuracy 0.5561\n",
      "Epoch 10 Batch 2350 Loss 2.2249 Accuracy 0.5561\n",
      "Epoch 10 Batch 2400 Loss 2.2245 Accuracy 0.5562\n",
      "Epoch 10 Batch 2450 Loss 2.2242 Accuracy 0.5563\n",
      "Epoch 10 Batch 2500 Loss 2.2241 Accuracy 0.5563\n",
      "Epoch 10 Batch 2550 Loss 2.2242 Accuracy 0.5562\n",
      "Epoch 10 Batch 2600 Loss 2.2245 Accuracy 0.5562\n",
      "Saving checkpoint for epoch 10 at ./checkpoints/train/ckpt-2\n",
      "Epoch 10 Loss 2.2243 Accuracy 0.5562\n",
      "Time taken for 1 epoch: 182.687166929245 secs\n",
      "\n",
      "Epoch 11 Batch 0 Loss 2.0249 Accuracy 0.5912\n",
      "Epoch 11 Batch 50 Loss 2.1820 Accuracy 0.5625\n",
      "Epoch 11 Batch 100 Loss 2.1871 Accuracy 0.5616\n",
      "Epoch 11 Batch 150 Loss 2.1843 Accuracy 0.5623\n",
      "Epoch 11 Batch 200 Loss 2.1891 Accuracy 0.5613\n",
      "Epoch 11 Batch 250 Loss 2.1902 Accuracy 0.5609\n",
      "Epoch 11 Batch 300 Loss 2.1878 Accuracy 0.5612\n",
      "Epoch 11 Batch 350 Loss 2.1853 Accuracy 0.5617\n",
      "Epoch 11 Batch 400 Loss 2.1876 Accuracy 0.5612\n",
      "Epoch 11 Batch 450 Loss 2.1879 Accuracy 0.5611\n",
      "Epoch 11 Batch 500 Loss 2.1886 Accuracy 0.5610\n",
      "Epoch 11 Batch 550 Loss 2.1882 Accuracy 0.5611\n",
      "Epoch 11 Batch 600 Loss 2.1900 Accuracy 0.5607\n",
      "Epoch 11 Batch 650 Loss 2.1906 Accuracy 0.5606\n",
      "Epoch 11 Batch 700 Loss 2.1900 Accuracy 0.5608\n",
      "Epoch 11 Batch 750 Loss 2.1896 Accuracy 0.5609\n",
      "Epoch 11 Batch 800 Loss 2.1882 Accuracy 0.5611\n",
      "Epoch 11 Batch 850 Loss 2.1892 Accuracy 0.5609\n",
      "Epoch 11 Batch 900 Loss 2.1895 Accuracy 0.5607\n",
      "Epoch 11 Batch 950 Loss 2.1909 Accuracy 0.5607\n",
      "Epoch 11 Batch 1000 Loss 2.1907 Accuracy 0.5607\n",
      "Epoch 11 Batch 1050 Loss 2.1903 Accuracy 0.5608\n",
      "Epoch 11 Batch 1100 Loss 2.1893 Accuracy 0.5609\n",
      "Epoch 11 Batch 1150 Loss 2.1887 Accuracy 0.5611\n",
      "Epoch 11 Batch 1200 Loss 2.1897 Accuracy 0.5609\n",
      "Epoch 11 Batch 1250 Loss 2.1897 Accuracy 0.5609\n",
      "Epoch 11 Batch 1300 Loss 2.1887 Accuracy 0.5611\n",
      "Epoch 11 Batch 1350 Loss 2.1877 Accuracy 0.5612\n",
      "Epoch 11 Batch 1400 Loss 2.1881 Accuracy 0.5612\n",
      "Epoch 11 Batch 1450 Loss 2.1872 Accuracy 0.5614\n",
      "Epoch 11 Batch 1500 Loss 2.1864 Accuracy 0.5616\n",
      "Epoch 11 Batch 1550 Loss 2.1869 Accuracy 0.5615\n",
      "Epoch 11 Batch 1600 Loss 2.1867 Accuracy 0.5615\n",
      "Epoch 11 Batch 1650 Loss 2.1865 Accuracy 0.5615\n",
      "Epoch 11 Batch 1700 Loss 2.1861 Accuracy 0.5616\n",
      "Epoch 11 Batch 1750 Loss 2.1869 Accuracy 0.5614\n",
      "Epoch 11 Batch 1800 Loss 2.1870 Accuracy 0.5614\n",
      "Epoch 11 Batch 1850 Loss 2.1868 Accuracy 0.5614\n",
      "Epoch 11 Batch 1900 Loss 2.1871 Accuracy 0.5614\n",
      "Epoch 11 Batch 1950 Loss 2.1868 Accuracy 0.5614\n",
      "Epoch 11 Batch 2000 Loss 2.1871 Accuracy 0.5614\n",
      "Epoch 11 Batch 2050 Loss 2.1868 Accuracy 0.5614\n",
      "Epoch 11 Batch 2100 Loss 2.1869 Accuracy 0.5614\n",
      "Epoch 11 Batch 2150 Loss 2.1865 Accuracy 0.5615\n",
      "Epoch 11 Batch 2200 Loss 2.1860 Accuracy 0.5616\n",
      "Epoch 11 Batch 2250 Loss 2.1862 Accuracy 0.5615\n",
      "Epoch 11 Batch 2300 Loss 2.1857 Accuracy 0.5616\n",
      "Epoch 11 Batch 2350 Loss 2.1852 Accuracy 0.5617\n",
      "Epoch 11 Batch 2400 Loss 2.1853 Accuracy 0.5616\n",
      "Epoch 11 Batch 2450 Loss 2.1850 Accuracy 0.5617\n",
      "Epoch 11 Batch 2500 Loss 2.1848 Accuracy 0.5617\n",
      "Epoch 11 Batch 2550 Loss 2.1850 Accuracy 0.5617\n",
      "Epoch 11 Batch 2600 Loss 2.1850 Accuracy 0.5617\n",
      "Epoch 11 Loss 2.1849 Accuracy 0.5617\n",
      "Time taken for 1 epoch: 185.04949522018433 secs\n",
      "\n",
      "Epoch 12 Batch 0 Loss 2.1095 Accuracy 0.5761\n",
      "Epoch 12 Batch 50 Loss 2.1433 Accuracy 0.5662\n",
      "Epoch 12 Batch 100 Loss 2.1486 Accuracy 0.5646\n",
      "Epoch 12 Batch 150 Loss 2.1484 Accuracy 0.5652\n",
      "Epoch 12 Batch 200 Loss 2.1506 Accuracy 0.5652\n",
      "Epoch 12 Batch 250 Loss 2.1552 Accuracy 0.5649\n",
      "Epoch 12 Batch 300 Loss 2.1534 Accuracy 0.5654\n",
      "Epoch 12 Batch 350 Loss 2.1548 Accuracy 0.5651\n",
      "Epoch 12 Batch 400 Loss 2.1572 Accuracy 0.5647\n",
      "Epoch 12 Batch 450 Loss 2.1561 Accuracy 0.5649\n",
      "Epoch 12 Batch 500 Loss 2.1577 Accuracy 0.5648\n",
      "Epoch 12 Batch 550 Loss 2.1578 Accuracy 0.5649\n",
      "Epoch 12 Batch 600 Loss 2.1571 Accuracy 0.5650\n",
      "Epoch 12 Batch 650 Loss 2.1557 Accuracy 0.5655\n",
      "Epoch 12 Batch 700 Loss 2.1563 Accuracy 0.5654\n",
      "Epoch 12 Batch 750 Loss 2.1549 Accuracy 0.5656\n",
      "Epoch 12 Batch 800 Loss 2.1546 Accuracy 0.5656\n",
      "Epoch 12 Batch 850 Loss 2.1535 Accuracy 0.5657\n",
      "Epoch 12 Batch 900 Loss 2.1546 Accuracy 0.5655\n",
      "Epoch 12 Batch 950 Loss 2.1557 Accuracy 0.5654\n",
      "Epoch 12 Batch 1000 Loss 2.1552 Accuracy 0.5657\n",
      "Epoch 12 Batch 1050 Loss 2.1565 Accuracy 0.5655\n",
      "Epoch 12 Batch 1100 Loss 2.1570 Accuracy 0.5654\n",
      "Epoch 12 Batch 1150 Loss 2.1566 Accuracy 0.5655\n",
      "Epoch 12 Batch 1200 Loss 2.1560 Accuracy 0.5655\n",
      "Epoch 12 Batch 1250 Loss 2.1549 Accuracy 0.5656\n",
      "Epoch 12 Batch 1300 Loss 2.1543 Accuracy 0.5657\n",
      "Epoch 12 Batch 1350 Loss 2.1539 Accuracy 0.5658\n",
      "Epoch 12 Batch 1400 Loss 2.1537 Accuracy 0.5658\n",
      "Epoch 12 Batch 1450 Loss 2.1530 Accuracy 0.5659\n",
      "Epoch 12 Batch 1500 Loss 2.1530 Accuracy 0.5659\n",
      "Epoch 12 Batch 1550 Loss 2.1528 Accuracy 0.5659\n",
      "Epoch 12 Batch 1600 Loss 2.1525 Accuracy 0.5659\n",
      "Epoch 12 Batch 1650 Loss 2.1522 Accuracy 0.5660\n",
      "Epoch 12 Batch 1700 Loss 2.1524 Accuracy 0.5660\n",
      "Epoch 12 Batch 1750 Loss 2.1521 Accuracy 0.5661\n",
      "Epoch 12 Batch 1800 Loss 2.1522 Accuracy 0.5661\n",
      "Epoch 12 Batch 1850 Loss 2.1526 Accuracy 0.5661\n",
      "Epoch 12 Batch 1900 Loss 2.1530 Accuracy 0.5661\n",
      "Epoch 12 Batch 1950 Loss 2.1528 Accuracy 0.5661\n",
      "Epoch 12 Batch 2000 Loss 2.1526 Accuracy 0.5661\n",
      "Epoch 12 Batch 2050 Loss 2.1528 Accuracy 0.5662\n",
      "Epoch 12 Batch 2100 Loss 2.1527 Accuracy 0.5662\n",
      "Epoch 12 Batch 2150 Loss 2.1526 Accuracy 0.5661\n",
      "Epoch 12 Batch 2200 Loss 2.1520 Accuracy 0.5662\n",
      "Epoch 12 Batch 2250 Loss 2.1524 Accuracy 0.5661\n",
      "Epoch 12 Batch 2300 Loss 2.1522 Accuracy 0.5662\n",
      "Epoch 12 Batch 2350 Loss 2.1514 Accuracy 0.5662\n",
      "Epoch 12 Batch 2400 Loss 2.1514 Accuracy 0.5663\n",
      "Epoch 12 Batch 2450 Loss 2.1516 Accuracy 0.5662\n",
      "Epoch 12 Batch 2500 Loss 2.1515 Accuracy 0.5662\n",
      "Epoch 12 Batch 2550 Loss 2.1518 Accuracy 0.5662\n",
      "Epoch 12 Batch 2600 Loss 2.1516 Accuracy 0.5662\n",
      "Epoch 12 Loss 2.1516 Accuracy 0.5662\n",
      "Time taken for 1 epoch: 184.32781076431274 secs\n",
      "\n",
      "Epoch 13 Batch 0 Loss 2.0049 Accuracy 0.5885\n",
      "Epoch 13 Batch 50 Loss 2.1531 Accuracy 0.5658\n",
      "Epoch 13 Batch 100 Loss 2.1314 Accuracy 0.5690\n",
      "Epoch 13 Batch 150 Loss 2.1295 Accuracy 0.5693\n",
      "Epoch 13 Batch 200 Loss 2.1256 Accuracy 0.5699\n",
      "Epoch 13 Batch 250 Loss 2.1252 Accuracy 0.5695\n",
      "Epoch 13 Batch 300 Loss 2.1250 Accuracy 0.5693\n",
      "Epoch 13 Batch 350 Loss 2.1260 Accuracy 0.5693\n",
      "Epoch 13 Batch 400 Loss 2.1267 Accuracy 0.5694\n",
      "Epoch 13 Batch 450 Loss 2.1280 Accuracy 0.5692\n",
      "Epoch 13 Batch 500 Loss 2.1257 Accuracy 0.5697\n",
      "Epoch 13 Batch 550 Loss 2.1251 Accuracy 0.5698\n",
      "Epoch 13 Batch 600 Loss 2.1272 Accuracy 0.5692\n",
      "Epoch 13 Batch 650 Loss 2.1289 Accuracy 0.5690\n",
      "Epoch 13 Batch 700 Loss 2.1280 Accuracy 0.5691\n",
      "Epoch 13 Batch 750 Loss 2.1271 Accuracy 0.5694\n",
      "Epoch 13 Batch 800 Loss 2.1258 Accuracy 0.5695\n",
      "Epoch 13 Batch 850 Loss 2.1262 Accuracy 0.5697\n",
      "Epoch 13 Batch 900 Loss 2.1250 Accuracy 0.5699\n",
      "Epoch 13 Batch 950 Loss 2.1265 Accuracy 0.5696\n",
      "Epoch 13 Batch 1000 Loss 2.1265 Accuracy 0.5696\n",
      "Epoch 13 Batch 1050 Loss 2.1260 Accuracy 0.5698\n",
      "Epoch 13 Batch 1100 Loss 2.1256 Accuracy 0.5699\n",
      "Epoch 13 Batch 1150 Loss 2.1254 Accuracy 0.5699\n",
      "Epoch 13 Batch 1200 Loss 2.1250 Accuracy 0.5701\n",
      "Epoch 13 Batch 1250 Loss 2.1253 Accuracy 0.5700\n",
      "Epoch 13 Batch 1300 Loss 2.1256 Accuracy 0.5699\n",
      "Epoch 13 Batch 1350 Loss 2.1255 Accuracy 0.5700\n",
      "Epoch 13 Batch 1400 Loss 2.1251 Accuracy 0.5701\n",
      "Epoch 13 Batch 1450 Loss 2.1247 Accuracy 0.5701\n",
      "Epoch 13 Batch 1500 Loss 2.1245 Accuracy 0.5703\n",
      "Epoch 13 Batch 1550 Loss 2.1253 Accuracy 0.5702\n",
      "Epoch 13 Batch 1600 Loss 2.1249 Accuracy 0.5702\n",
      "Epoch 13 Batch 1650 Loss 2.1247 Accuracy 0.5701\n",
      "Epoch 13 Batch 1700 Loss 2.1244 Accuracy 0.5702\n",
      "Epoch 13 Batch 1750 Loss 2.1245 Accuracy 0.5701\n",
      "Epoch 13 Batch 1800 Loss 2.1240 Accuracy 0.5702\n",
      "Epoch 13 Batch 1850 Loss 2.1237 Accuracy 0.5703\n",
      "Epoch 13 Batch 1900 Loss 2.1236 Accuracy 0.5703\n",
      "Epoch 13 Batch 1950 Loss 2.1232 Accuracy 0.5704\n",
      "Epoch 13 Batch 2000 Loss 2.1231 Accuracy 0.5704\n",
      "Epoch 13 Batch 2050 Loss 2.1234 Accuracy 0.5704\n",
      "Epoch 13 Batch 2100 Loss 2.1233 Accuracy 0.5705\n",
      "Epoch 13 Batch 2150 Loss 2.1236 Accuracy 0.5704\n",
      "Epoch 13 Batch 2200 Loss 2.1235 Accuracy 0.5704\n",
      "Epoch 13 Batch 2250 Loss 2.1237 Accuracy 0.5704\n",
      "Epoch 13 Batch 2300 Loss 2.1240 Accuracy 0.5703\n",
      "Epoch 13 Batch 2350 Loss 2.1241 Accuracy 0.5703\n",
      "Epoch 13 Batch 2400 Loss 2.1243 Accuracy 0.5703\n",
      "Epoch 13 Batch 2450 Loss 2.1241 Accuracy 0.5703\n",
      "Epoch 13 Batch 2500 Loss 2.1236 Accuracy 0.5704\n",
      "Epoch 13 Batch 2550 Loss 2.1234 Accuracy 0.5704\n",
      "Epoch 13 Batch 2600 Loss 2.1231 Accuracy 0.5704\n",
      "Epoch 13 Loss 2.1230 Accuracy 0.5705\n",
      "Time taken for 1 epoch: 181.62181305885315 secs\n",
      "\n",
      "Epoch 14 Batch 0 Loss 2.0551 Accuracy 0.5963\n",
      "Epoch 14 Batch 50 Loss 2.0971 Accuracy 0.5754\n",
      "Epoch 14 Batch 100 Loss 2.0946 Accuracy 0.5757\n",
      "Epoch 14 Batch 150 Loss 2.1011 Accuracy 0.5737\n",
      "Epoch 14 Batch 200 Loss 2.0973 Accuracy 0.5737\n",
      "Epoch 14 Batch 250 Loss 2.0972 Accuracy 0.5735\n",
      "Epoch 14 Batch 300 Loss 2.0981 Accuracy 0.5738\n",
      "Epoch 14 Batch 350 Loss 2.0997 Accuracy 0.5732\n",
      "Epoch 14 Batch 400 Loss 2.1027 Accuracy 0.5730\n",
      "Epoch 14 Batch 450 Loss 2.1038 Accuracy 0.5726\n",
      "Epoch 14 Batch 500 Loss 2.1029 Accuracy 0.5726\n",
      "Epoch 14 Batch 550 Loss 2.1022 Accuracy 0.5730\n",
      "Epoch 14 Batch 600 Loss 2.0999 Accuracy 0.5734\n",
      "Epoch 14 Batch 650 Loss 2.1004 Accuracy 0.5735\n",
      "Epoch 14 Batch 700 Loss 2.1008 Accuracy 0.5733\n",
      "Epoch 14 Batch 750 Loss 2.1023 Accuracy 0.5732\n",
      "Epoch 14 Batch 800 Loss 2.1012 Accuracy 0.5736\n",
      "Epoch 14 Batch 850 Loss 2.1020 Accuracy 0.5734\n",
      "Epoch 14 Batch 900 Loss 2.1016 Accuracy 0.5733\n",
      "Epoch 14 Batch 950 Loss 2.1021 Accuracy 0.5732\n",
      "Epoch 14 Batch 1000 Loss 2.1024 Accuracy 0.5733\n",
      "Epoch 14 Batch 1050 Loss 2.1025 Accuracy 0.5732\n",
      "Epoch 14 Batch 1100 Loss 2.1017 Accuracy 0.5735\n",
      "Epoch 14 Batch 1150 Loss 2.1010 Accuracy 0.5735\n",
      "Epoch 14 Batch 1200 Loss 2.1007 Accuracy 0.5735\n",
      "Epoch 14 Batch 1250 Loss 2.1011 Accuracy 0.5735\n",
      "Epoch 14 Batch 1300 Loss 2.1001 Accuracy 0.5737\n",
      "Epoch 14 Batch 1350 Loss 2.0996 Accuracy 0.5736\n",
      "Epoch 14 Batch 1400 Loss 2.0988 Accuracy 0.5738\n",
      "Epoch 14 Batch 1450 Loss 2.0990 Accuracy 0.5737\n",
      "Epoch 14 Batch 1500 Loss 2.0986 Accuracy 0.5737\n",
      "Epoch 14 Batch 1550 Loss 2.0987 Accuracy 0.5738\n",
      "Epoch 14 Batch 1600 Loss 2.0989 Accuracy 0.5738\n",
      "Epoch 14 Batch 1650 Loss 2.0980 Accuracy 0.5740\n",
      "Epoch 14 Batch 1700 Loss 2.0977 Accuracy 0.5741\n",
      "Epoch 14 Batch 1750 Loss 2.0975 Accuracy 0.5741\n",
      "Epoch 14 Batch 1800 Loss 2.0984 Accuracy 0.5740\n",
      "Epoch 14 Batch 1850 Loss 2.0978 Accuracy 0.5741\n",
      "Epoch 14 Batch 1900 Loss 2.0970 Accuracy 0.5742\n",
      "Epoch 14 Batch 1950 Loss 2.0971 Accuracy 0.5742\n",
      "Epoch 14 Batch 2000 Loss 2.0973 Accuracy 0.5743\n",
      "Epoch 14 Batch 2050 Loss 2.0969 Accuracy 0.5744\n",
      "Epoch 14 Batch 2100 Loss 2.0975 Accuracy 0.5743\n",
      "Epoch 14 Batch 2150 Loss 2.0982 Accuracy 0.5741\n",
      "Epoch 14 Batch 2200 Loss 2.0980 Accuracy 0.5742\n",
      "Epoch 14 Batch 2250 Loss 2.0974 Accuracy 0.5742\n",
      "Epoch 14 Batch 2300 Loss 2.0977 Accuracy 0.5741\n",
      "Epoch 14 Batch 2350 Loss 2.0974 Accuracy 0.5742\n",
      "Epoch 14 Batch 2400 Loss 2.0975 Accuracy 0.5741\n",
      "Epoch 14 Batch 2450 Loss 2.0972 Accuracy 0.5742\n",
      "Epoch 14 Batch 2500 Loss 2.0974 Accuracy 0.5741\n",
      "Epoch 14 Batch 2550 Loss 2.0974 Accuracy 0.5742\n",
      "Epoch 14 Batch 2600 Loss 2.0975 Accuracy 0.5742\n",
      "Epoch 14 Loss 2.0974 Accuracy 0.5742\n",
      "Time taken for 1 epoch: 181.12108421325684 secs\n",
      "\n",
      "Epoch 15 Batch 0 Loss 2.0466 Accuracy 0.5701\n",
      "Epoch 15 Batch 50 Loss 2.0422 Accuracy 0.5825\n",
      "Epoch 15 Batch 100 Loss 2.0668 Accuracy 0.5777\n",
      "Epoch 15 Batch 150 Loss 2.0635 Accuracy 0.5787\n",
      "Epoch 15 Batch 200 Loss 2.0648 Accuracy 0.5783\n",
      "Epoch 15 Batch 250 Loss 2.0713 Accuracy 0.5776\n",
      "Epoch 15 Batch 300 Loss 2.0723 Accuracy 0.5776\n",
      "Epoch 15 Batch 350 Loss 2.0716 Accuracy 0.5777\n",
      "Epoch 15 Batch 400 Loss 2.0759 Accuracy 0.5769\n",
      "Epoch 15 Batch 450 Loss 2.0740 Accuracy 0.5771\n",
      "Epoch 15 Batch 500 Loss 2.0738 Accuracy 0.5772\n",
      "Epoch 15 Batch 550 Loss 2.0733 Accuracy 0.5774\n",
      "Epoch 15 Batch 600 Loss 2.0730 Accuracy 0.5772\n",
      "Epoch 15 Batch 650 Loss 2.0739 Accuracy 0.5771\n",
      "Epoch 15 Batch 700 Loss 2.0736 Accuracy 0.5772\n",
      "Epoch 15 Batch 750 Loss 2.0760 Accuracy 0.5768\n",
      "Epoch 15 Batch 800 Loss 2.0757 Accuracy 0.5768\n",
      "Epoch 15 Batch 850 Loss 2.0763 Accuracy 0.5769\n",
      "Epoch 15 Batch 900 Loss 2.0770 Accuracy 0.5767\n",
      "Epoch 15 Batch 950 Loss 2.0758 Accuracy 0.5769\n",
      "Epoch 15 Batch 1000 Loss 2.0750 Accuracy 0.5770\n",
      "Epoch 15 Batch 1050 Loss 2.0754 Accuracy 0.5770\n",
      "Epoch 15 Batch 1100 Loss 2.0742 Accuracy 0.5771\n",
      "Epoch 15 Batch 1150 Loss 2.0748 Accuracy 0.5770\n",
      "Epoch 15 Batch 1200 Loss 2.0748 Accuracy 0.5768\n",
      "Epoch 15 Batch 1250 Loss 2.0752 Accuracy 0.5768\n",
      "Epoch 15 Batch 1300 Loss 2.0750 Accuracy 0.5768\n",
      "Epoch 15 Batch 1350 Loss 2.0745 Accuracy 0.5769\n",
      "Epoch 15 Batch 1400 Loss 2.0748 Accuracy 0.5770\n",
      "Epoch 15 Batch 1450 Loss 2.0749 Accuracy 0.5770\n",
      "Epoch 15 Batch 1500 Loss 2.0753 Accuracy 0.5770\n",
      "Epoch 15 Batch 1550 Loss 2.0747 Accuracy 0.5771\n",
      "Epoch 15 Batch 1600 Loss 2.0742 Accuracy 0.5772\n",
      "Epoch 15 Batch 1650 Loss 2.0742 Accuracy 0.5773\n",
      "Epoch 15 Batch 1700 Loss 2.0738 Accuracy 0.5774\n",
      "Epoch 15 Batch 1750 Loss 2.0741 Accuracy 0.5774\n",
      "Epoch 15 Batch 1800 Loss 2.0745 Accuracy 0.5774\n",
      "Epoch 15 Batch 1850 Loss 2.0747 Accuracy 0.5773\n",
      "Epoch 15 Batch 1900 Loss 2.0747 Accuracy 0.5772\n",
      "Epoch 15 Batch 1950 Loss 2.0740 Accuracy 0.5773\n",
      "Epoch 15 Batch 2000 Loss 2.0743 Accuracy 0.5773\n",
      "Epoch 15 Batch 2050 Loss 2.0743 Accuracy 0.5773\n",
      "Epoch 15 Batch 2100 Loss 2.0745 Accuracy 0.5772\n",
      "Epoch 15 Batch 2150 Loss 2.0743 Accuracy 0.5773\n",
      "Epoch 15 Batch 2200 Loss 2.0746 Accuracy 0.5773\n",
      "Epoch 15 Batch 2250 Loss 2.0749 Accuracy 0.5773\n",
      "Epoch 15 Batch 2300 Loss 2.0749 Accuracy 0.5772\n",
      "Epoch 15 Batch 2350 Loss 2.0743 Accuracy 0.5773\n",
      "Epoch 15 Batch 2400 Loss 2.0741 Accuracy 0.5773\n",
      "Epoch 15 Batch 2450 Loss 2.0745 Accuracy 0.5773\n",
      "Epoch 15 Batch 2500 Loss 2.0742 Accuracy 0.5774\n",
      "Epoch 15 Batch 2550 Loss 2.0745 Accuracy 0.5773\n",
      "Epoch 15 Batch 2600 Loss 2.0745 Accuracy 0.5773\n",
      "Saving checkpoint for epoch 15 at ./checkpoints/train/ckpt-3\n",
      "Epoch 15 Loss 2.0748 Accuracy 0.5773\n",
      "Time taken for 1 epoch: 181.69680047035217 secs\n",
      "\n",
      "Epoch 16 Batch 0 Loss 2.1660 Accuracy 0.5689\n",
      "Epoch 16 Batch 50 Loss 2.0552 Accuracy 0.5802\n",
      "Epoch 16 Batch 100 Loss 2.0568 Accuracy 0.5801\n",
      "Epoch 16 Batch 150 Loss 2.0625 Accuracy 0.5795\n",
      "Epoch 16 Batch 200 Loss 2.0608 Accuracy 0.5794\n",
      "Epoch 16 Batch 250 Loss 2.0605 Accuracy 0.5795\n",
      "Epoch 16 Batch 300 Loss 2.0589 Accuracy 0.5799\n",
      "Epoch 16 Batch 350 Loss 2.0573 Accuracy 0.5800\n",
      "Epoch 16 Batch 400 Loss 2.0587 Accuracy 0.5799\n",
      "Epoch 16 Batch 450 Loss 2.0599 Accuracy 0.5799\n",
      "Epoch 16 Batch 500 Loss 2.0583 Accuracy 0.5801\n",
      "Epoch 16 Batch 550 Loss 2.0578 Accuracy 0.5800\n",
      "Epoch 16 Batch 600 Loss 2.0558 Accuracy 0.5802\n",
      "Epoch 16 Batch 650 Loss 2.0534 Accuracy 0.5804\n",
      "Epoch 16 Batch 700 Loss 2.0530 Accuracy 0.5804\n",
      "Epoch 16 Batch 750 Loss 2.0533 Accuracy 0.5804\n",
      "Epoch 16 Batch 800 Loss 2.0536 Accuracy 0.5802\n",
      "Epoch 16 Batch 850 Loss 2.0552 Accuracy 0.5800\n",
      "Epoch 16 Batch 900 Loss 2.0554 Accuracy 0.5800\n",
      "Epoch 16 Batch 950 Loss 2.0557 Accuracy 0.5798\n",
      "Epoch 16 Batch 1000 Loss 2.0565 Accuracy 0.5798\n",
      "Epoch 16 Batch 1050 Loss 2.0566 Accuracy 0.5797\n",
      "Epoch 16 Batch 1100 Loss 2.0549 Accuracy 0.5800\n",
      "Epoch 16 Batch 1150 Loss 2.0546 Accuracy 0.5801\n",
      "Epoch 16 Batch 1200 Loss 2.0544 Accuracy 0.5802\n",
      "Epoch 16 Batch 1250 Loss 2.0537 Accuracy 0.5803\n",
      "Epoch 16 Batch 1300 Loss 2.0533 Accuracy 0.5804\n",
      "Epoch 16 Batch 1350 Loss 2.0541 Accuracy 0.5802\n",
      "Epoch 16 Batch 1400 Loss 2.0545 Accuracy 0.5801\n",
      "Epoch 16 Batch 1450 Loss 2.0545 Accuracy 0.5801\n",
      "Epoch 16 Batch 1500 Loss 2.0537 Accuracy 0.5803\n",
      "Epoch 16 Batch 1550 Loss 2.0532 Accuracy 0.5804\n",
      "Epoch 16 Batch 1600 Loss 2.0529 Accuracy 0.5805\n",
      "Epoch 16 Batch 1650 Loss 2.0528 Accuracy 0.5805\n",
      "Epoch 16 Batch 1700 Loss 2.0525 Accuracy 0.5806\n",
      "Epoch 16 Batch 1750 Loss 2.0530 Accuracy 0.5805\n",
      "Epoch 16 Batch 1800 Loss 2.0530 Accuracy 0.5805\n",
      "Epoch 16 Batch 1850 Loss 2.0536 Accuracy 0.5804\n",
      "Epoch 16 Batch 1900 Loss 2.0539 Accuracy 0.5803\n",
      "Epoch 16 Batch 1950 Loss 2.0539 Accuracy 0.5803\n",
      "Epoch 16 Batch 2000 Loss 2.0543 Accuracy 0.5802\n",
      "Epoch 16 Batch 2050 Loss 2.0542 Accuracy 0.5803\n",
      "Epoch 16 Batch 2100 Loss 2.0541 Accuracy 0.5803\n",
      "Epoch 16 Batch 2150 Loss 2.0546 Accuracy 0.5803\n",
      "Epoch 16 Batch 2200 Loss 2.0542 Accuracy 0.5803\n",
      "Epoch 16 Batch 2250 Loss 2.0541 Accuracy 0.5803\n",
      "Epoch 16 Batch 2300 Loss 2.0544 Accuracy 0.5803\n",
      "Epoch 16 Batch 2350 Loss 2.0546 Accuracy 0.5803\n",
      "Epoch 16 Batch 2400 Loss 2.0547 Accuracy 0.5803\n",
      "Epoch 16 Batch 2450 Loss 2.0547 Accuracy 0.5803\n",
      "Epoch 16 Batch 2500 Loss 2.0547 Accuracy 0.5802\n",
      "Epoch 16 Batch 2550 Loss 2.0550 Accuracy 0.5802\n",
      "Epoch 16 Batch 2600 Loss 2.0548 Accuracy 0.5802\n",
      "Epoch 16 Loss 2.0547 Accuracy 0.5802\n",
      "Time taken for 1 epoch: 180.57558941841125 secs\n",
      "\n",
      "Epoch 17 Batch 0 Loss 1.9136 Accuracy 0.6031\n",
      "Epoch 17 Batch 50 Loss 2.0397 Accuracy 0.5836\n",
      "Epoch 17 Batch 100 Loss 2.0338 Accuracy 0.5829\n",
      "Epoch 17 Batch 150 Loss 2.0321 Accuracy 0.5833\n",
      "Epoch 17 Batch 200 Loss 2.0346 Accuracy 0.5832\n",
      "Epoch 17 Batch 250 Loss 2.0320 Accuracy 0.5833\n",
      "Epoch 17 Batch 300 Loss 2.0343 Accuracy 0.5829\n",
      "Epoch 17 Batch 350 Loss 2.0329 Accuracy 0.5833\n",
      "Epoch 17 Batch 400 Loss 2.0350 Accuracy 0.5830\n",
      "Epoch 17 Batch 450 Loss 2.0358 Accuracy 0.5826\n",
      "Epoch 17 Batch 500 Loss 2.0359 Accuracy 0.5826\n",
      "Epoch 17 Batch 550 Loss 2.0354 Accuracy 0.5828\n",
      "Epoch 17 Batch 600 Loss 2.0367 Accuracy 0.5824\n",
      "Epoch 17 Batch 650 Loss 2.0362 Accuracy 0.5823\n",
      "Epoch 17 Batch 700 Loss 2.0374 Accuracy 0.5822\n",
      "Epoch 17 Batch 750 Loss 2.0368 Accuracy 0.5822\n",
      "Epoch 17 Batch 800 Loss 2.0359 Accuracy 0.5823\n",
      "Epoch 17 Batch 850 Loss 2.0365 Accuracy 0.5822\n",
      "Epoch 17 Batch 900 Loss 2.0356 Accuracy 0.5823\n",
      "Epoch 17 Batch 950 Loss 2.0356 Accuracy 0.5824\n",
      "Epoch 17 Batch 1000 Loss 2.0352 Accuracy 0.5824\n",
      "Epoch 17 Batch 1050 Loss 2.0351 Accuracy 0.5824\n",
      "Epoch 17 Batch 1100 Loss 2.0356 Accuracy 0.5824\n",
      "Epoch 17 Batch 1150 Loss 2.0360 Accuracy 0.5825\n",
      "Epoch 17 Batch 1200 Loss 2.0362 Accuracy 0.5825\n",
      "Epoch 17 Batch 1250 Loss 2.0355 Accuracy 0.5826\n",
      "Epoch 17 Batch 1300 Loss 2.0359 Accuracy 0.5825\n",
      "Epoch 17 Batch 1350 Loss 2.0354 Accuracy 0.5826\n",
      "Epoch 17 Batch 1400 Loss 2.0346 Accuracy 0.5828\n",
      "Epoch 17 Batch 1450 Loss 2.0345 Accuracy 0.5828\n",
      "Epoch 17 Batch 1500 Loss 2.0332 Accuracy 0.5830\n",
      "Epoch 17 Batch 1550 Loss 2.0332 Accuracy 0.5829\n",
      "Epoch 17 Batch 1600 Loss 2.0332 Accuracy 0.5829\n",
      "Epoch 17 Batch 1650 Loss 2.0334 Accuracy 0.5830\n",
      "Epoch 17 Batch 1700 Loss 2.0338 Accuracy 0.5829\n",
      "Epoch 17 Batch 1750 Loss 2.0343 Accuracy 0.5828\n",
      "Epoch 17 Batch 1800 Loss 2.0348 Accuracy 0.5827\n",
      "Epoch 17 Batch 1850 Loss 2.0342 Accuracy 0.5829\n",
      "Epoch 17 Batch 1900 Loss 2.0345 Accuracy 0.5828\n",
      "Epoch 17 Batch 1950 Loss 2.0343 Accuracy 0.5828\n",
      "Epoch 17 Batch 2000 Loss 2.0347 Accuracy 0.5828\n",
      "Epoch 17 Batch 2050 Loss 2.0346 Accuracy 0.5829\n",
      "Epoch 17 Batch 2100 Loss 2.0348 Accuracy 0.5829\n",
      "Epoch 17 Batch 2150 Loss 2.0350 Accuracy 0.5828\n",
      "Epoch 17 Batch 2200 Loss 2.0355 Accuracy 0.5827\n",
      "Epoch 17 Batch 2250 Loss 2.0355 Accuracy 0.5828\n",
      "Epoch 17 Batch 2300 Loss 2.0359 Accuracy 0.5827\n",
      "Epoch 17 Batch 2350 Loss 2.0357 Accuracy 0.5827\n",
      "Epoch 17 Batch 2400 Loss 2.0359 Accuracy 0.5826\n",
      "Epoch 17 Batch 2450 Loss 2.0355 Accuracy 0.5827\n",
      "Epoch 17 Batch 2500 Loss 2.0353 Accuracy 0.5827\n",
      "Epoch 17 Batch 2550 Loss 2.0352 Accuracy 0.5827\n",
      "Epoch 17 Batch 2600 Loss 2.0356 Accuracy 0.5827\n",
      "Epoch 17 Loss 2.0357 Accuracy 0.5827\n",
      "Time taken for 1 epoch: 180.66464710235596 secs\n",
      "\n",
      "Epoch 18 Batch 0 Loss 2.0734 Accuracy 0.5756\n",
      "Epoch 18 Batch 50 Loss 2.0003 Accuracy 0.5868\n",
      "Epoch 18 Batch 100 Loss 2.0059 Accuracy 0.5868\n",
      "Epoch 18 Batch 150 Loss 2.0014 Accuracy 0.5880\n",
      "Epoch 18 Batch 200 Loss 2.0091 Accuracy 0.5875\n",
      "Epoch 18 Batch 250 Loss 2.0181 Accuracy 0.5858\n",
      "Epoch 18 Batch 300 Loss 2.0142 Accuracy 0.5861\n",
      "Epoch 18 Batch 350 Loss 2.0160 Accuracy 0.5860\n",
      "Epoch 18 Batch 400 Loss 2.0170 Accuracy 0.5858\n",
      "Epoch 18 Batch 450 Loss 2.0193 Accuracy 0.5854\n",
      "Epoch 18 Batch 500 Loss 2.0183 Accuracy 0.5856\n",
      "Epoch 18 Batch 550 Loss 2.0179 Accuracy 0.5857\n",
      "Epoch 18 Batch 600 Loss 2.0185 Accuracy 0.5856\n",
      "Epoch 18 Batch 650 Loss 2.0174 Accuracy 0.5859\n",
      "Epoch 18 Batch 700 Loss 2.0168 Accuracy 0.5859\n",
      "Epoch 18 Batch 750 Loss 2.0171 Accuracy 0.5858\n",
      "Epoch 18 Batch 800 Loss 2.0176 Accuracy 0.5857\n",
      "Epoch 18 Batch 850 Loss 2.0166 Accuracy 0.5858\n",
      "Epoch 18 Batch 900 Loss 2.0166 Accuracy 0.5859\n",
      "Epoch 18 Batch 950 Loss 2.0159 Accuracy 0.5860\n",
      "Epoch 18 Batch 1000 Loss 2.0156 Accuracy 0.5862\n",
      "Epoch 18 Batch 1050 Loss 2.0165 Accuracy 0.5860\n",
      "Epoch 18 Batch 1100 Loss 2.0165 Accuracy 0.5860\n",
      "Epoch 18 Batch 1150 Loss 2.0169 Accuracy 0.5859\n",
      "Epoch 18 Batch 1200 Loss 2.0172 Accuracy 0.5858\n",
      "Epoch 18 Batch 1250 Loss 2.0176 Accuracy 0.5857\n",
      "Epoch 18 Batch 1300 Loss 2.0179 Accuracy 0.5857\n",
      "Epoch 18 Batch 1350 Loss 2.0175 Accuracy 0.5858\n",
      "Epoch 18 Batch 1400 Loss 2.0170 Accuracy 0.5859\n",
      "Epoch 18 Batch 1450 Loss 2.0172 Accuracy 0.5858\n",
      "Epoch 18 Batch 1500 Loss 2.0175 Accuracy 0.5858\n",
      "Epoch 18 Batch 1550 Loss 2.0175 Accuracy 0.5857\n",
      "Epoch 18 Batch 1600 Loss 2.0177 Accuracy 0.5857\n",
      "Epoch 18 Batch 1650 Loss 2.0188 Accuracy 0.5855\n",
      "Epoch 18 Batch 1700 Loss 2.0184 Accuracy 0.5856\n",
      "Epoch 18 Batch 1750 Loss 2.0186 Accuracy 0.5856\n",
      "Epoch 18 Batch 1800 Loss 2.0195 Accuracy 0.5855\n",
      "Epoch 18 Batch 1850 Loss 2.0198 Accuracy 0.5854\n",
      "Epoch 18 Batch 1900 Loss 2.0196 Accuracy 0.5854\n",
      "Epoch 18 Batch 1950 Loss 2.0194 Accuracy 0.5855\n",
      "Epoch 18 Batch 2000 Loss 2.0189 Accuracy 0.5856\n",
      "Epoch 18 Batch 2050 Loss 2.0185 Accuracy 0.5856\n",
      "Epoch 18 Batch 2100 Loss 2.0180 Accuracy 0.5857\n",
      "Epoch 18 Batch 2150 Loss 2.0185 Accuracy 0.5856\n",
      "Epoch 18 Batch 2200 Loss 2.0184 Accuracy 0.5856\n",
      "Epoch 18 Batch 2250 Loss 2.0185 Accuracy 0.5856\n",
      "Epoch 18 Batch 2300 Loss 2.0185 Accuracy 0.5856\n",
      "Epoch 18 Batch 2350 Loss 2.0190 Accuracy 0.5856\n",
      "Epoch 18 Batch 2400 Loss 2.0194 Accuracy 0.5855\n",
      "Epoch 18 Batch 2450 Loss 2.0189 Accuracy 0.5855\n",
      "Epoch 18 Batch 2500 Loss 2.0190 Accuracy 0.5855\n",
      "Epoch 18 Batch 2550 Loss 2.0193 Accuracy 0.5855\n",
      "Epoch 18 Batch 2600 Loss 2.0195 Accuracy 0.5855\n",
      "Epoch 18 Loss 2.0195 Accuracy 0.5855\n",
      "Time taken for 1 epoch: 179.53962874412537 secs\n",
      "\n",
      "Epoch 19 Batch 0 Loss 1.8673 Accuracy 0.6007\n",
      "Epoch 19 Batch 50 Loss 1.9915 Accuracy 0.5905\n",
      "Epoch 19 Batch 100 Loss 1.9867 Accuracy 0.5912\n",
      "Epoch 19 Batch 150 Loss 1.9888 Accuracy 0.5908\n",
      "Epoch 19 Batch 200 Loss 1.9978 Accuracy 0.5887\n",
      "Epoch 19 Batch 250 Loss 1.9993 Accuracy 0.5882\n",
      "Epoch 19 Batch 300 Loss 2.0005 Accuracy 0.5879\n",
      "Epoch 19 Batch 350 Loss 2.0001 Accuracy 0.5878\n",
      "Epoch 19 Batch 400 Loss 2.0026 Accuracy 0.5874\n",
      "Epoch 19 Batch 450 Loss 2.0012 Accuracy 0.5876\n",
      "Epoch 19 Batch 500 Loss 2.0018 Accuracy 0.5875\n",
      "Epoch 19 Batch 550 Loss 2.0020 Accuracy 0.5873\n",
      "Epoch 19 Batch 600 Loss 2.0001 Accuracy 0.5875\n",
      "Epoch 19 Batch 650 Loss 1.9998 Accuracy 0.5877\n",
      "Epoch 19 Batch 700 Loss 1.9997 Accuracy 0.5877\n",
      "Epoch 19 Batch 750 Loss 1.9998 Accuracy 0.5877\n",
      "Epoch 19 Batch 800 Loss 1.9989 Accuracy 0.5880\n",
      "Epoch 19 Batch 850 Loss 2.0000 Accuracy 0.5879\n",
      "Epoch 19 Batch 900 Loss 2.0000 Accuracy 0.5879\n",
      "Epoch 19 Batch 950 Loss 1.9995 Accuracy 0.5879\n",
      "Epoch 19 Batch 1000 Loss 2.0001 Accuracy 0.5879\n",
      "Epoch 19 Batch 1050 Loss 1.9998 Accuracy 0.5880\n",
      "Epoch 19 Batch 1100 Loss 1.9998 Accuracy 0.5881\n",
      "Epoch 19 Batch 1150 Loss 2.0011 Accuracy 0.5880\n",
      "Epoch 19 Batch 1200 Loss 2.0018 Accuracy 0.5880\n",
      "Epoch 19 Batch 1250 Loss 2.0022 Accuracy 0.5880\n",
      "Epoch 19 Batch 1300 Loss 2.0021 Accuracy 0.5879\n",
      "Epoch 19 Batch 1350 Loss 2.0010 Accuracy 0.5881\n",
      "Epoch 19 Batch 1400 Loss 2.0016 Accuracy 0.5880\n",
      "Epoch 19 Batch 1450 Loss 2.0015 Accuracy 0.5880\n",
      "Epoch 19 Batch 1500 Loss 2.0010 Accuracy 0.5881\n",
      "Epoch 19 Batch 1550 Loss 2.0011 Accuracy 0.5881\n",
      "Epoch 19 Batch 1600 Loss 2.0015 Accuracy 0.5881\n",
      "Epoch 19 Batch 1650 Loss 2.0023 Accuracy 0.5880\n",
      "Epoch 19 Batch 1700 Loss 2.0027 Accuracy 0.5879\n",
      "Epoch 19 Batch 1750 Loss 2.0025 Accuracy 0.5879\n",
      "Epoch 19 Batch 1800 Loss 2.0032 Accuracy 0.5877\n",
      "Epoch 19 Batch 1850 Loss 2.0029 Accuracy 0.5878\n",
      "Epoch 19 Batch 1900 Loss 2.0026 Accuracy 0.5879\n",
      "Epoch 19 Batch 1950 Loss 2.0029 Accuracy 0.5878\n",
      "Epoch 19 Batch 2000 Loss 2.0027 Accuracy 0.5879\n",
      "Epoch 19 Batch 2050 Loss 2.0028 Accuracy 0.5879\n",
      "Epoch 19 Batch 2100 Loss 2.0028 Accuracy 0.5879\n",
      "Epoch 19 Batch 2150 Loss 2.0030 Accuracy 0.5879\n",
      "Epoch 19 Batch 2200 Loss 2.0032 Accuracy 0.5879\n",
      "Epoch 19 Batch 2250 Loss 2.0030 Accuracy 0.5879\n",
      "Epoch 19 Batch 2300 Loss 2.0030 Accuracy 0.5878\n",
      "Epoch 19 Batch 2350 Loss 2.0029 Accuracy 0.5878\n",
      "Epoch 19 Batch 2400 Loss 2.0028 Accuracy 0.5878\n",
      "Epoch 19 Batch 2450 Loss 2.0032 Accuracy 0.5877\n",
      "Epoch 19 Batch 2500 Loss 2.0031 Accuracy 0.5878\n",
      "Epoch 19 Batch 2550 Loss 2.0032 Accuracy 0.5878\n",
      "Epoch 19 Batch 2600 Loss 2.0034 Accuracy 0.5878\n",
      "Epoch 19 Loss 2.0036 Accuracy 0.5877\n",
      "Time taken for 1 epoch: 183.2386772632599 secs\n",
      "\n",
      "Epoch 20 Batch 0 Loss 2.0167 Accuracy 0.6012\n",
      "Epoch 20 Batch 50 Loss 1.9693 Accuracy 0.5911\n",
      "Epoch 20 Batch 100 Loss 1.9733 Accuracy 0.5907\n",
      "Epoch 20 Batch 150 Loss 1.9856 Accuracy 0.5889\n",
      "Epoch 20 Batch 200 Loss 1.9836 Accuracy 0.5896\n",
      "Epoch 20 Batch 250 Loss 1.9851 Accuracy 0.5897\n",
      "Epoch 20 Batch 300 Loss 1.9856 Accuracy 0.5900\n",
      "Epoch 20 Batch 350 Loss 1.9875 Accuracy 0.5897\n",
      "Epoch 20 Batch 400 Loss 1.9887 Accuracy 0.5895\n",
      "Epoch 20 Batch 450 Loss 1.9917 Accuracy 0.5889\n",
      "Epoch 20 Batch 500 Loss 1.9877 Accuracy 0.5896\n",
      "Epoch 20 Batch 550 Loss 1.9872 Accuracy 0.5898\n",
      "Epoch 20 Batch 600 Loss 1.9876 Accuracy 0.5898\n",
      "Epoch 20 Batch 650 Loss 1.9869 Accuracy 0.5897\n",
      "Epoch 20 Batch 700 Loss 1.9875 Accuracy 0.5896\n",
      "Epoch 20 Batch 750 Loss 1.9878 Accuracy 0.5896\n",
      "Epoch 20 Batch 800 Loss 1.9878 Accuracy 0.5896\n",
      "Epoch 20 Batch 850 Loss 1.9878 Accuracy 0.5895\n",
      "Epoch 20 Batch 900 Loss 1.9877 Accuracy 0.5897\n",
      "Epoch 20 Batch 950 Loss 1.9896 Accuracy 0.5894\n",
      "Epoch 20 Batch 1000 Loss 1.9895 Accuracy 0.5896\n",
      "Epoch 20 Batch 1050 Loss 1.9887 Accuracy 0.5897\n",
      "Epoch 20 Batch 1100 Loss 1.9892 Accuracy 0.5897\n",
      "Epoch 20 Batch 1150 Loss 1.9887 Accuracy 0.5897\n",
      "Epoch 20 Batch 1200 Loss 1.9886 Accuracy 0.5897\n",
      "Epoch 20 Batch 1250 Loss 1.9879 Accuracy 0.5898\n",
      "Epoch 20 Batch 1300 Loss 1.9877 Accuracy 0.5898\n",
      "Epoch 20 Batch 1350 Loss 1.9866 Accuracy 0.5900\n",
      "Epoch 20 Batch 1400 Loss 1.9870 Accuracy 0.5900\n",
      "Epoch 20 Batch 1450 Loss 1.9869 Accuracy 0.5900\n",
      "Epoch 20 Batch 1500 Loss 1.9871 Accuracy 0.5899\n",
      "Epoch 20 Batch 1550 Loss 1.9869 Accuracy 0.5900\n",
      "Epoch 20 Batch 1600 Loss 1.9865 Accuracy 0.5901\n",
      "Epoch 20 Batch 1650 Loss 1.9870 Accuracy 0.5899\n",
      "Epoch 20 Batch 1700 Loss 1.9874 Accuracy 0.5899\n",
      "Epoch 20 Batch 1750 Loss 1.9879 Accuracy 0.5898\n",
      "Epoch 20 Batch 1800 Loss 1.9878 Accuracy 0.5899\n",
      "Epoch 20 Batch 1850 Loss 1.9879 Accuracy 0.5899\n",
      "Epoch 20 Batch 1900 Loss 1.9886 Accuracy 0.5898\n",
      "Epoch 20 Batch 1950 Loss 1.9889 Accuracy 0.5898\n",
      "Epoch 20 Batch 2000 Loss 1.9888 Accuracy 0.5898\n",
      "Epoch 20 Batch 2050 Loss 1.9885 Accuracy 0.5898\n",
      "Epoch 20 Batch 2100 Loss 1.9883 Accuracy 0.5899\n",
      "Epoch 20 Batch 2150 Loss 1.9879 Accuracy 0.5899\n",
      "Epoch 20 Batch 2200 Loss 1.9881 Accuracy 0.5899\n",
      "Epoch 20 Batch 2250 Loss 1.9886 Accuracy 0.5898\n",
      "Epoch 20 Batch 2300 Loss 1.9891 Accuracy 0.5897\n",
      "Epoch 20 Batch 2350 Loss 1.9894 Accuracy 0.5897\n",
      "Epoch 20 Batch 2400 Loss 1.9891 Accuracy 0.5897\n",
      "Epoch 20 Batch 2450 Loss 1.9888 Accuracy 0.5898\n",
      "Epoch 20 Batch 2500 Loss 1.9886 Accuracy 0.5898\n",
      "Epoch 20 Batch 2550 Loss 1.9889 Accuracy 0.5898\n",
      "Epoch 20 Batch 2600 Loss 1.9891 Accuracy 0.5898\n",
      "Saving checkpoint for epoch 20 at ./checkpoints/train/ckpt-4\n",
      "Epoch 20 Loss 1.9894 Accuracy 0.5897\n",
      "Time taken for 1 epoch: 173.12081170082092 secs\n",
      "\n",
      "Epoch 21 Batch 0 Loss 2.0112 Accuracy 0.5711\n",
      "Epoch 21 Batch 50 Loss 1.9986 Accuracy 0.5865\n",
      "Epoch 21 Batch 100 Loss 1.9809 Accuracy 0.5900\n",
      "Epoch 21 Batch 150 Loss 1.9697 Accuracy 0.5922\n",
      "Epoch 21 Batch 200 Loss 1.9717 Accuracy 0.5923\n",
      "Epoch 21 Batch 250 Loss 1.9692 Accuracy 0.5926\n",
      "Epoch 21 Batch 300 Loss 1.9684 Accuracy 0.5928\n",
      "Epoch 21 Batch 350 Loss 1.9733 Accuracy 0.5920\n",
      "Epoch 21 Batch 400 Loss 1.9718 Accuracy 0.5923\n",
      "Epoch 21 Batch 450 Loss 1.9754 Accuracy 0.5920\n",
      "Epoch 21 Batch 500 Loss 1.9770 Accuracy 0.5918\n",
      "Epoch 21 Batch 550 Loss 1.9776 Accuracy 0.5918\n",
      "Epoch 21 Batch 600 Loss 1.9771 Accuracy 0.5919\n",
      "Epoch 21 Batch 650 Loss 1.9769 Accuracy 0.5918\n",
      "Epoch 21 Batch 700 Loss 1.9780 Accuracy 0.5915\n",
      "Epoch 21 Batch 750 Loss 1.9772 Accuracy 0.5915\n",
      "Epoch 21 Batch 800 Loss 1.9770 Accuracy 0.5916\n",
      "Epoch 21 Batch 850 Loss 1.9777 Accuracy 0.5913\n",
      "Epoch 21 Batch 900 Loss 1.9785 Accuracy 0.5912\n",
      "Epoch 21 Batch 950 Loss 1.9791 Accuracy 0.5911\n",
      "Epoch 21 Batch 1000 Loss 1.9783 Accuracy 0.5911\n",
      "Epoch 21 Batch 1050 Loss 1.9786 Accuracy 0.5910\n",
      "Epoch 21 Batch 1100 Loss 1.9772 Accuracy 0.5912\n",
      "Epoch 21 Batch 1150 Loss 1.9762 Accuracy 0.5914\n",
      "Epoch 21 Batch 1200 Loss 1.9755 Accuracy 0.5917\n",
      "Epoch 21 Batch 1250 Loss 1.9751 Accuracy 0.5917\n",
      "Epoch 21 Batch 1300 Loss 1.9747 Accuracy 0.5917\n",
      "Epoch 21 Batch 1350 Loss 1.9747 Accuracy 0.5917\n",
      "Epoch 21 Batch 1400 Loss 1.9744 Accuracy 0.5918\n",
      "Epoch 21 Batch 1450 Loss 1.9744 Accuracy 0.5918\n",
      "Epoch 21 Batch 1500 Loss 1.9744 Accuracy 0.5918\n",
      "Epoch 21 Batch 1550 Loss 1.9747 Accuracy 0.5918\n",
      "Epoch 21 Batch 1600 Loss 1.9746 Accuracy 0.5918\n",
      "Epoch 21 Batch 1650 Loss 1.9748 Accuracy 0.5918\n",
      "Epoch 21 Batch 1700 Loss 1.9748 Accuracy 0.5917\n",
      "Epoch 21 Batch 1750 Loss 1.9748 Accuracy 0.5917\n",
      "Epoch 21 Batch 1800 Loss 1.9753 Accuracy 0.5916\n",
      "Epoch 21 Batch 1850 Loss 1.9747 Accuracy 0.5917\n",
      "Epoch 21 Batch 1900 Loss 1.9748 Accuracy 0.5917\n",
      "Epoch 21 Batch 1950 Loss 1.9752 Accuracy 0.5916\n",
      "Epoch 21 Batch 2000 Loss 1.9751 Accuracy 0.5917\n",
      "Epoch 21 Batch 2050 Loss 1.9754 Accuracy 0.5916\n",
      "Epoch 21 Batch 2100 Loss 1.9753 Accuracy 0.5917\n",
      "Epoch 21 Batch 2150 Loss 1.9754 Accuracy 0.5917\n",
      "Epoch 21 Batch 2200 Loss 1.9757 Accuracy 0.5916\n",
      "Epoch 21 Batch 2250 Loss 1.9762 Accuracy 0.5916\n",
      "Epoch 21 Batch 2300 Loss 1.9764 Accuracy 0.5915\n",
      "Epoch 21 Batch 2350 Loss 1.9762 Accuracy 0.5915\n",
      "Epoch 21 Batch 2400 Loss 1.9762 Accuracy 0.5915\n",
      "Epoch 21 Batch 2450 Loss 1.9759 Accuracy 0.5916\n",
      "Epoch 21 Batch 2500 Loss 1.9760 Accuracy 0.5916\n",
      "Epoch 21 Batch 2550 Loss 1.9760 Accuracy 0.5916\n",
      "Epoch 21 Batch 2600 Loss 1.9763 Accuracy 0.5915\n",
      "Epoch 21 Loss 1.9764 Accuracy 0.5915\n",
      "Time taken for 1 epoch: 172.13713693618774 secs\n",
      "\n",
      "Epoch 22 Batch 0 Loss 1.9678 Accuracy 0.5871\n",
      "Epoch 22 Batch 50 Loss 1.9516 Accuracy 0.5948\n",
      "Epoch 22 Batch 100 Loss 1.9555 Accuracy 0.5958\n",
      "Epoch 22 Batch 150 Loss 1.9565 Accuracy 0.5955\n",
      "Epoch 22 Batch 200 Loss 1.9509 Accuracy 0.5963\n",
      "Epoch 22 Batch 250 Loss 1.9552 Accuracy 0.5949\n",
      "Epoch 22 Batch 300 Loss 1.9563 Accuracy 0.5944\n",
      "Epoch 22 Batch 350 Loss 1.9590 Accuracy 0.5939\n",
      "Epoch 22 Batch 400 Loss 1.9609 Accuracy 0.5935\n",
      "Epoch 22 Batch 450 Loss 1.9611 Accuracy 0.5934\n",
      "Epoch 22 Batch 500 Loss 1.9606 Accuracy 0.5935\n",
      "Epoch 22 Batch 550 Loss 1.9619 Accuracy 0.5933\n",
      "Epoch 22 Batch 600 Loss 1.9622 Accuracy 0.5931\n",
      "Epoch 22 Batch 650 Loss 1.9621 Accuracy 0.5930\n",
      "Epoch 22 Batch 700 Loss 1.9635 Accuracy 0.5928\n",
      "Epoch 22 Batch 750 Loss 1.9633 Accuracy 0.5929\n",
      "Epoch 22 Batch 800 Loss 1.9624 Accuracy 0.5929\n",
      "Epoch 22 Batch 850 Loss 1.9632 Accuracy 0.5928\n",
      "Epoch 22 Batch 900 Loss 1.9633 Accuracy 0.5929\n",
      "Epoch 22 Batch 950 Loss 1.9627 Accuracy 0.5931\n",
      "Epoch 22 Batch 1000 Loss 1.9625 Accuracy 0.5931\n",
      "Epoch 22 Batch 1050 Loss 1.9621 Accuracy 0.5933\n",
      "Epoch 22 Batch 1100 Loss 1.9623 Accuracy 0.5932\n",
      "Epoch 22 Batch 1150 Loss 1.9607 Accuracy 0.5936\n",
      "Epoch 22 Batch 1200 Loss 1.9605 Accuracy 0.5936\n",
      "Epoch 22 Batch 1250 Loss 1.9606 Accuracy 0.5936\n",
      "Epoch 22 Batch 1300 Loss 1.9607 Accuracy 0.5937\n",
      "Epoch 22 Batch 1350 Loss 1.9609 Accuracy 0.5936\n",
      "Epoch 22 Batch 1400 Loss 1.9617 Accuracy 0.5936\n",
      "Epoch 22 Batch 1450 Loss 1.9608 Accuracy 0.5937\n",
      "Epoch 22 Batch 1500 Loss 1.9609 Accuracy 0.5937\n",
      "Epoch 22 Batch 1550 Loss 1.9611 Accuracy 0.5937\n",
      "Epoch 22 Batch 1600 Loss 1.9613 Accuracy 0.5936\n",
      "Epoch 22 Batch 1650 Loss 1.9609 Accuracy 0.5937\n",
      "Epoch 22 Batch 1700 Loss 1.9610 Accuracy 0.5937\n",
      "Epoch 22 Batch 1750 Loss 1.9615 Accuracy 0.5937\n",
      "Epoch 22 Batch 1800 Loss 1.9612 Accuracy 0.5937\n",
      "Epoch 22 Batch 1850 Loss 1.9611 Accuracy 0.5938\n",
      "Epoch 22 Batch 1900 Loss 1.9615 Accuracy 0.5936\n",
      "Epoch 22 Batch 1950 Loss 1.9623 Accuracy 0.5935\n",
      "Epoch 22 Batch 2000 Loss 1.9621 Accuracy 0.5935\n",
      "Epoch 22 Batch 2050 Loss 1.9627 Accuracy 0.5935\n",
      "Epoch 22 Batch 2100 Loss 1.9628 Accuracy 0.5935\n",
      "Epoch 22 Batch 2150 Loss 1.9628 Accuracy 0.5935\n",
      "Epoch 22 Batch 2200 Loss 1.9628 Accuracy 0.5935\n",
      "Epoch 22 Batch 2250 Loss 1.9626 Accuracy 0.5935\n",
      "Epoch 22 Batch 2300 Loss 1.9629 Accuracy 0.5934\n",
      "Epoch 22 Batch 2350 Loss 1.9630 Accuracy 0.5934\n",
      "Epoch 22 Batch 2400 Loss 1.9626 Accuracy 0.5934\n",
      "Epoch 22 Batch 2450 Loss 1.9624 Accuracy 0.5934\n",
      "Epoch 22 Batch 2500 Loss 1.9620 Accuracy 0.5935\n",
      "Epoch 22 Batch 2550 Loss 1.9623 Accuracy 0.5934\n",
      "Epoch 22 Batch 2600 Loss 1.9625 Accuracy 0.5935\n",
      "Epoch 22 Loss 1.9625 Accuracy 0.5934\n",
      "Time taken for 1 epoch: 172.72800469398499 secs\n",
      "\n",
      "Epoch 23 Batch 0 Loss 2.0376 Accuracy 0.5886\n",
      "Epoch 23 Batch 50 Loss 1.9549 Accuracy 0.5956\n",
      "Epoch 23 Batch 100 Loss 1.9477 Accuracy 0.5953\n",
      "Epoch 23 Batch 150 Loss 1.9451 Accuracy 0.5965\n",
      "Epoch 23 Batch 200 Loss 1.9415 Accuracy 0.5969\n",
      "Epoch 23 Batch 250 Loss 1.9416 Accuracy 0.5965\n",
      "Epoch 23 Batch 300 Loss 1.9424 Accuracy 0.5966\n",
      "Epoch 23 Batch 350 Loss 1.9435 Accuracy 0.5966\n",
      "Epoch 23 Batch 400 Loss 1.9436 Accuracy 0.5962\n",
      "Epoch 23 Batch 450 Loss 1.9406 Accuracy 0.5966\n",
      "Epoch 23 Batch 500 Loss 1.9422 Accuracy 0.5964\n",
      "Epoch 23 Batch 550 Loss 1.9437 Accuracy 0.5963\n",
      "Epoch 23 Batch 600 Loss 1.9453 Accuracy 0.5960\n",
      "Epoch 23 Batch 650 Loss 1.9461 Accuracy 0.5959\n",
      "Epoch 23 Batch 700 Loss 1.9467 Accuracy 0.5957\n",
      "Epoch 23 Batch 750 Loss 1.9466 Accuracy 0.5957\n",
      "Epoch 23 Batch 800 Loss 1.9467 Accuracy 0.5956\n",
      "Epoch 23 Batch 850 Loss 1.9475 Accuracy 0.5954\n",
      "Epoch 23 Batch 900 Loss 1.9496 Accuracy 0.5951\n",
      "Epoch 23 Batch 950 Loss 1.9492 Accuracy 0.5952\n",
      "Epoch 23 Batch 1000 Loss 1.9502 Accuracy 0.5950\n",
      "Epoch 23 Batch 1050 Loss 1.9491 Accuracy 0.5953\n",
      "Epoch 23 Batch 1100 Loss 1.9486 Accuracy 0.5954\n",
      "Epoch 23 Batch 1150 Loss 1.9488 Accuracy 0.5954\n",
      "Epoch 23 Batch 1200 Loss 1.9487 Accuracy 0.5954\n",
      "Epoch 23 Batch 1250 Loss 1.9480 Accuracy 0.5955\n",
      "Epoch 23 Batch 1300 Loss 1.9476 Accuracy 0.5956\n",
      "Epoch 23 Batch 1350 Loss 1.9475 Accuracy 0.5956\n",
      "Epoch 23 Batch 1400 Loss 1.9472 Accuracy 0.5957\n",
      "Epoch 23 Batch 1450 Loss 1.9464 Accuracy 0.5959\n",
      "Epoch 23 Batch 1500 Loss 1.9455 Accuracy 0.5960\n",
      "Epoch 23 Batch 1550 Loss 1.9460 Accuracy 0.5959\n",
      "Epoch 23 Batch 1600 Loss 1.9470 Accuracy 0.5958\n",
      "Epoch 23 Batch 1650 Loss 1.9474 Accuracy 0.5957\n",
      "Epoch 23 Batch 1700 Loss 1.9473 Accuracy 0.5956\n",
      "Epoch 23 Batch 1750 Loss 1.9476 Accuracy 0.5956\n",
      "Epoch 23 Batch 1800 Loss 1.9482 Accuracy 0.5956\n",
      "Epoch 23 Batch 1850 Loss 1.9488 Accuracy 0.5955\n",
      "Epoch 23 Batch 1900 Loss 1.9496 Accuracy 0.5954\n",
      "Epoch 23 Batch 1950 Loss 1.9498 Accuracy 0.5953\n",
      "Epoch 23 Batch 2000 Loss 1.9501 Accuracy 0.5954\n",
      "Epoch 23 Batch 2050 Loss 1.9500 Accuracy 0.5954\n",
      "Epoch 23 Batch 2100 Loss 1.9499 Accuracy 0.5954\n",
      "Epoch 23 Batch 2150 Loss 1.9503 Accuracy 0.5954\n",
      "Epoch 23 Batch 2200 Loss 1.9505 Accuracy 0.5953\n",
      "Epoch 23 Batch 2250 Loss 1.9510 Accuracy 0.5952\n",
      "Epoch 23 Batch 2300 Loss 1.9510 Accuracy 0.5952\n",
      "Epoch 23 Batch 2350 Loss 1.9508 Accuracy 0.5952\n",
      "Epoch 23 Batch 2400 Loss 1.9506 Accuracy 0.5952\n",
      "Epoch 23 Batch 2450 Loss 1.9507 Accuracy 0.5952\n",
      "Epoch 23 Batch 2500 Loss 1.9509 Accuracy 0.5952\n",
      "Epoch 23 Batch 2550 Loss 1.9511 Accuracy 0.5952\n",
      "Epoch 23 Batch 2600 Loss 1.9515 Accuracy 0.5951\n",
      "Epoch 23 Loss 1.9512 Accuracy 0.5952\n",
      "Time taken for 1 epoch: 175.30960035324097 secs\n",
      "\n",
      "Epoch 24 Batch 0 Loss 1.9609 Accuracy 0.5880\n",
      "Epoch 24 Batch 50 Loss 1.9352 Accuracy 0.5967\n",
      "Epoch 24 Batch 100 Loss 1.9411 Accuracy 0.5964\n",
      "Epoch 24 Batch 150 Loss 1.9410 Accuracy 0.5964\n",
      "Epoch 24 Batch 200 Loss 1.9410 Accuracy 0.5965\n",
      "Epoch 24 Batch 250 Loss 1.9405 Accuracy 0.5964\n",
      "Epoch 24 Batch 300 Loss 1.9416 Accuracy 0.5962\n",
      "Epoch 24 Batch 350 Loss 1.9377 Accuracy 0.5970\n",
      "Epoch 24 Batch 400 Loss 1.9394 Accuracy 0.5969\n",
      "Epoch 24 Batch 450 Loss 1.9416 Accuracy 0.5964\n",
      "Epoch 24 Batch 500 Loss 1.9416 Accuracy 0.5961\n",
      "Epoch 24 Batch 550 Loss 1.9429 Accuracy 0.5957\n",
      "Epoch 24 Batch 600 Loss 1.9411 Accuracy 0.5963\n",
      "Epoch 24 Batch 650 Loss 1.9400 Accuracy 0.5967\n",
      "Epoch 24 Batch 700 Loss 1.9405 Accuracy 0.5965\n",
      "Epoch 24 Batch 750 Loss 1.9410 Accuracy 0.5963\n",
      "Epoch 24 Batch 800 Loss 1.9406 Accuracy 0.5965\n",
      "Epoch 24 Batch 850 Loss 1.9408 Accuracy 0.5964\n",
      "Epoch 24 Batch 900 Loss 1.9403 Accuracy 0.5964\n",
      "Epoch 24 Batch 950 Loss 1.9408 Accuracy 0.5963\n",
      "Epoch 24 Batch 1000 Loss 1.9397 Accuracy 0.5964\n",
      "Epoch 24 Batch 1050 Loss 1.9402 Accuracy 0.5964\n",
      "Epoch 24 Batch 1100 Loss 1.9392 Accuracy 0.5966\n",
      "Epoch 24 Batch 1150 Loss 1.9402 Accuracy 0.5965\n",
      "Epoch 24 Batch 1200 Loss 1.9405 Accuracy 0.5965\n",
      "Epoch 24 Batch 1250 Loss 1.9411 Accuracy 0.5964\n",
      "Epoch 24 Batch 1300 Loss 1.9406 Accuracy 0.5965\n",
      "Epoch 24 Batch 1350 Loss 1.9398 Accuracy 0.5966\n",
      "Epoch 24 Batch 1400 Loss 1.9398 Accuracy 0.5966\n",
      "Epoch 24 Batch 1450 Loss 1.9392 Accuracy 0.5966\n",
      "Epoch 24 Batch 1500 Loss 1.9391 Accuracy 0.5966\n",
      "Epoch 24 Batch 1550 Loss 1.9395 Accuracy 0.5966\n",
      "Epoch 24 Batch 1600 Loss 1.9397 Accuracy 0.5965\n",
      "Epoch 24 Batch 1650 Loss 1.9395 Accuracy 0.5966\n",
      "Epoch 24 Batch 1700 Loss 1.9397 Accuracy 0.5966\n",
      "Epoch 24 Batch 1750 Loss 1.9395 Accuracy 0.5967\n",
      "Epoch 24 Batch 1800 Loss 1.9396 Accuracy 0.5967\n",
      "Epoch 24 Batch 1850 Loss 1.9394 Accuracy 0.5967\n",
      "Epoch 24 Batch 1900 Loss 1.9388 Accuracy 0.5967\n",
      "Epoch 24 Batch 1950 Loss 1.9391 Accuracy 0.5967\n",
      "Epoch 24 Batch 2000 Loss 1.9387 Accuracy 0.5968\n",
      "Epoch 24 Batch 2050 Loss 1.9388 Accuracy 0.5968\n",
      "Epoch 24 Batch 2100 Loss 1.9386 Accuracy 0.5968\n",
      "Epoch 24 Batch 2150 Loss 1.9393 Accuracy 0.5966\n",
      "Epoch 24 Batch 2200 Loss 1.9398 Accuracy 0.5965\n",
      "Epoch 24 Batch 2250 Loss 1.9401 Accuracy 0.5965\n",
      "Epoch 24 Batch 2300 Loss 1.9401 Accuracy 0.5965\n",
      "Epoch 24 Batch 2350 Loss 1.9402 Accuracy 0.5965\n",
      "Epoch 24 Batch 2400 Loss 1.9399 Accuracy 0.5966\n",
      "Epoch 24 Batch 2450 Loss 1.9397 Accuracy 0.5966\n",
      "Epoch 24 Batch 2500 Loss 1.9398 Accuracy 0.5967\n",
      "Epoch 24 Batch 2550 Loss 1.9404 Accuracy 0.5966\n",
      "Epoch 24 Batch 2600 Loss 1.9408 Accuracy 0.5965\n",
      "Epoch 24 Loss 1.9410 Accuracy 0.5965\n",
      "Time taken for 1 epoch: 173.66587853431702 secs\n",
      "\n",
      "Epoch 25 Batch 0 Loss 1.9328 Accuracy 0.5976\n",
      "Epoch 25 Batch 50 Loss 1.9315 Accuracy 0.5970\n",
      "Epoch 25 Batch 100 Loss 1.9287 Accuracy 0.5982\n",
      "Epoch 25 Batch 150 Loss 1.9275 Accuracy 0.5985\n",
      "Epoch 25 Batch 200 Loss 1.9297 Accuracy 0.5981\n",
      "Epoch 25 Batch 250 Loss 1.9280 Accuracy 0.5982\n",
      "Epoch 25 Batch 300 Loss 1.9274 Accuracy 0.5986\n",
      "Epoch 25 Batch 350 Loss 1.9290 Accuracy 0.5983\n",
      "Epoch 25 Batch 400 Loss 1.9279 Accuracy 0.5984\n",
      "Epoch 25 Batch 450 Loss 1.9307 Accuracy 0.5977\n",
      "Epoch 25 Batch 500 Loss 1.9310 Accuracy 0.5975\n",
      "Epoch 25 Batch 550 Loss 1.9299 Accuracy 0.5977\n",
      "Epoch 25 Batch 600 Loss 1.9283 Accuracy 0.5978\n",
      "Epoch 25 Batch 650 Loss 1.9274 Accuracy 0.5980\n",
      "Epoch 25 Batch 700 Loss 1.9261 Accuracy 0.5982\n",
      "Epoch 25 Batch 750 Loss 1.9268 Accuracy 0.5982\n",
      "Epoch 25 Batch 800 Loss 1.9283 Accuracy 0.5980\n",
      "Epoch 25 Batch 850 Loss 1.9293 Accuracy 0.5978\n",
      "Epoch 25 Batch 900 Loss 1.9286 Accuracy 0.5978\n",
      "Epoch 25 Batch 950 Loss 1.9284 Accuracy 0.5978\n",
      "Epoch 25 Batch 1000 Loss 1.9293 Accuracy 0.5978\n",
      "Epoch 25 Batch 1050 Loss 1.9294 Accuracy 0.5979\n",
      "Epoch 25 Batch 1100 Loss 1.9303 Accuracy 0.5977\n",
      "Epoch 25 Batch 1150 Loss 1.9304 Accuracy 0.5979\n",
      "Epoch 25 Batch 1200 Loss 1.9293 Accuracy 0.5980\n",
      "Epoch 25 Batch 1250 Loss 1.9293 Accuracy 0.5980\n",
      "Epoch 25 Batch 1300 Loss 1.9299 Accuracy 0.5980\n",
      "Epoch 25 Batch 1350 Loss 1.9302 Accuracy 0.5979\n",
      "Epoch 25 Batch 1400 Loss 1.9301 Accuracy 0.5980\n",
      "Epoch 25 Batch 1450 Loss 1.9293 Accuracy 0.5981\n",
      "Epoch 25 Batch 1500 Loss 1.9285 Accuracy 0.5982\n",
      "Epoch 25 Batch 1550 Loss 1.9290 Accuracy 0.5982\n",
      "Epoch 25 Batch 1600 Loss 1.9282 Accuracy 0.5984\n",
      "Epoch 25 Batch 1650 Loss 1.9283 Accuracy 0.5984\n",
      "Epoch 25 Batch 1700 Loss 1.9287 Accuracy 0.5984\n",
      "Epoch 25 Batch 1750 Loss 1.9290 Accuracy 0.5984\n",
      "Epoch 25 Batch 1800 Loss 1.9290 Accuracy 0.5984\n",
      "Epoch 25 Batch 1850 Loss 1.9290 Accuracy 0.5984\n",
      "Epoch 25 Batch 1900 Loss 1.9295 Accuracy 0.5983\n",
      "Epoch 25 Batch 1950 Loss 1.9297 Accuracy 0.5983\n",
      "Epoch 25 Batch 2000 Loss 1.9288 Accuracy 0.5984\n",
      "Epoch 25 Batch 2050 Loss 1.9287 Accuracy 0.5985\n",
      "Epoch 25 Batch 2100 Loss 1.9291 Accuracy 0.5984\n",
      "Epoch 25 Batch 2150 Loss 1.9294 Accuracy 0.5984\n",
      "Epoch 25 Batch 2200 Loss 1.9287 Accuracy 0.5985\n",
      "Epoch 25 Batch 2250 Loss 1.9290 Accuracy 0.5984\n",
      "Epoch 25 Batch 2300 Loss 1.9291 Accuracy 0.5984\n",
      "Epoch 25 Batch 2350 Loss 1.9290 Accuracy 0.5984\n",
      "Epoch 25 Batch 2400 Loss 1.9297 Accuracy 0.5984\n",
      "Epoch 25 Batch 2450 Loss 1.9297 Accuracy 0.5984\n",
      "Epoch 25 Batch 2500 Loss 1.9302 Accuracy 0.5984\n",
      "Epoch 25 Batch 2550 Loss 1.9299 Accuracy 0.5984\n",
      "Epoch 25 Batch 2600 Loss 1.9300 Accuracy 0.5983\n",
      "Saving checkpoint for epoch 25 at ./checkpoints/train/ckpt-5\n",
      "Epoch 25 Loss 1.9300 Accuracy 0.5983\n",
      "Time taken for 1 epoch: 172.29648971557617 secs\n",
      "\n",
      "Epoch 26 Batch 0 Loss 1.8686 Accuracy 0.5990\n",
      "Epoch 26 Batch 50 Loss 1.9274 Accuracy 0.5976\n",
      "Epoch 26 Batch 100 Loss 1.9204 Accuracy 0.5991\n",
      "Epoch 26 Batch 150 Loss 1.9175 Accuracy 0.5992\n",
      "Epoch 26 Batch 200 Loss 1.9184 Accuracy 0.5991\n",
      "Epoch 26 Batch 250 Loss 1.9175 Accuracy 0.5994\n",
      "Epoch 26 Batch 300 Loss 1.9148 Accuracy 0.5999\n",
      "Epoch 26 Batch 350 Loss 1.9155 Accuracy 0.6001\n",
      "Epoch 26 Batch 400 Loss 1.9175 Accuracy 0.5999\n",
      "Epoch 26 Batch 450 Loss 1.9169 Accuracy 0.5999\n",
      "Epoch 26 Batch 500 Loss 1.9155 Accuracy 0.6000\n",
      "Epoch 26 Batch 550 Loss 1.9167 Accuracy 0.5999\n",
      "Epoch 26 Batch 600 Loss 1.9166 Accuracy 0.5998\n",
      "Epoch 26 Batch 650 Loss 1.9176 Accuracy 0.5998\n",
      "Epoch 26 Batch 700 Loss 1.9190 Accuracy 0.5995\n",
      "Epoch 26 Batch 750 Loss 1.9205 Accuracy 0.5992\n",
      "Epoch 26 Batch 800 Loss 1.9217 Accuracy 0.5990\n",
      "Epoch 26 Batch 850 Loss 1.9217 Accuracy 0.5988\n",
      "Epoch 26 Batch 900 Loss 1.9213 Accuracy 0.5989\n",
      "Epoch 26 Batch 950 Loss 1.9200 Accuracy 0.5990\n",
      "Epoch 26 Batch 1000 Loss 1.9200 Accuracy 0.5990\n",
      "Epoch 26 Batch 1050 Loss 1.9200 Accuracy 0.5990\n",
      "Epoch 26 Batch 1100 Loss 1.9201 Accuracy 0.5990\n",
      "Epoch 26 Batch 1150 Loss 1.9198 Accuracy 0.5991\n",
      "Epoch 26 Batch 1200 Loss 1.9201 Accuracy 0.5992\n",
      "Epoch 26 Batch 1250 Loss 1.9191 Accuracy 0.5994\n",
      "Epoch 26 Batch 1300 Loss 1.9183 Accuracy 0.5996\n",
      "Epoch 26 Batch 1350 Loss 1.9177 Accuracy 0.5997\n",
      "Epoch 26 Batch 1400 Loss 1.9180 Accuracy 0.5997\n",
      "Epoch 26 Batch 1450 Loss 1.9178 Accuracy 0.5998\n",
      "Epoch 26 Batch 1500 Loss 1.9184 Accuracy 0.5998\n",
      "Epoch 26 Batch 1550 Loss 1.9187 Accuracy 0.5997\n",
      "Epoch 26 Batch 1600 Loss 1.9192 Accuracy 0.5997\n",
      "Epoch 26 Batch 1650 Loss 1.9191 Accuracy 0.5997\n",
      "Epoch 26 Batch 1700 Loss 1.9195 Accuracy 0.5997\n",
      "Epoch 26 Batch 1750 Loss 1.9191 Accuracy 0.5997\n",
      "Epoch 26 Batch 1800 Loss 1.9198 Accuracy 0.5996\n",
      "Epoch 26 Batch 1850 Loss 1.9196 Accuracy 0.5997\n",
      "Epoch 26 Batch 1900 Loss 1.9197 Accuracy 0.5997\n",
      "Epoch 26 Batch 1950 Loss 1.9192 Accuracy 0.5998\n",
      "Epoch 26 Batch 2000 Loss 1.9194 Accuracy 0.5998\n",
      "Epoch 26 Batch 2050 Loss 1.9199 Accuracy 0.5997\n",
      "Epoch 26 Batch 2100 Loss 1.9197 Accuracy 0.5998\n",
      "Epoch 26 Batch 2150 Loss 1.9200 Accuracy 0.5998\n",
      "Epoch 26 Batch 2200 Loss 1.9203 Accuracy 0.5997\n",
      "Epoch 26 Batch 2250 Loss 1.9200 Accuracy 0.5998\n",
      "Epoch 26 Batch 2300 Loss 1.9209 Accuracy 0.5996\n",
      "Epoch 26 Batch 2350 Loss 1.9210 Accuracy 0.5996\n",
      "Epoch 26 Batch 2400 Loss 1.9209 Accuracy 0.5996\n",
      "Epoch 26 Batch 2450 Loss 1.9212 Accuracy 0.5995\n",
      "Epoch 26 Batch 2500 Loss 1.9214 Accuracy 0.5995\n",
      "Epoch 26 Batch 2550 Loss 1.9213 Accuracy 0.5995\n",
      "Epoch 26 Batch 2600 Loss 1.9213 Accuracy 0.5995\n",
      "Epoch 26 Loss 1.9212 Accuracy 0.5995\n",
      "Time taken for 1 epoch: 169.2429461479187 secs\n",
      "\n",
      "Epoch 27 Batch 0 Loss 1.7401 Accuracy 0.6171\n",
      "Epoch 27 Batch 50 Loss 1.9002 Accuracy 0.6010\n",
      "Epoch 27 Batch 100 Loss 1.9068 Accuracy 0.6008\n",
      "Epoch 27 Batch 150 Loss 1.9124 Accuracy 0.6004\n",
      "Epoch 27 Batch 200 Loss 1.9126 Accuracy 0.6004\n",
      "Epoch 27 Batch 250 Loss 1.9084 Accuracy 0.6007\n",
      "Epoch 27 Batch 300 Loss 1.9099 Accuracy 0.6004\n",
      "Epoch 27 Batch 350 Loss 1.9114 Accuracy 0.6006\n",
      "Epoch 27 Batch 400 Loss 1.9094 Accuracy 0.6009\n",
      "Epoch 27 Batch 450 Loss 1.9099 Accuracy 0.6007\n",
      "Epoch 27 Batch 500 Loss 1.9104 Accuracy 0.6006\n",
      "Epoch 27 Batch 550 Loss 1.9104 Accuracy 0.6007\n",
      "Epoch 27 Batch 600 Loss 1.9091 Accuracy 0.6009\n",
      "Epoch 27 Batch 650 Loss 1.9091 Accuracy 0.6009\n",
      "Epoch 27 Batch 700 Loss 1.9075 Accuracy 0.6012\n",
      "Epoch 27 Batch 750 Loss 1.9080 Accuracy 0.6011\n",
      "Epoch 27 Batch 800 Loss 1.9087 Accuracy 0.6010\n",
      "Epoch 27 Batch 850 Loss 1.9091 Accuracy 0.6008\n",
      "Epoch 27 Batch 900 Loss 1.9100 Accuracy 0.6008\n",
      "Epoch 27 Batch 950 Loss 1.9097 Accuracy 0.6009\n",
      "Epoch 27 Batch 1000 Loss 1.9091 Accuracy 0.6010\n",
      "Epoch 27 Batch 1050 Loss 1.9096 Accuracy 0.6010\n",
      "Epoch 27 Batch 1100 Loss 1.9097 Accuracy 0.6010\n",
      "Epoch 27 Batch 1150 Loss 1.9117 Accuracy 0.6007\n",
      "Epoch 27 Batch 1200 Loss 1.9118 Accuracy 0.6008\n",
      "Epoch 27 Batch 1250 Loss 1.9107 Accuracy 0.6009\n",
      "Epoch 27 Batch 1300 Loss 1.9104 Accuracy 0.6010\n",
      "Epoch 27 Batch 1350 Loss 1.9097 Accuracy 0.6012\n",
      "Epoch 27 Batch 1400 Loss 1.9091 Accuracy 0.6013\n",
      "Epoch 27 Batch 1450 Loss 1.9091 Accuracy 0.6013\n",
      "Epoch 27 Batch 1500 Loss 1.9097 Accuracy 0.6012\n",
      "Epoch 27 Batch 1550 Loss 1.9101 Accuracy 0.6012\n",
      "Epoch 27 Batch 1600 Loss 1.9100 Accuracy 0.6012\n",
      "Epoch 27 Batch 1650 Loss 1.9100 Accuracy 0.6012\n",
      "Epoch 27 Batch 1700 Loss 1.9099 Accuracy 0.6012\n",
      "Epoch 27 Batch 1750 Loss 1.9097 Accuracy 0.6012\n",
      "Epoch 27 Batch 1800 Loss 1.9096 Accuracy 0.6013\n",
      "Epoch 27 Batch 1850 Loss 1.9096 Accuracy 0.6013\n",
      "Epoch 27 Batch 1900 Loss 1.9098 Accuracy 0.6013\n",
      "Epoch 27 Batch 1950 Loss 1.9103 Accuracy 0.6012\n",
      "Epoch 27 Batch 2000 Loss 1.9110 Accuracy 0.6011\n",
      "Epoch 27 Batch 2050 Loss 1.9112 Accuracy 0.6011\n",
      "Epoch 27 Batch 2100 Loss 1.9112 Accuracy 0.6011\n",
      "Epoch 27 Batch 2150 Loss 1.9115 Accuracy 0.6010\n",
      "Epoch 27 Batch 2200 Loss 1.9113 Accuracy 0.6011\n",
      "Epoch 27 Batch 2250 Loss 1.9116 Accuracy 0.6010\n",
      "Epoch 27 Batch 2300 Loss 1.9117 Accuracy 0.6010\n",
      "Epoch 27 Batch 2350 Loss 1.9114 Accuracy 0.6010\n",
      "Epoch 27 Batch 2400 Loss 1.9117 Accuracy 0.6010\n",
      "Epoch 27 Batch 2450 Loss 1.9122 Accuracy 0.6010\n",
      "Epoch 27 Batch 2500 Loss 1.9124 Accuracy 0.6009\n",
      "Epoch 27 Batch 2550 Loss 1.9120 Accuracy 0.6010\n",
      "Epoch 27 Batch 2600 Loss 1.9117 Accuracy 0.6010\n",
      "Epoch 27 Loss 1.9117 Accuracy 0.6010\n",
      "Time taken for 1 epoch: 174.70496249198914 secs\n",
      "\n",
      "Epoch 28 Batch 0 Loss 1.8162 Accuracy 0.6021\n",
      "Epoch 28 Batch 50 Loss 1.9248 Accuracy 0.5980\n",
      "Epoch 28 Batch 100 Loss 1.9194 Accuracy 0.5985\n",
      "Epoch 28 Batch 150 Loss 1.9060 Accuracy 0.6010\n",
      "Epoch 28 Batch 200 Loss 1.9012 Accuracy 0.6022\n",
      "Epoch 28 Batch 250 Loss 1.9012 Accuracy 0.6025\n",
      "Epoch 28 Batch 300 Loss 1.8992 Accuracy 0.6031\n",
      "Epoch 28 Batch 350 Loss 1.8979 Accuracy 0.6030\n",
      "Epoch 28 Batch 400 Loss 1.9005 Accuracy 0.6026\n",
      "Epoch 28 Batch 450 Loss 1.9008 Accuracy 0.6025\n",
      "Epoch 28 Batch 500 Loss 1.9007 Accuracy 0.6023\n",
      "Epoch 28 Batch 550 Loss 1.9018 Accuracy 0.6022\n",
      "Epoch 28 Batch 600 Loss 1.9034 Accuracy 0.6020\n",
      "Epoch 28 Batch 650 Loss 1.9042 Accuracy 0.6018\n",
      "Epoch 28 Batch 700 Loss 1.9033 Accuracy 0.6020\n",
      "Epoch 28 Batch 750 Loss 1.9029 Accuracy 0.6022\n",
      "Epoch 28 Batch 800 Loss 1.9026 Accuracy 0.6022\n",
      "Epoch 28 Batch 850 Loss 1.9031 Accuracy 0.6021\n",
      "Epoch 28 Batch 900 Loss 1.9029 Accuracy 0.6023\n",
      "Epoch 28 Batch 950 Loss 1.9024 Accuracy 0.6023\n",
      "Epoch 28 Batch 1000 Loss 1.9013 Accuracy 0.6025\n",
      "Epoch 28 Batch 1050 Loss 1.9013 Accuracy 0.6025\n",
      "Epoch 28 Batch 1100 Loss 1.9014 Accuracy 0.6025\n",
      "Epoch 28 Batch 1150 Loss 1.9010 Accuracy 0.6026\n",
      "Epoch 28 Batch 1200 Loss 1.9021 Accuracy 0.6025\n",
      "Epoch 28 Batch 1250 Loss 1.9014 Accuracy 0.6026\n",
      "Epoch 28 Batch 1300 Loss 1.9002 Accuracy 0.6028\n",
      "Epoch 28 Batch 1350 Loss 1.8999 Accuracy 0.6029\n",
      "Epoch 28 Batch 1400 Loss 1.9003 Accuracy 0.6029\n",
      "Epoch 28 Batch 1450 Loss 1.9003 Accuracy 0.6029\n",
      "Epoch 28 Batch 1500 Loss 1.8997 Accuracy 0.6030\n",
      "Epoch 28 Batch 1550 Loss 1.8994 Accuracy 0.6030\n",
      "Epoch 28 Batch 1600 Loss 1.8998 Accuracy 0.6030\n",
      "Epoch 28 Batch 1650 Loss 1.8996 Accuracy 0.6030\n",
      "Epoch 28 Batch 1700 Loss 1.8999 Accuracy 0.6029\n",
      "Epoch 28 Batch 1750 Loss 1.8999 Accuracy 0.6030\n",
      "Epoch 28 Batch 1800 Loss 1.9003 Accuracy 0.6030\n",
      "Epoch 28 Batch 1850 Loss 1.9013 Accuracy 0.6028\n",
      "Epoch 28 Batch 1900 Loss 1.9016 Accuracy 0.6027\n",
      "Epoch 28 Batch 1950 Loss 1.9015 Accuracy 0.6028\n",
      "Epoch 28 Batch 2000 Loss 1.9015 Accuracy 0.6028\n",
      "Epoch 28 Batch 2050 Loss 1.9010 Accuracy 0.6029\n",
      "Epoch 28 Batch 2100 Loss 1.9011 Accuracy 0.6029\n",
      "Epoch 28 Batch 2150 Loss 1.9016 Accuracy 0.6027\n",
      "Epoch 28 Batch 2200 Loss 1.9020 Accuracy 0.6027\n",
      "Epoch 28 Batch 2250 Loss 1.9022 Accuracy 0.6027\n",
      "Epoch 28 Batch 2300 Loss 1.9029 Accuracy 0.6026\n",
      "Epoch 28 Batch 2350 Loss 1.9022 Accuracy 0.6026\n",
      "Epoch 28 Batch 2400 Loss 1.9018 Accuracy 0.6027\n",
      "Epoch 28 Batch 2450 Loss 1.9022 Accuracy 0.6027\n",
      "Epoch 28 Batch 2500 Loss 1.9022 Accuracy 0.6027\n",
      "Epoch 28 Batch 2550 Loss 1.9028 Accuracy 0.6026\n",
      "Epoch 28 Batch 2600 Loss 1.9030 Accuracy 0.6025\n",
      "Epoch 28 Loss 1.9034 Accuracy 0.6025\n",
      "Time taken for 1 epoch: 180.585608959198 secs\n",
      "\n",
      "Epoch 29 Batch 0 Loss 1.9003 Accuracy 0.6030\n",
      "Epoch 29 Batch 50 Loss 1.9014 Accuracy 0.5993\n",
      "Epoch 29 Batch 100 Loss 1.9021 Accuracy 0.6009\n",
      "Epoch 29 Batch 150 Loss 1.8977 Accuracy 0.6017\n",
      "Epoch 29 Batch 200 Loss 1.8934 Accuracy 0.6029\n",
      "Epoch 29 Batch 250 Loss 1.8924 Accuracy 0.6037\n",
      "Epoch 29 Batch 300 Loss 1.8921 Accuracy 0.6035\n",
      "Epoch 29 Batch 350 Loss 1.8929 Accuracy 0.6034\n",
      "Epoch 29 Batch 400 Loss 1.8945 Accuracy 0.6031\n",
      "Epoch 29 Batch 450 Loss 1.8932 Accuracy 0.6037\n",
      "Epoch 29 Batch 500 Loss 1.8929 Accuracy 0.6036\n",
      "Epoch 29 Batch 550 Loss 1.8919 Accuracy 0.6034\n",
      "Epoch 29 Batch 600 Loss 1.8939 Accuracy 0.6031\n",
      "Epoch 29 Batch 650 Loss 1.8938 Accuracy 0.6032\n",
      "Epoch 29 Batch 700 Loss 1.8921 Accuracy 0.6035\n",
      "Epoch 29 Batch 750 Loss 1.8931 Accuracy 0.6034\n",
      "Epoch 29 Batch 800 Loss 1.8933 Accuracy 0.6033\n",
      "Epoch 29 Batch 850 Loss 1.8932 Accuracy 0.6034\n",
      "Epoch 29 Batch 900 Loss 1.8940 Accuracy 0.6033\n",
      "Epoch 29 Batch 950 Loss 1.8943 Accuracy 0.6034\n",
      "Epoch 29 Batch 1000 Loss 1.8938 Accuracy 0.6035\n",
      "Epoch 29 Batch 1050 Loss 1.8937 Accuracy 0.6035\n",
      "Epoch 29 Batch 1100 Loss 1.8937 Accuracy 0.6036\n",
      "Epoch 29 Batch 1150 Loss 1.8928 Accuracy 0.6037\n",
      "Epoch 29 Batch 1200 Loss 1.8935 Accuracy 0.6036\n",
      "Epoch 29 Batch 1250 Loss 1.8932 Accuracy 0.6037\n",
      "Epoch 29 Batch 1300 Loss 1.8934 Accuracy 0.6037\n",
      "Epoch 29 Batch 1350 Loss 1.8932 Accuracy 0.6037\n",
      "Epoch 29 Batch 1400 Loss 1.8940 Accuracy 0.6036\n",
      "Epoch 29 Batch 1450 Loss 1.8940 Accuracy 0.6036\n",
      "Epoch 29 Batch 1500 Loss 1.8924 Accuracy 0.6038\n",
      "Epoch 29 Batch 1550 Loss 1.8934 Accuracy 0.6037\n",
      "Epoch 29 Batch 1600 Loss 1.8935 Accuracy 0.6037\n",
      "Epoch 29 Batch 1650 Loss 1.8938 Accuracy 0.6037\n",
      "Epoch 29 Batch 1700 Loss 1.8940 Accuracy 0.6038\n",
      "Epoch 29 Batch 1750 Loss 1.8933 Accuracy 0.6039\n",
      "Epoch 29 Batch 1800 Loss 1.8934 Accuracy 0.6039\n",
      "Epoch 29 Batch 1850 Loss 1.8935 Accuracy 0.6039\n",
      "Epoch 29 Batch 1900 Loss 1.8933 Accuracy 0.6039\n",
      "Epoch 29 Batch 1950 Loss 1.8937 Accuracy 0.6039\n",
      "Epoch 29 Batch 2000 Loss 1.8944 Accuracy 0.6038\n",
      "Epoch 29 Batch 2050 Loss 1.8948 Accuracy 0.6037\n",
      "Epoch 29 Batch 2100 Loss 1.8944 Accuracy 0.6038\n",
      "Epoch 29 Batch 2150 Loss 1.8944 Accuracy 0.6038\n",
      "Epoch 29 Batch 2200 Loss 1.8946 Accuracy 0.6037\n",
      "Epoch 29 Batch 2250 Loss 1.8945 Accuracy 0.6038\n",
      "Epoch 29 Batch 2300 Loss 1.8948 Accuracy 0.6037\n",
      "Epoch 29 Batch 2350 Loss 1.8943 Accuracy 0.6038\n",
      "Epoch 29 Batch 2400 Loss 1.8949 Accuracy 0.6037\n",
      "Epoch 29 Batch 2450 Loss 1.8947 Accuracy 0.6037\n",
      "Epoch 29 Batch 2500 Loss 1.8947 Accuracy 0.6037\n",
      "Epoch 29 Batch 2550 Loss 1.8951 Accuracy 0.6037\n",
      "Epoch 29 Batch 2600 Loss 1.8953 Accuracy 0.6037\n",
      "Epoch 29 Loss 1.8953 Accuracy 0.6036\n",
      "Time taken for 1 epoch: 179.61391615867615 secs\n",
      "\n",
      "Epoch 30 Batch 0 Loss 1.9993 Accuracy 0.5824\n",
      "Epoch 30 Batch 50 Loss 1.8968 Accuracy 0.6023\n",
      "Epoch 30 Batch 100 Loss 1.8741 Accuracy 0.6068\n",
      "Epoch 30 Batch 150 Loss 1.8745 Accuracy 0.6073\n",
      "Epoch 30 Batch 200 Loss 1.8787 Accuracy 0.6064\n",
      "Epoch 30 Batch 250 Loss 1.8775 Accuracy 0.6061\n",
      "Epoch 30 Batch 300 Loss 1.8801 Accuracy 0.6057\n",
      "Epoch 30 Batch 350 Loss 1.8808 Accuracy 0.6057\n",
      "Epoch 30 Batch 400 Loss 1.8851 Accuracy 0.6046\n",
      "Epoch 30 Batch 450 Loss 1.8848 Accuracy 0.6046\n",
      "Epoch 30 Batch 500 Loss 1.8854 Accuracy 0.6046\n",
      "Epoch 30 Batch 550 Loss 1.8842 Accuracy 0.6046\n",
      "Epoch 30 Batch 600 Loss 1.8816 Accuracy 0.6050\n",
      "Epoch 30 Batch 650 Loss 1.8829 Accuracy 0.6050\n",
      "Epoch 30 Batch 700 Loss 1.8833 Accuracy 0.6049\n",
      "Epoch 30 Batch 750 Loss 1.8822 Accuracy 0.6050\n",
      "Epoch 30 Batch 800 Loss 1.8820 Accuracy 0.6051\n",
      "Epoch 30 Batch 850 Loss 1.8832 Accuracy 0.6050\n",
      "Epoch 30 Batch 900 Loss 1.8834 Accuracy 0.6051\n",
      "Epoch 30 Batch 950 Loss 1.8846 Accuracy 0.6050\n",
      "Epoch 30 Batch 1000 Loss 1.8846 Accuracy 0.6051\n",
      "Epoch 30 Batch 1050 Loss 1.8852 Accuracy 0.6050\n",
      "Epoch 30 Batch 1100 Loss 1.8847 Accuracy 0.6050\n",
      "Epoch 30 Batch 1150 Loss 1.8854 Accuracy 0.6049\n",
      "Epoch 30 Batch 1200 Loss 1.8860 Accuracy 0.6049\n",
      "Epoch 30 Batch 1250 Loss 1.8862 Accuracy 0.6049\n",
      "Epoch 30 Batch 1300 Loss 1.8862 Accuracy 0.6048\n",
      "Epoch 30 Batch 1350 Loss 1.8859 Accuracy 0.6049\n",
      "Epoch 30 Batch 1400 Loss 1.8856 Accuracy 0.6050\n",
      "Epoch 30 Batch 1450 Loss 1.8857 Accuracy 0.6051\n",
      "Epoch 30 Batch 1500 Loss 1.8853 Accuracy 0.6051\n",
      "Epoch 30 Batch 1550 Loss 1.8852 Accuracy 0.6051\n",
      "Epoch 30 Batch 1600 Loss 1.8854 Accuracy 0.6051\n",
      "Epoch 30 Batch 1650 Loss 1.8859 Accuracy 0.6051\n",
      "Epoch 30 Batch 1700 Loss 1.8860 Accuracy 0.6050\n",
      "Epoch 30 Batch 1750 Loss 1.8853 Accuracy 0.6050\n",
      "Epoch 30 Batch 1800 Loss 1.8857 Accuracy 0.6050\n",
      "Epoch 30 Batch 1850 Loss 1.8852 Accuracy 0.6051\n",
      "Epoch 30 Batch 1900 Loss 1.8849 Accuracy 0.6051\n",
      "Epoch 30 Batch 1950 Loss 1.8847 Accuracy 0.6051\n",
      "Epoch 30 Batch 2000 Loss 1.8845 Accuracy 0.6052\n",
      "Epoch 30 Batch 2050 Loss 1.8846 Accuracy 0.6052\n",
      "Epoch 30 Batch 2100 Loss 1.8847 Accuracy 0.6052\n",
      "Epoch 30 Batch 2150 Loss 1.8853 Accuracy 0.6051\n",
      "Epoch 30 Batch 2200 Loss 1.8856 Accuracy 0.6051\n",
      "Epoch 30 Batch 2250 Loss 1.8859 Accuracy 0.6050\n",
      "Epoch 30 Batch 2300 Loss 1.8865 Accuracy 0.6049\n",
      "Epoch 30 Batch 2350 Loss 1.8870 Accuracy 0.6048\n",
      "Epoch 30 Batch 2400 Loss 1.8871 Accuracy 0.6048\n",
      "Epoch 30 Batch 2450 Loss 1.8873 Accuracy 0.6048\n",
      "Epoch 30 Batch 2500 Loss 1.8873 Accuracy 0.6048\n",
      "Epoch 30 Batch 2550 Loss 1.8870 Accuracy 0.6049\n",
      "Epoch 30 Batch 2600 Loss 1.8868 Accuracy 0.6049\n",
      "Saving checkpoint for epoch 30 at ./checkpoints/train/ckpt-6\n",
      "Epoch 30 Loss 1.8869 Accuracy 0.6049\n",
      "Time taken for 1 epoch: 181.0542197227478 secs\n",
      "\n"
     ]
    }
   ],
   "source": [
    "for epoch in range(EPOCHS):\n",
    "  start = time.time()\n",
    "  \n",
    "  train_loss.reset_states()\n",
    "  train_accuracy.reset_states()\n",
    "  \n",
    "  # inp -> portuguese, tar -> english\n",
    "  for (batch, (inp, tar)) in enumerate(train_dataset):\n",
    "    train_step(inp, tar)\n",
    "    \n",
    "    if batch % 50 == 0:\n",
    "      print ('Epoch {} Batch {} Loss {:.4f} Accuracy {:.4f}'.format(\n",
    "          epoch + 1, batch, train_loss.result(), train_accuracy.result()))\n",
    "      \n",
    "  if (epoch + 1) % 5 == 0:\n",
    "    ckpt_save_path = ckpt_manager.save()\n",
    "    print ('Saving checkpoint for epoch {} at {}'.format(epoch+1,\n",
    "                                                         ckpt_save_path))\n",
    "    \n",
    "  print ('Epoch {} Loss {:.4f} Accuracy {:.4f}'.format(epoch + 1, \n",
    "                                                train_loss.result(), \n",
    "                                                train_accuracy.result()))\n",
    "\n",
    "  print ('Time taken for 1 epoch: {} secs\\n'.format(time.time() - start))"
   ]
  },
  {
   "cell_type": "markdown",
   "metadata": {
    "id": "QfcsSWswSdGV"
   },
   "source": [
    "## Evaluate"
   ]
  },
  {
   "cell_type": "markdown",
   "metadata": {
    "id": "y6APsFrgImLW"
   },
   "source": [
    "Для оценки используются следующие шаги:\n",
    "\n",
    "Закодируйте входное предложение с помощью русского токенизатора ( tokenizer_pt ). Кроме того, добавьте начальный и конечный токены, чтобы ввод был эквивалентен тому, с чем обучается модель. Это вход энкодера.\n",
    "Вход декодера - это start token == tokenizer_en.vocab_size .\n",
    "Рассчитайте маски заполнения и маски прогнозирования.\n",
    "Затем decoder выводит прогнозы, глядя на encoder output и собственные выходные данные (самовнимание).\n",
    "Выберите последнее слово и вычислите его argmax.\n",
    "Конкатентируйте предсказанное слово на вход декодера при передаче его в декодер.\n",
    "В этом подходе декодер предсказывает следующее слово на основе предсказанных им предыдущих слов.\n"
   ]
  },
  {
   "cell_type": "code",
   "execution_count": null,
   "metadata": {
    "id": "5buvMlnvyrFm"
   },
   "outputs": [],
   "source": [
    "def evaluate(inp_sentence):\n",
    "  start_token = [tokenizer_ru.vocab_size]\n",
    "  end_token = [tokenizer_ru.vocab_size + 1]\n",
    "  \n",
    "  # inp sentence is portuguese, hence adding the start and end token\n",
    "  inp_sentence = start_token + tokenizer_ru.encode(inp_sentence) + end_token\n",
    "  encoder_input = tf.expand_dims(inp_sentence, 0)\n",
    "  \n",
    "  # as the target is english, the first word to the transformer should be the\n",
    "  # english start token.\n",
    "  decoder_input = [tokenizer_en.vocab_size]\n",
    "  output = tf.expand_dims(decoder_input, 0)\n",
    "    \n",
    "  for i in range(MAX_LENGTH):\n",
    "    enc_padding_mask, combined_mask, dec_padding_mask = create_masks(\n",
    "        encoder_input, output)\n",
    "  \n",
    "    # predictions.shape == (batch_size, seq_len, vocab_size)\n",
    "    predictions, attention_weights = transformer(encoder_input, \n",
    "                                                 output,\n",
    "                                                 False,\n",
    "                                                 enc_padding_mask,\n",
    "                                                 combined_mask,\n",
    "                                                 dec_padding_mask)\n",
    "    \n",
    "    # select the last word from the seq_len dimension\n",
    "    predictions = predictions[: ,-1:, :]  # (batch_size, 1, vocab_size)\n",
    "\n",
    "    predicted_id = tf.cast(tf.argmax(predictions, axis=-1), tf.int32)\n",
    "    \n",
    "    # return the result if the predicted_id is equal to the end token\n",
    "    if predicted_id == tokenizer_en.vocab_size+1:\n",
    "      return tf.squeeze(output, axis=0), attention_weights\n",
    "    \n",
    "    # concatentate the predicted_id to the output which is given to the decoder\n",
    "    # as its input.\n",
    "    output = tf.concat([output, predicted_id], axis=-1)\n",
    "\n",
    "  return tf.squeeze(output, axis=0), attention_weights"
   ]
  },
  {
   "cell_type": "code",
   "execution_count": null,
   "metadata": {
    "id": "CN-BV43FMBej"
   },
   "outputs": [],
   "source": [
    "def plot_attention_weights(attention, sentence, result, layer):\n",
    "  fig = plt.figure(figsize=(16, 8))\n",
    "  \n",
    "  sentence = tokenizer_ru.encode(sentence)\n",
    "  \n",
    "  attention = tf.squeeze(attention[layer], axis=0)\n",
    "  \n",
    "  for head in range(attention.shape[0]):\n",
    "    ax = fig.add_subplot(2, 4, head+1)\n",
    "    \n",
    "    # plot the attention weights\n",
    "    ax.matshow(attention[head][:-1, :], cmap='viridis')\n",
    "\n",
    "    fontdict = {'fontsize': 10}\n",
    "    \n",
    "    ax.set_xticks(range(len(sentence)+2))\n",
    "    ax.set_yticks(range(len(result)))\n",
    "    \n",
    "    ax.set_ylim(len(result)-1.5, -0.5)\n",
    "        \n",
    "    ax.set_xticklabels(\n",
    "        ['<start>']+[tokenizer_ru.decode([i]) for i in sentence]+['<end>'], \n",
    "        fontdict=fontdict, rotation=90)\n",
    "    \n",
    "    ax.set_yticklabels([tokenizer_en.decode([i]) for i in result \n",
    "                        if i < tokenizer_en.vocab_size], \n",
    "                       fontdict=fontdict)\n",
    "    \n",
    "    ax.set_xlabel('Head {}'.format(head+1))\n",
    "  \n",
    "  plt.tight_layout()\n",
    "  plt.show()"
   ]
  },
  {
   "cell_type": "code",
   "execution_count": null,
   "metadata": {
    "id": "lU2_yG_vBGza"
   },
   "outputs": [],
   "source": [
    "def translate(sentence, plot='decoder_layer4_block2'):\n",
    "  result, attention_weights = evaluate(sentence)\n",
    "  # print(attention_weights)\n",
    "  \n",
    "  predicted_sentence = tokenizer_en.decode([i for i in result \n",
    "                                            if i < tokenizer_en.vocab_size])  \n",
    "\n",
    "  print('Input: {}'.format(sentence))\n",
    "  print('Predicted translation: {}'.format(predicted_sentence))\n",
    "  \n",
    "  if plot:\n",
    "    plot_attention_weights(attention_weights, sentence, result, plot)"
   ]
  },
  {
   "cell_type": "markdown",
   "metadata": {
    "id": "C5m_4DBHaV7-"
   },
   "source": [
    "После 15-ти эпох"
   ]
  },
  {
   "cell_type": "code",
   "execution_count": null,
   "metadata": {
    "colab": {
     "base_uri": "https://localhost:8080/"
    },
    "id": "QHzndZ1xNHKn",
    "outputId": "074e9820-d3b7-49ea-e18e-d5d0a09c2765"
   },
   "outputs": [
    {
     "name": "stdout",
     "output_type": "stream",
     "text": [
      "Input: Осенним вечером шёл дождь!\n",
      "Predicted translation: the eyeball is rained at night .\n"
     ]
    }
   ],
   "source": [
    "translate('Осенним вечером шёл дождь!')"
   ]
  },
  {
   "cell_type": "code",
   "execution_count": null,
   "metadata": {
    "colab": {
     "base_uri": "https://localhost:8080/"
    },
    "id": "oAMWA3xvCuDi",
    "outputId": "aca0a9f2-29fe-411c-ceef-fa80b0725801"
   },
   "outputs": [
    {
     "name": "stdout",
     "output_type": "stream",
     "text": [
      "Input: он собирается домой\n",
      "Predicted translation: he 's going to come home .\n"
     ]
    }
   ],
   "source": [
    "translate('он собирается домой')"
   ]
  },
  {
   "cell_type": "markdown",
   "metadata": {
    "id": "m_QhGu_BlhGu"
   },
   "source": [
    "После 30 эпох"
   ]
  },
  {
   "cell_type": "code",
   "execution_count": null,
   "metadata": {
    "colab": {
     "base_uri": "https://localhost:8080/",
     "height": 539
    },
    "id": "vVDReCSWh9ky",
    "outputId": "b1b85fb5-a97a-4f3b-c213-b01671538853"
   },
   "outputs": [
    {
     "name": "stdout",
     "output_type": "stream",
     "text": [
      "Input: Осенним вечером шёл дождь!\n",
      "Predicted translation: it was a rained evening rain .\n"
     ]
    },
    {
     "data": {
      "image/png": "[encoded data removed]",
      "text/plain": [
       "<Figure size 1152x576 with 8 Axes>"
      ]
     },
     "metadata": {
      "needs_background": "light"
     },
     "output_type": "display_data"
    }
   ],
   "source": [
    "translate('Осенним вечером шёл дождь!')"
   ]
  },
  {
   "cell_type": "code",
   "execution_count": null,
   "metadata": {
    "colab": {
     "base_uri": "https://localhost:8080/",
     "height": 600
    },
    "id": "jtDIiLQTh9kz",
    "outputId": "ce179e9a-4060-420d-81d1-1a758ea43e43"
   },
   "outputs": [
    {
     "name": "stdout",
     "output_type": "stream",
     "text": [
      "Input: он собирается домой\n",
      "Predicted translation: he 's going home .\n"
     ]
    },
    {
     "data": {
      "image/png": "[encoded data removed]",
      "text/plain": [
       "<Figure size 1152x576 with 8 Axes>"
      ]
     },
     "metadata": {
      "needs_background": "light"
     },
     "output_type": "display_data"
    }
   ],
   "source": [
    "translate('он собирается домой')"
   ]
  }
 ],
 "metadata": {
  "accelerator": "GPU",
  "colab": {
   "provenance": []
  },
  "gpuClass": "standard",
  "kernelspec": {
   "display_name": "Python 3 (ipykernel)",
   "language": "python",
   "name": "python3"
  },
  "language_info": {
   "codemirror_mode": {
    "name": "ipython",
    "version": 3
   },
   "file_extension": ".py",
   "mimetype": "text/x-python",
   "name": "python",
   "nbconvert_exporter": "python",
   "pygments_lexer": "ipython3",
   "version": "3.9.15"
  }
 },
 "nbformat": 4,
 "nbformat_minor": 1
}
