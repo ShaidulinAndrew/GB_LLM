{
 "cells": [
  {
   "cell_type": "markdown",
   "metadata": {
    "id": "4sbtjVDVvSzO"
   },
   "source": [
    "## ДЗ  \n",
    "Разобраться с моделькой перевода (без механизма внимания) как она устроена, запустить для перевода с русского на английский (при желании можно взять другие пары языков)"
   ]
  },
  {
   "cell_type": "markdown",
   "metadata": {
    "id": "J0Qjg6vuaHNt"
   },
   "source": [
    "# Neural machine translation"
   ]
  },
  {
   "cell_type": "code",
   "execution_count": null,
   "metadata": {
    "id": "tnxXKDjq3jEL"
   },
   "outputs": [],
   "source": [
    "import tensorflow as tf\n",
    "\n",
    "import matplotlib.pyplot as plt\n",
    "import matplotlib.ticker as ticker\n",
    "from sklearn.model_selection import train_test_split\n",
    "\n",
    "import unicodedata\n",
    "import re\n",
    "import numpy as np\n",
    "import os\n",
    "import io\n",
    "import time"
   ]
  },
  {
   "cell_type": "markdown",
   "metadata": {
    "id": "wfodePkj3jEa"
   },
   "source": [
    "## Download and prepare the dataset\n",
    "\n",
    "We'll use a language dataset provided by http://www.manythings.org/anki/"
   ]
  },
  {
   "cell_type": "code",
   "execution_count": null,
   "metadata": {
    "colab": {
     "base_uri": "https://localhost:8080/"
    },
    "id": "CNvjhDyAKk3U",
    "outputId": "3720371a-af06-4ffe-8aa7-6d79e897420d"
   },
   "outputs": [
    {
     "name": "stdout",
     "output_type": "stream",
     "text": [
      "--2023-02-15 05:07:07--  http://www.manythings.org/anki/rus-eng.zip\n",
      "Resolving www.manythings.org (www.manythings.org)... 173.254.30.110\n",
      "Connecting to www.manythings.org (www.manythings.org)|173.254.30.110|:80... connected.\n",
      "HTTP request sent, awaiting response... 200 OK\n",
      "Length: 15011848 (14M) [application/zip]\n",
      "Saving to: ‘rus-eng.zip’\n",
      "\n",
      "rus-eng.zip         100%[===================>]  14.32M  18.3MB/s    in 0.8s    \n",
      "\n",
      "2023-02-15 05:07:08 (18.3 MB/s) - ‘rus-eng.zip’ saved [15011848/15011848]\n",
      "\n"
     ]
    }
   ],
   "source": [
    "!wget http://www.manythings.org/anki/rus-eng.zip"
   ]
  },
  {
   "cell_type": "code",
   "execution_count": null,
   "metadata": {
    "colab": {
     "base_uri": "https://localhost:8080/"
    },
    "id": "83bg17Lr-7XK",
    "outputId": "7b0c5a3c-b635-41f7-e73e-e9a991ebea95"
   },
   "outputs": [
    {
     "name": "stdout",
     "output_type": "stream",
     "text": [
      "Archive:  rus-eng.zip\n",
      "  inflating: rus-eng/rus.txt         \n",
      "  inflating: rus-eng/_about.txt      \n"
     ]
    }
   ],
   "source": [
    "!mkdir rus-eng\n",
    "!unzip rus-eng.zip -d rus-eng/"
   ]
  },
  {
   "cell_type": "code",
   "execution_count": null,
   "metadata": {
    "colab": {
     "base_uri": "https://localhost:8080/"
    },
    "id": "7o5L92efMMhf",
    "outputId": "c78c5106-dcf1-41de-bbb0-504ff3d4e26f"
   },
   "outputs": [
    {
     "name": "stdout",
     "output_type": "stream",
     "text": [
      "total 72M\n",
      "drwxr-xr-x 2 root root 4.0K Feb 15 05:07 .\n",
      "drwxr-xr-x 1 root root 4.0K Feb 15 05:07 ..\n",
      "-rw-r--r-- 1 root root 1.5K Sep  6 03:10 _about.txt\n",
      "-rw-r--r-- 1 root root  72M Sep  6 03:10 rus.txt\n"
     ]
    }
   ],
   "source": [
    "!ls /content/rus-eng/ -lah"
   ]
  },
  {
   "cell_type": "code",
   "execution_count": null,
   "metadata": {
    "id": "kRVATYOgJs1b"
   },
   "outputs": [],
   "source": [
    "# Download the file\n",
    "path_to_file = \"/content/rus-eng/rus.txt\""
   ]
  },
  {
   "cell_type": "code",
   "execution_count": null,
   "metadata": {
    "id": "rd0jw-eC3jEh"
   },
   "outputs": [],
   "source": [
    "def preprocess_sentence(w):\n",
    "  w = w.lower().strip()\n",
    "\n",
    "  # creating a space between a word and the punctuation following it\n",
    "  # eg: \"he is a boy.\" => \"he is a boy .\"\n",
    "  # Reference:- https://stackoverflow.com/questions/3645931/python-padding-punctuation-with-white-spaces-keeping-punctuation\n",
    "  w = re.sub(r\"([?.!,])\", r\" \\1 \", w)\n",
    "  w = re.sub(r'[\" \"]+', \" \", w)\n",
    "\n",
    "  # replacing everything with space except (a-z, A-Z, \".\", \"?\", \"!\", \",\")\n",
    "  w = re.sub(r\"[^a-zA-Zа-яА-Я?.!,']+\", \" \", w)\n",
    "\n",
    "  w = w.strip()\n",
    "\n",
    "  # adding a start and an end token to the sentence\n",
    "  # so that the model know when to start and stop predicting.\n",
    "  w = '<start> ' + w + ' <end>'\n",
    "  return w"
   ]
  },
  {
   "cell_type": "code",
   "execution_count": null,
   "metadata": {
    "colab": {
     "base_uri": "https://localhost:8080/",
     "height": 36
    },
    "id": "yV9lZXQXNbnH",
    "outputId": "94d4631a-3aab-4c70-86dd-3fafe55d9bd5"
   },
   "outputs": [
    {
     "data": {
      "application/vnd.google.colaboratory.intrinsic+json": {
       "type": "string"
      },
      "text/plain": [
       "\"<start> i can't go . <end>\""
      ]
     },
     "execution_count": 6,
     "metadata": {},
     "output_type": "execute_result"
    }
   ],
   "source": [
    "preprocess_sentence(\"I can't go.\")"
   ]
  },
  {
   "cell_type": "code",
   "execution_count": null,
   "metadata": {
    "id": "OHn4Dct23jEm"
   },
   "outputs": [],
   "source": [
    "# 1. Remove the accents\n",
    "# 2. Clean the sentences\n",
    "# 3. Return word pairs in the format: [ENG, RUS]\n",
    "def create_dataset(path, num_examples):\n",
    "  lines = io.open(path, encoding='UTF-8').read().strip().split('\\n')\n",
    "\n",
    "  word_pairs = [[preprocess_sentence(w) for w in l.split('\\t')[:2]]  for l in lines[:num_examples]]\n",
    "\n",
    "  return zip(*word_pairs)"
   ]
  },
  {
   "cell_type": "code",
   "execution_count": null,
   "metadata": {
    "colab": {
     "base_uri": "https://localhost:8080/"
    },
    "id": "cTbSbBz55QtF",
    "outputId": "f4afb29e-3c2c-4514-8ca7-3a53e59a2149"
   },
   "outputs": [
    {
     "name": "stdout",
     "output_type": "stream",
     "text": [
      "<start> go . <end>\n",
      "<start> марш ! <end>\n"
     ]
    }
   ],
   "source": [
    "en, ru = create_dataset(path_to_file, None)\n",
    "print(en[0])\n",
    "print(ru[0])"
   ]
  },
  {
   "cell_type": "code",
   "execution_count": null,
   "metadata": {
    "id": "bIOn8RCNDJXG"
   },
   "outputs": [],
   "source": [
    "def tokenize(lang):\n",
    "  lang_tokenizer = tf.keras.preprocessing.text.Tokenizer(\n",
    "      filters='')\n",
    "  lang_tokenizer.fit_on_texts(lang)\n",
    "\n",
    "  tensor = lang_tokenizer.texts_to_sequences(lang)\n",
    "\n",
    "  tensor = tf.keras.preprocessing.sequence.pad_sequences(tensor,\n",
    "                                                         padding='post')\n",
    "\n",
    "  return tensor, lang_tokenizer"
   ]
  },
  {
   "cell_type": "code",
   "execution_count": null,
   "metadata": {
    "id": "eAY9k49G3jE_"
   },
   "outputs": [],
   "source": [
    "def load_dataset(path, num_examples=None):\n",
    "  # creating cleaned input, output pairs\n",
    "  targ_lang, inp_lang = create_dataset(path, num_examples)\n",
    "\n",
    "  input_tensor, inp_lang_tokenizer = tokenize(inp_lang)\n",
    "  target_tensor, targ_lang_tokenizer = tokenize(targ_lang)\n",
    "\n",
    "  return input_tensor, target_tensor, inp_lang_tokenizer, targ_lang_tokenizer"
   ]
  },
  {
   "cell_type": "markdown",
   "metadata": {
    "id": "GOi42V79Ydlr"
   },
   "source": [
    "### Limit the size of the dataset to experiment faster (optional)\n"
   ]
  },
  {
   "cell_type": "code",
   "execution_count": null,
   "metadata": {
    "colab": {
     "base_uri": "https://localhost:8080/"
    },
    "id": "C8j9g9AnIeZV",
    "outputId": "2636bf07-32de-40d8-eae2-1c134e7a3b9e"
   },
   "outputs": [
    {
     "data": {
      "text/plain": [
       "(451436, 451436)"
      ]
     },
     "execution_count": 14,
     "metadata": {},
     "output_type": "execute_result"
    }
   ],
   "source": [
    "len(en), len(ru)"
   ]
  },
  {
   "cell_type": "code",
   "execution_count": null,
   "metadata": {
    "id": "cnxC7q-j3jFD"
   },
   "outputs": [],
   "source": [
    "# Try experimenting with the size of that dataset\n",
    "num_examples = 100000\n",
    "input_tensor, target_tensor, inp_lang, targ_lang = load_dataset(path_to_file, num_examples)\n",
    "\n",
    "# Calculate max_length of the target tensors\n",
    "max_length_targ, max_length_inp = target_tensor.shape[1], input_tensor.shape[1]"
   ]
  },
  {
   "cell_type": "code",
   "execution_count": null,
   "metadata": {
    "colab": {
     "base_uri": "https://localhost:8080/"
    },
    "id": "4QILQkOs3jFG",
    "outputId": "ea3e3574-eec6-43a7-8883-b6294cccc87c"
   },
   "outputs": [
    {
     "name": "stdout",
     "output_type": "stream",
     "text": [
      "80000 80000 20000 20000\n"
     ]
    }
   ],
   "source": [
    "# Creating training and validation sets using an 80-20 split\n",
    "input_tensor_train, input_tensor_val, target_tensor_train, target_tensor_val = train_test_split(input_tensor, target_tensor, test_size=0.2)\n",
    "\n",
    "# Show length\n",
    "print(len(input_tensor_train), len(target_tensor_train), len(input_tensor_val), len(target_tensor_val))"
   ]
  },
  {
   "cell_type": "code",
   "execution_count": null,
   "metadata": {
    "id": "lJPmLZGMeD5q"
   },
   "outputs": [],
   "source": [
    "def convert(lang, tensor):\n",
    "  for t in tensor:\n",
    "    if t!=0:\n",
    "      print (\"%d ----> %s\" % (t, lang.index_word[t]))"
   ]
  },
  {
   "cell_type": "code",
   "execution_count": null,
   "metadata": {
    "colab": {
     "base_uri": "https://localhost:8080/"
    },
    "id": "VXukARTDd7MT",
    "outputId": "4ddf254e-b67a-4d5a-b34e-16ad63377580"
   },
   "outputs": [
    {
     "name": "stdout",
     "output_type": "stream",
     "text": [
      "Input Language; index to word mapping\n",
      "1 ----> <start>\n",
      "4 ----> я\n",
      "12552 ----> влиятельный\n",
      "3 ----> .\n",
      "2 ----> <end>\n",
      "\n",
      "Target Language; index to word mapping\n",
      "1 ----> <start>\n",
      "13 ----> i'm\n",
      "1620 ----> powerful\n",
      "3 ----> .\n",
      "2 ----> <end>\n"
     ]
    }
   ],
   "source": [
    "print (\"Input Language; index to word mapping\")\n",
    "convert(inp_lang, input_tensor_train[0])\n",
    "print ()\n",
    "print (\"Target Language; index to word mapping\")\n",
    "convert(targ_lang, target_tensor_train[0])"
   ]
  },
  {
   "cell_type": "markdown",
   "metadata": {
    "id": "rgCLkfv5uO3d"
   },
   "source": [
    "### Create a tf.data dataset"
   ]
  },
  {
   "cell_type": "code",
   "execution_count": null,
   "metadata": {
    "id": "TqHsArVZ3jFS"
   },
   "outputs": [],
   "source": [
    "BUFFER_SIZE = len(input_tensor_train)\n",
    "BATCH_SIZE = 64\n",
    "steps_per_epoch = len(input_tensor_train)//BATCH_SIZE\n",
    "embedding_dim = 300\n",
    "units = 1024\n",
    "vocab_inp_size = len(inp_lang.word_index)+1\n",
    "vocab_tar_size = len(targ_lang.word_index)+1\n",
    "\n",
    "dataset = tf.data.Dataset.from_tensor_slices((input_tensor_train, target_tensor_train)).shuffle(BUFFER_SIZE)\n",
    "dataset = dataset.batch(BATCH_SIZE, drop_remainder=True)"
   ]
  },
  {
   "cell_type": "code",
   "execution_count": null,
   "metadata": {
    "colab": {
     "base_uri": "https://localhost:8080/"
    },
    "id": "qc6-NK1GtWQt",
    "outputId": "f34f644b-c3d5-4a5d-f7a9-7587a9b21c1b"
   },
   "outputs": [
    {
     "data": {
      "text/plain": [
       "(TensorShape([64, 15]), TensorShape([64, 11]))"
      ]
     },
     "execution_count": 20,
     "metadata": {},
     "output_type": "execute_result"
    }
   ],
   "source": [
    "example_input_batch, example_target_batch = next(iter(dataset))\n",
    "example_input_batch.shape, example_target_batch.shape"
   ]
  },
  {
   "cell_type": "markdown",
   "metadata": {
    "id": "68zZxRZCveW5"
   },
   "source": [
    "**Для эксперимента возьму двунаправленный слой GRU**"
   ]
  },
  {
   "cell_type": "code",
   "execution_count": null,
   "metadata": {
    "id": "x3EfyzA6glQm"
   },
   "outputs": [],
   "source": [
    "from keras.layers import GRU, Concatenate"
   ]
  },
  {
   "cell_type": "code",
   "execution_count": null,
   "metadata": {
    "id": "nZ2rI24i3jFg"
   },
   "outputs": [],
   "source": [
    "class Encoder(tf.keras.Model):\n",
    "  def __init__(self, vocab_size, embedding_dim, enc_units, batch_sz):\n",
    "    super(Encoder, self).__init__()\n",
    "    self.batch_sz = batch_sz\n",
    "    self.enc_units = enc_units\n",
    "    self.embedding = tf.keras.layers.Embedding(vocab_size, embedding_dim)\n",
    "    self.gru = tf.keras.layers.Bidirectional(GRU(self.enc_units,\n",
    "                                   return_sequences=False,\n",
    "                                   return_state=True,\n",
    "                                   recurrent_initializer='glorot_uniform'))\n",
    "    \n",
    "\n",
    "  def call(self, x, hidden):\n",
    "    x = self.embedding(x)\n",
    "    output, state_frw, state_bcw = self.gru(x, initial_state = hidden)\n",
    "    return state_frw, state_bcw\n",
    "\n",
    "  # def initialize_hidden_state(self):\n",
    "  #   return tf.zeros((self.batch_sz, self.enc_units))\n",
    "\n",
    "  def initialize_hidden_state(self):\n",
    "      return [tf.zeros((self.batch_sz, self.enc_units)) for i in range(2)]"
   ]
  },
  {
   "cell_type": "code",
   "execution_count": null,
   "metadata": {
    "colab": {
     "base_uri": "https://localhost:8080/"
    },
    "id": "vKHA_t1KkZkV",
    "outputId": "ecc45dc6-5d8b-4ebb-8c48-579f35262a4d"
   },
   "outputs": [
    {
     "name": "stdout",
     "output_type": "stream",
     "text": [
      "Encoder forward_h shape: (batch size, units) (64, 1024)\n",
      "Encoder backward_h shape: (batch size, units) (64, 1024)\n"
     ]
    }
   ],
   "source": [
    "encoder = Encoder(vocab_inp_size, embedding_dim, units, BATCH_SIZE)\n",
    "# sample input\n",
    "encoder = Encoder(vocab_inp_size, embedding_dim, units, BATCH_SIZE)\n",
    "sample_hidden = encoder.initialize_hidden_state()\n",
    "forward_hidden, backward_hidden = encoder(example_input_batch, sample_hidden)\n",
    "print('Encoder forward_h shape: (batch size, units) {}'.format(forward_hidden.shape))\n",
    "print('Encoder backward_h shape: (batch size, units) {}'.format(backward_hidden.shape))\n"
   ]
  },
  {
   "cell_type": "code",
   "execution_count": null,
   "metadata": {
    "id": "yJ_B3mhW3jFk"
   },
   "outputs": [],
   "source": [
    "class Decoder(tf.keras.Model):\n",
    "  def __init__(self, vocab_size, embedding_dim, dec_units, batch_sz):\n",
    "    super(Decoder, self).__init__()\n",
    "    self.batch_sz = batch_sz\n",
    "    self.dec_units = dec_units\n",
    "    self.embedding = tf.keras.layers.Embedding(vocab_size, embedding_dim)\n",
    "    self.gru = tf.keras.layers.GRU(2*self.dec_units,\n",
    "                                   return_sequences=True,\n",
    "                                   return_state=True,\n",
    "                                   recurrent_initializer='glorot_uniform')\n",
    "    self.fc = tf.keras.layers.Dense(vocab_size)\n",
    "\n",
    "  def call(self, x, encoder_fwd_state, encoder_back_state):\n",
    "    # enc_output shape == (batch_size, max_length, hidden_size)\n",
    "\n",
    "    # x shape after passing through embedding == (batch_size, 1, embedding_dim)\n",
    "    x = self.embedding(x)\n",
    "\n",
    "    # x shape after concatenation == (batch_size, 1, embedding_dim + hidden_size)\n",
    "\n",
    "    # passing the concatenated vector to the GRU\n",
    "    output, state = self.gru(x, initial_state=Concatenate(axis=-1)([encoder_fwd_state, encoder_back_state]))\n",
    "\n",
    "    # output shape == (batch_size * 1, hidden_size)\n",
    "    output = tf.reshape(output, (-1, output.shape[2]))\n",
    "\n",
    "    # output shape == (batch_size, vocab)\n",
    "    x = self.fc(output)\n",
    "\n",
    "    return x, state"
   ]
  },
  {
   "cell_type": "code",
   "execution_count": null,
   "metadata": {
    "id": "P5UY8wko3jFp"
   },
   "outputs": [],
   "source": [
    "decoder = Decoder(vocab_tar_size, embedding_dim, units, BATCH_SIZE)\n",
    "\n",
    "decoder_sample_x, decoder_sample_h = decoder(tf.random.uniform((BATCH_SIZE, 1)),\n",
    "                                      forward_hidden, backward_hidden)"
   ]
  },
  {
   "cell_type": "code",
   "execution_count": null,
   "metadata": {
    "colab": {
     "base_uri": "https://localhost:8080/"
    },
    "id": "XKcypC0AGeLR",
    "outputId": "c8116e1c-731e-4c62-91c3-0b7553a567e4"
   },
   "outputs": [
    {
     "data": {
      "text/plain": [
       "TensorShape([64, 7335])"
      ]
     },
     "execution_count": 48,
     "metadata": {},
     "output_type": "execute_result"
    }
   ],
   "source": [
    "decoder_sample_x.shape"
   ]
  },
  {
   "cell_type": "code",
   "execution_count": null,
   "metadata": {
    "colab": {
     "base_uri": "https://localhost:8080/"
    },
    "id": "6y0HF-zMF_vp",
    "outputId": "27f4771f-005f-4147-ef4f-3dbe54f13cb0"
   },
   "outputs": [
    {
     "data": {
      "text/plain": [
       "TensorShape([64, 2048])"
      ]
     },
     "execution_count": 49,
     "metadata": {},
     "output_type": "execute_result"
    }
   ],
   "source": [
    "decoder_sample_h.shape"
   ]
  },
  {
   "cell_type": "markdown",
   "metadata": {
    "id": "_ch_71VbIRfK"
   },
   "source": [
    "## Define the optimizer and the loss function"
   ]
  },
  {
   "cell_type": "code",
   "execution_count": null,
   "metadata": {
    "id": "WmTHr5iV3jFr"
   },
   "outputs": [],
   "source": [
    "optimizer = tf.keras.optimizers.Adam()\n",
    "\n",
    "loss_object = tf.keras.losses.SparseCategoricalCrossentropy(\n",
    "    from_logits=True, reduction='none')\n",
    "\n",
    "def loss_function(real, pred):\n",
    "  mask = tf.math.logical_not(tf.math.equal(real, 0))\n",
    "  loss_ = loss_object(real, pred)\n",
    "\n",
    "  mask = tf.cast(mask, dtype=loss_.dtype)\n",
    "  loss_ *= mask\n",
    "\n",
    "  return tf.reduce_mean(loss_)"
   ]
  },
  {
   "cell_type": "markdown",
   "metadata": {
    "id": "DMVWzzsfNl4e"
   },
   "source": [
    "## Checkpoints (Object-based saving)"
   ]
  },
  {
   "cell_type": "code",
   "execution_count": null,
   "metadata": {
    "id": "Zj8bXQTgNwrF"
   },
   "outputs": [],
   "source": [
    "checkpoint_dir = './training_nmt_checkpoints'\n",
    "\n",
    "checkpoint_prefix = os.path.join(checkpoint_dir, \"ckpt\")\n",
    "\n",
    "checkpoint = tf.train.Checkpoint(optimizer=optimizer,\n",
    "                                 encoder=encoder,\n",
    "                                 decoder=decoder)"
   ]
  },
  {
   "cell_type": "code",
   "execution_count": null,
   "metadata": {
    "id": "sC9ArXSsVfqn"
   },
   "outputs": [],
   "source": [
    "@tf.function\n",
    "def train_step(inp, targ, enc_hidden):\n",
    "  loss = 0\n",
    "\n",
    "  with tf.GradientTape() as tape:\n",
    "    enc_hidden = encoder(inp, enc_hidden)\n",
    "\n",
    "    forward_hidden, backward_hidden = enc_hidden\n",
    "\n",
    "    dec_input = tf.expand_dims([targ_lang.word_index['<start>']] * BATCH_SIZE, 1)\n",
    "\n",
    "    # Teacher forcing - feeding the target as the next input\n",
    "    for t in range(1, targ.shape[1]): # Максимальная длина последовательности \n",
    "      # passing enc_output to the decoder\n",
    "      predictions, dec_hidden = decoder(dec_input, forward_hidden, backward_hidden)\n",
    " \n",
    "      # считаем лосс по каждому предсказанному слову\n",
    "      loss += loss_function(targ[:, t], predictions)\n",
    "\n",
    "      # using teacher forcing\n",
    "      dec_input = tf.expand_dims(targ[:, t], 1)\n",
    "\n",
    "  batch_loss = (loss / int(targ.shape[1]))\n",
    "\n",
    "  variables = encoder.trainable_variables + decoder.trainable_variables\n",
    "\n",
    "  gradients = tape.gradient(loss, variables)\n",
    "\n",
    "  optimizer.apply_gradients(zip(gradients, variables))\n",
    "\n",
    "  return batch_loss"
   ]
  },
  {
   "cell_type": "code",
   "execution_count": null,
   "metadata": {
    "colab": {
     "base_uri": "https://localhost:8080/"
    },
    "id": "ddefjBMa3jF0",
    "outputId": "84eafe29-6a33-4e2c-e444-626ad27794aa"
   },
   "outputs": [
    {
     "name": "stdout",
     "output_type": "stream",
     "text": [
      "Epoch 1 Batch 0 Loss 4.5255\n",
      "Epoch 1 Batch 100 Loss 2.1444\n",
      "Epoch 1 Batch 200 Loss 1.6635\n",
      "Epoch 1 Batch 300 Loss 1.6488\n",
      "Epoch 1 Batch 400 Loss 1.4943\n",
      "Epoch 1 Batch 500 Loss 1.3813\n",
      "Epoch 1 Batch 600 Loss 1.1983\n",
      "Epoch 1 Batch 700 Loss 1.1615\n",
      "Epoch 1 Batch 800 Loss 1.1738\n",
      "Epoch 1 Batch 900 Loss 0.8610\n",
      "Epoch 1 Batch 1000 Loss 1.0091\n",
      "Epoch 1 Batch 1100 Loss 0.8219\n",
      "Epoch 1 Batch 1200 Loss 0.8925\n",
      "Epoch 1 Loss 1.3107\n",
      "Time taken for 1 epoch 150.0728461742401 sec\n",
      "\n",
      "Epoch 2 Batch 0 Loss 0.4736\n",
      "Epoch 2 Batch 100 Loss 0.6122\n",
      "Epoch 2 Batch 200 Loss 0.5422\n",
      "Epoch 2 Batch 300 Loss 0.5988\n",
      "Epoch 2 Batch 400 Loss 0.5713\n",
      "Epoch 2 Batch 500 Loss 0.5830\n",
      "Epoch 2 Batch 600 Loss 0.5696\n",
      "Epoch 2 Batch 700 Loss 0.4847\n",
      "Epoch 2 Batch 800 Loss 0.4850\n",
      "Epoch 2 Batch 900 Loss 0.6024\n",
      "Epoch 2 Batch 1000 Loss 0.3267\n",
      "Epoch 2 Batch 1100 Loss 0.5047\n",
      "Epoch 2 Batch 1200 Loss 0.4361\n",
      "Epoch 2 Loss 0.5389\n",
      "Time taken for 1 epoch 130.02197170257568 sec\n",
      "\n",
      "Epoch 3 Batch 0 Loss 0.2935\n",
      "Epoch 3 Batch 100 Loss 0.2712\n",
      "Epoch 3 Batch 200 Loss 0.3345\n",
      "Epoch 3 Batch 300 Loss 0.3565\n",
      "Epoch 3 Batch 400 Loss 0.2566\n",
      "Epoch 3 Batch 500 Loss 0.2283\n",
      "Epoch 3 Batch 600 Loss 0.3185\n",
      "Epoch 3 Batch 700 Loss 0.2232\n",
      "Epoch 3 Batch 800 Loss 0.3097\n",
      "Epoch 3 Batch 900 Loss 0.2710\n",
      "Epoch 3 Batch 1000 Loss 0.2277\n",
      "Epoch 3 Batch 1100 Loss 0.3083\n",
      "Epoch 3 Batch 1200 Loss 0.3293\n",
      "Epoch 3 Loss 0.2859\n",
      "Time taken for 1 epoch 126.98568224906921 sec\n",
      "\n",
      "Epoch 4 Batch 0 Loss 0.1466\n",
      "Epoch 4 Batch 100 Loss 0.1608\n",
      "Epoch 4 Batch 200 Loss 0.1901\n",
      "Epoch 4 Batch 300 Loss 0.1500\n",
      "Epoch 4 Batch 400 Loss 0.1706\n",
      "Epoch 4 Batch 500 Loss 0.1558\n",
      "Epoch 4 Batch 600 Loss 0.1614\n",
      "Epoch 4 Batch 700 Loss 0.2289\n",
      "Epoch 4 Batch 800 Loss 0.2508\n",
      "Epoch 4 Batch 900 Loss 0.1962\n",
      "Epoch 4 Batch 1000 Loss 0.2063\n",
      "Epoch 4 Batch 1100 Loss 0.2379\n",
      "Epoch 4 Batch 1200 Loss 0.1788\n",
      "Epoch 4 Loss 0.1825\n",
      "Time taken for 1 epoch 129.12286138534546 sec\n",
      "\n",
      "Epoch 5 Batch 0 Loss 0.1635\n",
      "Epoch 5 Batch 100 Loss 0.1297\n",
      "Epoch 5 Batch 200 Loss 0.1428\n",
      "Epoch 5 Batch 300 Loss 0.1410\n",
      "Epoch 5 Batch 400 Loss 0.0953\n",
      "Epoch 5 Batch 500 Loss 0.1440\n",
      "Epoch 5 Batch 600 Loss 0.1125\n",
      "Epoch 5 Batch 700 Loss 0.1077\n",
      "Epoch 5 Batch 800 Loss 0.2205\n",
      "Epoch 5 Batch 900 Loss 0.1533\n",
      "Epoch 5 Batch 1000 Loss 0.1791\n",
      "Epoch 5 Batch 1100 Loss 0.1452\n",
      "Epoch 5 Batch 1200 Loss 0.1559\n",
      "Epoch 5 Loss 0.1385\n",
      "Time taken for 1 epoch 127.17903089523315 sec\n",
      "\n",
      "Epoch 6 Batch 0 Loss 0.1134\n",
      "Epoch 6 Batch 100 Loss 0.0700\n",
      "Epoch 6 Batch 200 Loss 0.1227\n",
      "Epoch 6 Batch 300 Loss 0.0856\n",
      "Epoch 6 Batch 400 Loss 0.1077\n",
      "Epoch 6 Batch 500 Loss 0.0731\n",
      "Epoch 6 Batch 600 Loss 0.1257\n",
      "Epoch 6 Batch 700 Loss 0.0856\n",
      "Epoch 6 Batch 800 Loss 0.1372\n",
      "Epoch 6 Batch 900 Loss 0.1415\n",
      "Epoch 6 Batch 1000 Loss 0.1338\n",
      "Epoch 6 Batch 1100 Loss 0.1090\n",
      "Epoch 6 Batch 1200 Loss 0.1274\n",
      "Epoch 6 Loss 0.1181\n",
      "Time taken for 1 epoch 129.04954767227173 sec\n",
      "\n",
      "Epoch 7 Batch 0 Loss 0.1016\n",
      "Epoch 7 Batch 100 Loss 0.0902\n",
      "Epoch 7 Batch 200 Loss 0.0630\n",
      "Epoch 7 Batch 300 Loss 0.0880\n",
      "Epoch 7 Batch 400 Loss 0.0935\n",
      "Epoch 7 Batch 500 Loss 0.0926\n",
      "Epoch 7 Batch 600 Loss 0.1515\n",
      "Epoch 7 Batch 700 Loss 0.0963\n",
      "Epoch 7 Batch 800 Loss 0.1315\n",
      "Epoch 7 Batch 900 Loss 0.0966\n",
      "Epoch 7 Batch 1000 Loss 0.0975\n",
      "Epoch 7 Batch 1100 Loss 0.1281\n",
      "Epoch 7 Batch 1200 Loss 0.1731\n",
      "Epoch 7 Loss 0.1046\n",
      "Time taken for 1 epoch 127.23042917251587 sec\n",
      "\n",
      "Epoch 8 Batch 0 Loss 0.0802\n",
      "Epoch 8 Batch 100 Loss 0.0921\n",
      "Epoch 8 Batch 200 Loss 0.0659\n",
      "Epoch 8 Batch 300 Loss 0.0661\n",
      "Epoch 8 Batch 400 Loss 0.0648\n",
      "Epoch 8 Batch 500 Loss 0.1929\n",
      "Epoch 8 Batch 600 Loss 0.0822\n",
      "Epoch 8 Batch 700 Loss 0.1364\n",
      "Epoch 8 Batch 800 Loss 0.0873\n",
      "Epoch 8 Batch 900 Loss 0.1336\n",
      "Epoch 8 Batch 1000 Loss 0.1033\n",
      "Epoch 8 Batch 1100 Loss 0.1407\n",
      "Epoch 8 Batch 1200 Loss 0.0615\n",
      "Epoch 8 Loss 0.0966\n",
      "Time taken for 1 epoch 129.10338521003723 sec\n",
      "\n",
      "Epoch 9 Batch 0 Loss 0.0754\n",
      "Epoch 9 Batch 100 Loss 0.0954\n",
      "Epoch 9 Batch 200 Loss 0.0574\n",
      "Epoch 9 Batch 300 Loss 0.1149\n",
      "Epoch 9 Batch 400 Loss 0.1037\n",
      "Epoch 9 Batch 500 Loss 0.0597\n",
      "Epoch 9 Batch 600 Loss 0.0824\n",
      "Epoch 9 Batch 700 Loss 0.1127\n",
      "Epoch 9 Batch 800 Loss 0.0901\n",
      "Epoch 9 Batch 900 Loss 0.0736\n",
      "Epoch 9 Batch 1000 Loss 0.1583\n",
      "Epoch 9 Batch 1100 Loss 0.0657\n",
      "Epoch 9 Batch 1200 Loss 0.1077\n",
      "Epoch 9 Loss 0.0904\n",
      "Time taken for 1 epoch 127.31633615493774 sec\n",
      "\n",
      "Epoch 10 Batch 0 Loss 0.0638\n",
      "Epoch 10 Batch 100 Loss 0.0511\n",
      "Epoch 10 Batch 200 Loss 0.0743\n",
      "Epoch 10 Batch 300 Loss 0.1342\n",
      "Epoch 10 Batch 400 Loss 0.0646\n",
      "Epoch 10 Batch 500 Loss 0.0984\n",
      "Epoch 10 Batch 600 Loss 0.0758\n",
      "Epoch 10 Batch 700 Loss 0.0943\n",
      "Epoch 10 Batch 800 Loss 0.0871\n",
      "Epoch 10 Batch 900 Loss 0.0775\n",
      "Epoch 10 Batch 1000 Loss 0.0792\n",
      "Epoch 10 Batch 1100 Loss 0.0811\n",
      "Epoch 10 Batch 1200 Loss 0.1081\n",
      "Epoch 10 Loss 0.0842\n",
      "Time taken for 1 epoch 129.15295124053955 sec\n",
      "\n",
      "Epoch 11 Batch 0 Loss 0.0699\n",
      "Epoch 11 Batch 100 Loss 0.0541\n",
      "Epoch 11 Batch 200 Loss 0.0587\n",
      "Epoch 11 Batch 300 Loss 0.0555\n",
      "Epoch 11 Batch 400 Loss 0.0867\n",
      "Epoch 11 Batch 500 Loss 0.0943\n",
      "Epoch 11 Batch 600 Loss 0.0681\n",
      "Epoch 11 Batch 700 Loss 0.1063\n",
      "Epoch 11 Batch 800 Loss 0.1240\n",
      "Epoch 11 Batch 900 Loss 0.0996\n",
      "Epoch 11 Batch 1000 Loss 0.1014\n",
      "Epoch 11 Batch 1100 Loss 0.0733\n",
      "Epoch 11 Batch 1200 Loss 0.0937\n",
      "Epoch 11 Loss 0.0809\n",
      "Time taken for 1 epoch 127.05974340438843 sec\n",
      "\n",
      "Epoch 12 Batch 0 Loss 0.0776\n",
      "Epoch 12 Batch 100 Loss 0.1046\n",
      "Epoch 12 Batch 200 Loss 0.0860\n",
      "Epoch 12 Batch 300 Loss 0.0573\n",
      "Epoch 12 Batch 400 Loss 0.0532\n",
      "Epoch 12 Batch 500 Loss 0.0749\n",
      "Epoch 12 Batch 600 Loss 0.0584\n",
      "Epoch 12 Batch 700 Loss 0.0804\n",
      "Epoch 12 Batch 800 Loss 0.1098\n",
      "Epoch 12 Batch 900 Loss 0.0937\n",
      "Epoch 12 Batch 1000 Loss 0.0614\n",
      "Epoch 12 Batch 1100 Loss 0.1038\n",
      "Epoch 12 Batch 1200 Loss 0.0673\n",
      "Epoch 12 Loss 0.0769\n",
      "Time taken for 1 epoch 128.9970510005951 sec\n",
      "\n",
      "Epoch 13 Batch 0 Loss 0.0644\n",
      "Epoch 13 Batch 100 Loss 0.0782\n",
      "Epoch 13 Batch 200 Loss 0.0595\n",
      "Epoch 13 Batch 300 Loss 0.0825\n",
      "Epoch 13 Batch 400 Loss 0.0676\n",
      "Epoch 13 Batch 500 Loss 0.0535\n",
      "Epoch 13 Batch 600 Loss 0.0846\n",
      "Epoch 13 Batch 700 Loss 0.1198\n",
      "Epoch 13 Batch 800 Loss 0.0573\n",
      "Epoch 13 Batch 900 Loss 0.0860\n",
      "Epoch 13 Batch 1000 Loss 0.1141\n",
      "Epoch 13 Batch 1100 Loss 0.1377\n",
      "Epoch 13 Batch 1200 Loss 0.0970\n",
      "Epoch 13 Loss 0.0736\n",
      "Time taken for 1 epoch 127.25594091415405 sec\n",
      "\n",
      "Epoch 14 Batch 0 Loss 0.0864\n",
      "Epoch 14 Batch 100 Loss 0.0546\n",
      "Epoch 14 Batch 200 Loss 0.0367\n",
      "Epoch 14 Batch 300 Loss 0.0503\n",
      "Epoch 14 Batch 400 Loss 0.0891\n",
      "Epoch 14 Batch 500 Loss 0.0406\n",
      "Epoch 14 Batch 600 Loss 0.1047\n",
      "Epoch 14 Batch 700 Loss 0.0729\n",
      "Epoch 14 Batch 800 Loss 0.0761\n",
      "Epoch 14 Batch 900 Loss 0.0624\n",
      "Epoch 14 Batch 1000 Loss 0.0809\n",
      "Epoch 14 Batch 1100 Loss 0.0899\n",
      "Epoch 14 Batch 1200 Loss 0.0709\n",
      "Epoch 14 Loss 0.0713\n",
      "Time taken for 1 epoch 128.86447191238403 sec\n",
      "\n",
      "Epoch 15 Batch 0 Loss 0.0331\n",
      "Epoch 15 Batch 100 Loss 0.0814\n",
      "Epoch 15 Batch 200 Loss 0.0831\n",
      "Epoch 15 Batch 300 Loss 0.0706\n",
      "Epoch 15 Batch 400 Loss 0.0866\n",
      "Epoch 15 Batch 500 Loss 0.1032\n",
      "Epoch 15 Batch 600 Loss 0.0653\n",
      "Epoch 15 Batch 700 Loss 0.0809\n",
      "Epoch 15 Batch 800 Loss 0.0628\n",
      "Epoch 15 Batch 900 Loss 0.0970\n",
      "Epoch 15 Batch 1000 Loss 0.0834\n",
      "Epoch 15 Batch 1100 Loss 0.0785\n",
      "Epoch 15 Batch 1200 Loss 0.1446\n",
      "Epoch 15 Loss 0.0690\n",
      "Time taken for 1 epoch 127.16622757911682 sec\n",
      "\n",
      "Epoch 16 Batch 0 Loss 0.0634\n",
      "Epoch 16 Batch 100 Loss 0.0521\n",
      "Epoch 16 Batch 200 Loss 0.0474\n",
      "Epoch 16 Batch 300 Loss 0.0541\n",
      "Epoch 16 Batch 400 Loss 0.0542\n",
      "Epoch 16 Batch 500 Loss 0.0703\n",
      "Epoch 16 Batch 600 Loss 0.0748\n",
      "Epoch 16 Batch 700 Loss 0.0805\n",
      "Epoch 16 Batch 800 Loss 0.0553\n",
      "Epoch 16 Batch 900 Loss 0.1023\n",
      "Epoch 16 Batch 1000 Loss 0.0975\n",
      "Epoch 16 Batch 1100 Loss 0.0647\n",
      "Epoch 16 Batch 1200 Loss 0.0300\n",
      "Epoch 16 Loss 0.0662\n",
      "Time taken for 1 epoch 128.7589590549469 sec\n",
      "\n",
      "Epoch 17 Batch 0 Loss 0.0719\n",
      "Epoch 17 Batch 100 Loss 0.0295\n",
      "Epoch 17 Batch 200 Loss 0.0542\n",
      "Epoch 17 Batch 300 Loss 0.0776\n",
      "Epoch 17 Batch 400 Loss 0.0969\n",
      "Epoch 17 Batch 500 Loss 0.0908\n",
      "Epoch 17 Batch 600 Loss 0.0609\n",
      "Epoch 17 Batch 700 Loss 0.0700\n",
      "Epoch 17 Batch 800 Loss 0.0863\n",
      "Epoch 17 Batch 900 Loss 0.0499\n",
      "Epoch 17 Batch 1000 Loss 0.1013\n",
      "Epoch 17 Batch 1100 Loss 0.0899\n",
      "Epoch 17 Batch 1200 Loss 0.0743\n",
      "Epoch 17 Loss 0.0642\n",
      "Time taken for 1 epoch 127.10944557189941 sec\n",
      "\n",
      "Epoch 18 Batch 0 Loss 0.0530\n",
      "Epoch 18 Batch 100 Loss 0.0597\n",
      "Epoch 18 Batch 200 Loss 0.0797\n",
      "Epoch 18 Batch 300 Loss 0.0876\n",
      "Epoch 18 Batch 400 Loss 0.0702\n",
      "Epoch 18 Batch 500 Loss 0.0962\n",
      "Epoch 18 Batch 600 Loss 0.0557\n",
      "Epoch 18 Batch 700 Loss 0.0659\n",
      "Epoch 18 Batch 800 Loss 0.0654\n",
      "Epoch 18 Batch 900 Loss 0.0869\n",
      "Epoch 18 Batch 1000 Loss 0.1158\n",
      "Epoch 18 Batch 1100 Loss 0.0352\n",
      "Epoch 18 Batch 1200 Loss 0.0781\n",
      "Epoch 18 Loss 0.0633\n",
      "Time taken for 1 epoch 128.9286482334137 sec\n",
      "\n",
      "Epoch 19 Batch 0 Loss 0.0802\n",
      "Epoch 19 Batch 100 Loss 0.0446\n",
      "Epoch 19 Batch 200 Loss 0.0716\n",
      "Epoch 19 Batch 300 Loss 0.0245\n",
      "Epoch 19 Batch 400 Loss 0.0574\n",
      "Epoch 19 Batch 500 Loss 0.0409\n",
      "Epoch 19 Batch 600 Loss 0.0734\n",
      "Epoch 19 Batch 700 Loss 0.0830\n",
      "Epoch 19 Batch 800 Loss 0.0525\n",
      "Epoch 19 Batch 900 Loss 0.0711\n",
      "Epoch 19 Batch 1000 Loss 0.0673\n",
      "Epoch 19 Batch 1100 Loss 0.0605\n",
      "Epoch 19 Batch 1200 Loss 0.0646\n",
      "Epoch 19 Loss 0.0612\n",
      "Time taken for 1 epoch 127.02859878540039 sec\n",
      "\n",
      "Epoch 20 Batch 0 Loss 0.0393\n",
      "Epoch 20 Batch 100 Loss 0.0276\n",
      "Epoch 20 Batch 200 Loss 0.0539\n",
      "Epoch 20 Batch 300 Loss 0.0354\n",
      "Epoch 20 Batch 400 Loss 0.0591\n",
      "Epoch 20 Batch 500 Loss 0.0660\n",
      "Epoch 20 Batch 600 Loss 0.0619\n",
      "Epoch 20 Batch 700 Loss 0.0448\n",
      "Epoch 20 Batch 800 Loss 0.0690\n",
      "Epoch 20 Batch 900 Loss 0.0608\n",
      "Epoch 20 Batch 1000 Loss 0.0470\n",
      "Epoch 20 Batch 1100 Loss 0.0764\n",
      "Epoch 20 Batch 1200 Loss 0.0743\n",
      "Epoch 20 Loss 0.0598\n",
      "Time taken for 1 epoch 128.77550315856934 sec\n",
      "\n",
      "Epoch 21 Batch 0 Loss 0.0333\n",
      "Epoch 21 Batch 100 Loss 0.0366\n",
      "Epoch 21 Batch 200 Loss 0.0333\n",
      "Epoch 21 Batch 300 Loss 0.0444\n",
      "Epoch 21 Batch 400 Loss 0.0426\n",
      "Epoch 21 Batch 500 Loss 0.0270\n",
      "Epoch 21 Batch 600 Loss 0.0669\n",
      "Epoch 21 Batch 700 Loss 0.0401\n",
      "Epoch 21 Batch 800 Loss 0.0784\n",
      "Epoch 21 Batch 900 Loss 0.0973\n",
      "Epoch 21 Batch 1000 Loss 0.0823\n",
      "Epoch 21 Batch 1100 Loss 0.0401\n",
      "Epoch 21 Batch 1200 Loss 0.0736\n",
      "Epoch 21 Loss 0.0585\n",
      "Time taken for 1 epoch 126.94369697570801 sec\n",
      "\n",
      "Epoch 22 Batch 0 Loss 0.0517\n",
      "Epoch 22 Batch 100 Loss 0.0571\n",
      "Epoch 22 Batch 200 Loss 0.0588\n",
      "Epoch 22 Batch 300 Loss 0.0367\n",
      "Epoch 22 Batch 400 Loss 0.0393\n",
      "Epoch 22 Batch 500 Loss 0.0367\n",
      "Epoch 22 Batch 600 Loss 0.0577\n",
      "Epoch 22 Batch 700 Loss 0.0538\n",
      "Epoch 22 Batch 800 Loss 0.0570\n",
      "Epoch 22 Batch 900 Loss 0.0604\n",
      "Epoch 22 Batch 1000 Loss 0.0889\n",
      "Epoch 22 Batch 1100 Loss 0.0499\n",
      "Epoch 22 Batch 1200 Loss 0.0884\n",
      "Epoch 22 Loss 0.0566\n",
      "Time taken for 1 epoch 128.90299677848816 sec\n",
      "\n",
      "Epoch 23 Batch 0 Loss 0.0396\n",
      "Epoch 23 Batch 100 Loss 0.0255\n",
      "Epoch 23 Batch 200 Loss 0.0595\n",
      "Epoch 23 Batch 300 Loss 0.0638\n",
      "Epoch 23 Batch 400 Loss 0.0647\n",
      "Epoch 23 Batch 500 Loss 0.0437\n",
      "Epoch 23 Batch 600 Loss 0.0390\n",
      "Epoch 23 Batch 700 Loss 0.0645\n",
      "Epoch 23 Batch 800 Loss 0.0753\n",
      "Epoch 23 Batch 900 Loss 0.0477\n",
      "Epoch 23 Batch 1000 Loss 0.0766\n",
      "Epoch 23 Batch 1100 Loss 0.0802\n",
      "Epoch 23 Batch 1200 Loss 0.0477\n",
      "Epoch 23 Loss 0.0559\n",
      "Time taken for 1 epoch 126.92969918251038 sec\n",
      "\n",
      "Epoch 24 Batch 0 Loss 0.0313\n",
      "Epoch 24 Batch 100 Loss 0.0426\n",
      "Epoch 24 Batch 200 Loss 0.0281\n",
      "Epoch 24 Batch 300 Loss 0.0721\n",
      "Epoch 24 Batch 400 Loss 0.0478\n",
      "Epoch 24 Batch 500 Loss 0.0818\n",
      "Epoch 24 Batch 600 Loss 0.0429\n",
      "Epoch 24 Batch 700 Loss 0.0538\n",
      "Epoch 24 Batch 800 Loss 0.0579\n",
      "Epoch 24 Batch 900 Loss 0.0411\n",
      "Epoch 24 Batch 1000 Loss 0.0671\n",
      "Epoch 24 Batch 1100 Loss 0.0621\n",
      "Epoch 24 Batch 1200 Loss 0.0728\n",
      "Epoch 24 Loss 0.0548\n",
      "Time taken for 1 epoch 128.7264323234558 sec\n",
      "\n",
      "Epoch 25 Batch 0 Loss 0.0365\n",
      "Epoch 25 Batch 100 Loss 0.0460\n",
      "Epoch 25 Batch 200 Loss 0.0469\n",
      "Epoch 25 Batch 300 Loss 0.0443\n",
      "Epoch 25 Batch 400 Loss 0.0551\n",
      "Epoch 25 Batch 500 Loss 0.0352\n",
      "Epoch 25 Batch 600 Loss 0.0452\n",
      "Epoch 25 Batch 700 Loss 0.0754\n",
      "Epoch 25 Batch 800 Loss 0.0870\n",
      "Epoch 25 Batch 900 Loss 0.0261\n",
      "Epoch 25 Batch 1000 Loss 0.0674\n",
      "Epoch 25 Batch 1100 Loss 0.0598\n",
      "Epoch 25 Batch 1200 Loss 0.0549\n",
      "Epoch 25 Loss 0.0539\n",
      "Time taken for 1 epoch 126.88444757461548 sec\n",
      "\n"
     ]
    }
   ],
   "source": [
    "EPOCHS = 25\n",
    "\n",
    "for epoch in range(EPOCHS):\n",
    "  start = time.time()\n",
    "\n",
    "  enc_hidden = encoder.initialize_hidden_state()\n",
    "  total_loss = 0\n",
    "\n",
    "  for (batch, (inp, targ)) in enumerate(dataset.take(steps_per_epoch)):\n",
    "    batch_loss = train_step(inp, targ, enc_hidden)\n",
    "    total_loss += batch_loss\n",
    "\n",
    "    if batch % 100 == 0:\n",
    "      print('Epoch {} Batch {} Loss {:.4f}'.format(epoch + 1,\n",
    "                                                   batch,\n",
    "                                                   batch_loss.numpy()))\n",
    "  # saving (checkpoint) the model every 2 epochs\n",
    "  if (epoch + 1) % 2 == 0:\n",
    "    checkpoint.save(file_prefix = checkpoint_prefix)\n",
    "\n",
    "  print('Epoch {} Loss {:.4f}'.format(epoch + 1,\n",
    "                                      total_loss / steps_per_epoch))\n",
    "  print('Time taken for 1 epoch {} sec\\n'.format(time.time() - start))"
   ]
  },
  {
   "cell_type": "markdown",
   "metadata": {
    "id": "mU3Ce8M6I3rz"
   },
   "source": [
    "## Translate\n",
    "\n",
    "* The evaluate function is similar to the training loop, except we don't use *teacher forcing* here. The input to the decoder at each time step is its previous predictions along with the hidden state and the encoder output.\n",
    "* Stop predicting when the model predicts the *end token*.\n",
    "* And store the *attention weights for every time step*.\n",
    "\n",
    "Note: The encoder output is calculated only once for one input."
   ]
  },
  {
   "cell_type": "code",
   "execution_count": null,
   "metadata": {
    "id": "EbQpyYs13jF_"
   },
   "outputs": [],
   "source": [
    "def evaluate(sentence):\n",
    "  attention_plot = np.zeros((max_length_targ, max_length_inp))\n",
    "\n",
    "  sentence = preprocess_sentence(sentence)\n",
    "\n",
    "  inputs = [inp_lang.word_index[i] for i in sentence.split(' ')]\n",
    "  inputs = tf.keras.preprocessing.sequence.pad_sequences([inputs],\n",
    "                                                         maxlen=max_length_inp,\n",
    "                                                         padding='post')\n",
    "  inputs = tf.convert_to_tensor(inputs)\n",
    "\n",
    "  result = ''\n",
    "\n",
    "  hidden = [tf.zeros((1, units)) for i in range(2)]\n",
    "  enc_hidden = encoder(inputs, hidden)\n",
    "\n",
    "  forward_hidden, backward_hidden = enc_hidden\n",
    "\n",
    "  dec_input = tf.expand_dims([targ_lang.word_index['<start>']], 0)\n",
    "\n",
    "  for t in range(max_length_targ):\n",
    "    predictions, dec_hidden = decoder(dec_input, forward_hidden, backward_hidden)\n",
    "\n",
    "    # storing the attention weights to plot later on\n",
    "    predicted_id = tf.argmax(predictions[0]).numpy()\n",
    "    result += targ_lang.index_word[predicted_id] + ' '\n",
    "\n",
    "    if targ_lang.index_word[predicted_id] == '<end>':\n",
    "      return result, sentence\n",
    "\n",
    "    # the predicted ID is fed back into the model\n",
    "    dec_input = tf.expand_dims([predicted_id], 0)\n",
    "\n",
    "  return result, sentence"
   ]
  },
  {
   "cell_type": "code",
   "execution_count": null,
   "metadata": {
    "id": "sl9zUHzg3jGI"
   },
   "outputs": [],
   "source": [
    "def translate(sentence):\n",
    "  result, sentence = evaluate(sentence)\n",
    "\n",
    "  print('Input: %s' % (sentence))\n",
    "  print('Predicted translation: {}'.format(result))"
   ]
  },
  {
   "cell_type": "markdown",
   "metadata": {
    "id": "n250XbnjOaqP"
   },
   "source": [
    "## Restore the latest checkpoint and test"
   ]
  },
  {
   "cell_type": "code",
   "execution_count": null,
   "metadata": {
    "colab": {
     "base_uri": "https://localhost:8080/"
    },
    "id": "UJpT9D5_OgP6",
    "outputId": "473f4e1a-6877-4fbc-cc66-c1c47a0cfc29"
   },
   "outputs": [
    {
     "data": {
      "text/plain": [
       "<tensorflow.python.checkpoint.checkpoint.CheckpointLoadStatus at 0x7f64b241c3a0>"
      ]
     },
     "execution_count": 59,
     "metadata": {},
     "output_type": "execute_result"
    }
   ],
   "source": [
    "# restoring the latest checkpoint in checkpoint_dir\n",
    "# checkpoint.restore(tf.train.latest_checkpoint(checkpoint_dir))"
   ]
  },
  {
   "cell_type": "code",
   "execution_count": null,
   "metadata": {
    "colab": {
     "base_uri": "https://localhost:8080/"
    },
    "id": "WrAM0FDomq3E",
    "outputId": "59ed9dfc-cdc7-4085-902e-bc7e132db72c"
   },
   "outputs": [
    {
     "name": "stdout",
     "output_type": "stream",
     "text": [
      "Input: <start> здесь хорошо . <end>\n",
      "Predicted translation: it's nice here . <end> \n"
     ]
    }
   ],
   "source": [
    "translate('Здесь хорошо.')"
   ]
  },
  {
   "cell_type": "code",
   "execution_count": null,
   "metadata": {
    "colab": {
     "base_uri": "https://localhost:8080/"
    },
    "id": "5bhFfwcIMX5i",
    "outputId": "5332e5f5-90df-401b-ce3b-3718e985dfd1"
   },
   "outputs": [
    {
     "name": "stdout",
     "output_type": "stream",
     "text": [
      "Input: <start> я не смогу поехать . <end>\n",
      "Predicted translation: i can't go . <end> \n"
     ]
    }
   ],
   "source": [
    "translate('Я не смогу поехать.')"
   ]
  },
  {
   "cell_type": "code",
   "execution_count": null,
   "metadata": {
    "colab": {
     "base_uri": "https://localhost:8080/"
    },
    "id": "zSx2iM36EZQZ",
    "outputId": "56d285b7-9990-4aa8-8a53-6b05ec89d7bd"
   },
   "outputs": [
    {
     "name": "stdout",
     "output_type": "stream",
     "text": [
      "Input: <start> вы еще дома ? <end>\n",
      "Predicted translation: are you still at home ? <end> \n"
     ]
    }
   ],
   "source": [
    "translate(u'Вы еще дома?')"
   ]
  },
  {
   "cell_type": "code",
   "execution_count": null,
   "metadata": {
    "colab": {
     "base_uri": "https://localhost:8080/"
    },
    "id": "A3LLCx3ZE0Ls",
    "outputId": "c47e6f0e-d37f-45c9-8f9a-cc994e2efbe0"
   },
   "outputs": [
    {
     "name": "stdout",
     "output_type": "stream",
     "text": [
      "Input: <start> вы вс еще дома ? <end>\n",
      "Predicted translation: are you still at home ? <end> \n"
     ]
    }
   ],
   "source": [
    "translate(u'Вы всё еще дома?')"
   ]
  },
  {
   "cell_type": "code",
   "execution_count": null,
   "metadata": {
    "colab": {
     "base_uri": "https://localhost:8080/"
    },
    "id": "DUQVLVqUE1YW",
    "outputId": "ae952952-d5f2-4418-8cfc-a0d0cc3c991b"
   },
   "outputs": [
    {
     "name": "stdout",
     "output_type": "stream",
     "text": [
      "Input: <start> попробуй сделать это . <end>\n",
      "Predicted translation: try and do it . <end> \n"
     ]
    }
   ],
   "source": [
    "translate(u'Попробуй сделать это.')"
   ]
  },
  {
   "cell_type": "code",
   "execution_count": null,
   "metadata": {
    "colab": {
     "base_uri": "https://localhost:8080/"
    },
    "id": "f09_hUFx9EJh",
    "outputId": "219d9d61-1245-4bc5-db40-4a3641f6862e"
   },
   "outputs": [
    {
     "name": "stdout",
     "output_type": "stream",
     "text": [
      "Input: <start> я люблю , когда идет снег . <end>\n",
      "Predicted translation: i like rain and snow . <end> \n"
     ]
    }
   ],
   "source": [
    "translate(u'Я люблю, когда идет снег.')"
   ]
  },
  {
   "cell_type": "code",
   "execution_count": null,
   "metadata": {
    "colab": {
     "base_uri": "https://localhost:8080/"
    },
    "id": "e7c5p8rmkHQG",
    "outputId": "64641f8b-9a23-49e8-e993-7575743386a3"
   },
   "outputs": [
    {
     "name": "stdout",
     "output_type": "stream",
     "text": [
      "Input: <start> я никогда такого не делаю . <end>\n",
      "Predicted translation: i never do that . <end> \n"
     ]
    }
   ],
   "source": [
    "translate(u'Я никогда такого не делаю.')"
   ]
  },
  {
   "cell_type": "code",
   "execution_count": null,
   "metadata": {
    "colab": {
     "base_uri": "https://localhost:8080/"
    },
    "id": "TxGkYLKgA33D",
    "outputId": "dc793d7c-7688-4ec6-d79f-c1e6f2713906"
   },
   "outputs": [
    {
     "name": "stdout",
     "output_type": "stream",
     "text": [
      "Input: <start> я хочу поехать в отпуск . <end>\n",
      "Predicted translation: i want to go to go to go to go to \n"
     ]
    }
   ],
   "source": [
    "translate('Я хочу поехать в отпуск.')"
   ]
  },
  {
   "cell_type": "code",
   "execution_count": null,
   "metadata": {
    "colab": {
     "base_uri": "https://localhost:8080/"
    },
    "id": "uZbjLtv2BwGZ",
    "outputId": "044da953-4460-490f-b246-650460251e50"
   },
   "outputs": [
    {
     "name": "stdout",
     "output_type": "stream",
     "text": [
      "Input: <start> я тебя люблю <end>\n",
      "Predicted translation: i love you . <end> \n"
     ]
    }
   ],
   "source": [
    "translate('Я тебя люблю')"
   ]
  },
  {
   "cell_type": "code",
   "execution_count": null,
   "metadata": {
    "colab": {
     "base_uri": "https://localhost:8080/"
    },
    "id": "EsB5BRQdBTKD",
    "outputId": "88a7cc3c-49af-4bd0-816e-a44150142c1c"
   },
   "outputs": [
    {
     "name": "stdout",
     "output_type": "stream",
     "text": [
      "Input: <start> у меня есть собака <end>\n",
      "Predicted translation: i have a dog . <end> \n"
     ]
    }
   ],
   "source": [
    "translate('У меня есть собака')"
   ]
  },
  {
   "cell_type": "code",
   "execution_count": null,
   "metadata": {
    "colab": {
     "base_uri": "https://localhost:8080/"
    },
    "id": "2xJPd5a2C_Ov",
    "outputId": "9d962e10-0b82-4e3a-bea4-7b2a571de30a"
   },
   "outputs": [
    {
     "name": "stdout",
     "output_type": "stream",
     "text": [
      "Input: <start> как у тебя дела ? <end>\n",
      "Predicted translation: how are you ? <end> \n"
     ]
    }
   ],
   "source": [
    "translate('Как у тебя дела?')"
   ]
  },
  {
   "cell_type": "code",
   "execution_count": null,
   "metadata": {
    "colab": {
     "base_uri": "https://localhost:8080/"
    },
    "id": "ZBcSHjAC2hyI",
    "outputId": "b62a0f43-5a9a-416b-eb9c-24b799bc2cf4"
   },
   "outputs": [
    {
     "name": "stdout",
     "output_type": "stream",
     "text": [
      "Input: <start> жизнь прекрасна <end>\n",
      "Predicted translation: life is wonderful . <end> \n"
     ]
    }
   ],
   "source": [
    "translate('Жизнь прекрасна')"
   ]
  },
  {
   "cell_type": "code",
   "execution_count": null,
   "metadata": {
    "colab": {
     "base_uri": "https://localhost:8080/"
    },
    "id": "DhRnaJOG25_m",
    "outputId": "d602e8e0-a13e-478d-cf98-83d484029566"
   },
   "outputs": [
    {
     "name": "stdout",
     "output_type": "stream",
     "text": [
      "Input: <start> когда у тебя день рождения ? <end>\n",
      "Predicted translation: when's your birthday ? <end> \n"
     ]
    }
   ],
   "source": [
    "translate(u'Когда у тебя день рождения?')"
   ]
  },
  {
   "cell_type": "code",
   "execution_count": null,
   "metadata": {
    "id": "oQkpI2M-6d5m"
   },
   "outputs": [],
   "source": []
  },
  {
   "cell_type": "markdown",
   "metadata": {
    "id": "Reh7_D9w5Ab6"
   },
   "source": [
    "В целом не так плохо, кажется, что перевод получается лучше, чем если брать сеть с однонаправленным gru."
   ]
  }
 ],
 "metadata": {
  "accelerator": "GPU",
  "colab": {
   "provenance": []
  },
  "kernelspec": {
   "display_name": "Python 3 (ipykernel)",
   "language": "python",
   "name": "python3"
  },
  "language_info": {
   "codemirror_mode": {
    "name": "ipython",
    "version": 3
   },
   "file_extension": ".py",
   "mimetype": "text/x-python",
   "name": "python",
   "nbconvert_exporter": "python",
   "pygments_lexer": "ipython3",
   "version": "3.10.13"
  }
 },
 "nbformat": 4,
 "nbformat_minor": 1
}
